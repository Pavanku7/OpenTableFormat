{
 "cells": [
  {
   "cell_type": "markdown",
   "metadata": {
    "application/vnd.databricks.v1+cell": {
     "cellMetadata": {
      "byteLimit": 2048000,
      "rowLimit": 10000
     },
     "inputWidgets": {},
     "nuid": "ae8e9671-cf53-4ea0-aa98-811cbe620096",
     "showTitle": false,
     "tableResultSettingsMap": {},
     "title": ""
    }
   },
   "source": [
    "### Popular OpenStorgae Format\n",
    "AWS - Apache Iceberg\n",
    "Azure - Delta Lake \n",
    "GCP - Apache Hudi"
   ]
  },
  {
   "cell_type": "markdown",
   "metadata": {
    "application/vnd.databricks.v1+cell": {
     "cellMetadata": {
      "byteLimit": 2048000,
      "rowLimit": 10000
     },
     "inputWidgets": {},
     "nuid": "3423d742-16b1-4a3d-bbef-890399b7c93c",
     "showTitle": false,
     "tableResultSettingsMap": {},
     "title": ""
    }
   },
   "source": [
    "### Data Reading csv file"
   ]
  },
  {
   "cell_type": "code",
   "execution_count": 0,
   "metadata": {
    "application/vnd.databricks.v1+cell": {
     "cellMetadata": {
      "byteLimit": 2048000,
      "rowLimit": 10000
     },
     "inputWidgets": {},
     "nuid": "cf44d618-1935-4e6a-bf98-102432d4fb1c",
     "showTitle": false,
     "tableResultSettingsMap": {},
     "title": ""
    }
   },
   "outputs": [
    {
     "output_type": "display_data",
     "data": {
      "text/html": [
       "<style scoped>\n",
       "  .table-result-container {\n",
       "    max-height: 300px;\n",
       "    overflow: auto;\n",
       "  }\n",
       "  table, th, td {\n",
       "    border: 1px solid black;\n",
       "    border-collapse: collapse;\n",
       "  }\n",
       "  th, td {\n",
       "    padding: 5px;\n",
       "  }\n",
       "  th {\n",
       "    text-align: left;\n",
       "  }\n",
       "</style><div class='table-result-container'><table class='table-result'><thead style='background-color: white'><tr><th>Branch_ID</th><th>Dealer_ID</th><th>Model_ID</th><th>Revenue</th><th>Units_Sold</th><th>Date_ID</th><th>Month</th><th>Year</th><th>BranchName</th><th>DealerName</th><th>Product_Name</th><th>Date</th></tr></thead><tbody><tr><td>BR0006</td><td>DLR0168</td><td>Ren-M128</td><td>12971088</td><td>3</td><td>DT01236</td><td>5</td><td>2020</td><td>AC Cars Motors</td><td>Saab Motors</td><td>Renault</td><td>5/20/2020 0:00</td></tr><tr><td>BR0011</td><td>DLR0069</td><td>Vol-M256</td><td>14181510</td><td>3</td><td>DT01225</td><td>5</td><td>2020</td><td>Acura Motors</td><td>Geo Motors</td><td>Volkswagen</td><td>5/9/2020 0:00</td></tr><tr><td>BR0021</td><td>DLR0070</td><td>Vol-M257</td><td>7738896</td><td>1</td><td>DT01226</td><td>5</td><td>2020</td><td>Aixam-Mega (including Arola) Motors</td><td>Gilbern Motors</td><td>Volkswagen</td><td>5/10/2020 0:00</td></tr><tr><td>BR0031</td><td>DLR0071</td><td>Vol-M258</td><td>10067596</td><td>2</td><td>DT01227</td><td>5</td><td>2020</td><td>Alfa Romeo Motors</td><td>Ginetta Motors</td><td>Volkswagen</td><td>5/11/2020 0:00</td></tr><tr><td>BR0041</td><td>DLR0072</td><td>Vol-M259</td><td>13055810</td><td>2</td><td>DT01228</td><td>5</td><td>2020</td><td>Alpine Motors</td><td>Glas Motors</td><td>Volkswagen</td><td>5/12/2020 0:00</td></tr><tr><td>BR0051</td><td>DLR0073</td><td>Vol-M260</td><td>2224368</td><td>1</td><td>DT01229</td><td>5</td><td>2020</td><td>Alvis Motors</td><td>GMC Motors</td><td>Volkswagen</td><td>5/13/2020 0:00</td></tr><tr><td>BR0061</td><td>DLR0074</td><td>Nis-M261</td><td>11270580</td><td>3</td><td>DT01230</td><td>5</td><td>2020</td><td>AMC, Eagle Motors</td><td>GTA Spano Motors</td><td>Nissan</td><td>5/14/2020 0:00</td></tr><tr><td>BR0066</td><td>DLR0169</td><td>Ren-M129</td><td>693559</td><td>1</td><td>DT01237</td><td>5</td><td>2020</td><td>Acura Motors</td><td>SAIC Motor Motors</td><td>Renault</td><td>5/21/2020 0:00</td></tr><tr><td>BR0071</td><td>DLR0075</td><td>Nis-M262</td><td>18784710</td><td>3</td><td>DT01231</td><td>5</td><td>2020</td><td>Anadol Motors</td><td>Gumpert Motors</td><td>Nissan</td><td>5/15/2020 0:00</td></tr><tr><td>BR0081</td><td>DLR0076</td><td>Nis-M263</td><td>2354637</td><td>3</td><td>DT01232</td><td>5</td><td>2020</td><td>Ariel Motors</td><td>Healey Motors</td><td>Nissan</td><td>5/16/2020 0:00</td></tr><tr><td>BR0121</td><td>DLR0080</td><td>Nis-M267</td><td>5421046</td><td>2</td><td>DT01236</td><td>5</td><td>2020</td><td>Aston Martin Motors</td><td>Hindustan Motors</td><td>Nissan</td><td>5/20/2020 0:00</td></tr><tr><td>BR0126</td><td>DLR0170</td><td>Ren-M130</td><td>8445560</td><td>2</td><td>DT01238</td><td>5</td><td>2020</td><td>Aixam-Mega (including Arola) Motors</td><td>Saleen Motors</td><td>Renault</td><td>5/22/2020 0:00</td></tr><tr><td>BR0131</td><td>DLR0081</td><td>Nis-M268</td><td>28034733</td><td>3</td><td>DT01237</td><td>5</td><td>2020</td><td>Audi Motors</td><td>Holden Motors</td><td>Nissan</td><td>5/21/2020 0:00</td></tr><tr><td>BR0141</td><td>DLR0082</td><td>Nis-M269</td><td>17522592</td><td>2</td><td>DT01238</td><td>5</td><td>2020</td><td>Autobianchi Motors</td><td>Honda Motors</td><td>Nissan</td><td>5/22/2020 0:00</td></tr><tr><td>BR0151</td><td>DLR0083</td><td>Nis-M270</td><td>25901364</td><td>3</td><td>DT01239</td><td>5</td><td>2020</td><td>Auto-Union Motors</td><td>Honda India Motors</td><td>Nissan</td><td>5/23/2020 0:00</td></tr><tr><td>BR0181</td><td>DLR0086</td><td>Sko-M273</td><td>7915343</td><td>1</td><td>DT01242</td><td>5</td><td>2020</td><td>Bitter Motors</td><td>Hummer Motors</td><td>Skoda</td><td>5/26/2020 0:00</td></tr><tr><td>BR0186</td><td>DLR0171</td><td>Ren-M131</td><td>7078128</td><td>1</td><td>DT01239</td><td>5</td><td>2020</td><td>Alfa Romeo Motors</td><td>Samsung Motors</td><td>Renault</td><td>5/23/2020 0:00</td></tr><tr><td>BR0191</td><td>DLR0087</td><td>Sko-M274</td><td>24183663</td><td>3</td><td>DT01243</td><td>5</td><td>2020</td><td>BMW Motors</td><td>Hyundai Motors</td><td>Skoda</td><td>5/27/2020 0:00</td></tr><tr><td>BR0201</td><td>DLR0088</td><td>Mit-M275</td><td>847952</td><td>2</td><td>DT01244</td><td>5</td><td>2020</td><td>Bond Motors</td><td>IFA (including Trabant, Wartburg, Barkas) Motors</td><td>Mitsubishi</td><td>5/28/2020 0:00</td></tr><tr><td>BR0211</td><td>DLR0089</td><td>Mit-M276</td><td>2887860</td><td>1</td><td>DT01245</td><td>5</td><td>2020</td><td>Borgward (including Goliath and Lloyd) Motors</td><td>Infiniti Motors</td><td>Mitsubishi</td><td>5/29/2020 0:00</td></tr><tr><td>BR0221</td><td>DLR0090</td><td>Mit-M277</td><td>24243636</td><td>3</td><td>DT01246</td><td>5</td><td>2020</td><td>Bristol Motors</td><td>null</td><td>Mitsubishi</td><td>5/30/2020 0:00</td></tr><tr><td>BR0306</td><td>DLR0173</td><td>Toy-M133</td><td>12612492</td><td>3</td><td>DT01241</td><td>5</td><td>2020</td><td>Alvis Motors</td><td>Santa Matilde Motors</td><td>Toyota</td><td>5/25/2020 0:00</td></tr><tr><td>BR0426</td><td>DLR0175</td><td>Vol-M135</td><td>7718804</td><td>1</td><td>DT01243</td><td>5</td><td>2020</td><td>Anadol Motors</td><td>Saturn Motors</td><td>Volkswagen</td><td>5/27/2020 0:00</td></tr><tr><td>BR0486</td><td>DLR0176</td><td>Vol-M136</td><td>9950264</td><td>1</td><td>DT01244</td><td>5</td><td>2020</td><td>Ariel Motors</td><td>Scion Motors</td><td>Volkswagen</td><td>5/28/2020 0:00</td></tr><tr><td>BR0546</td><td>DLR0177</td><td>Mar-M137</td><td>11543998</td><td>2</td><td>DT01245</td><td>5</td><td>2020</td><td>ARO Motors</td><td>Seat Motors</td><td>Maruti Suzuki</td><td>5/29/2020 0:00</td></tr><tr><td>BR0606</td><td>DLR0178</td><td>Mar-M138</td><td>14029425</td><td>3</td><td>DT01246</td><td>5</td><td>2020</td><td>Artega Motors</td><td>Shelby SuperCars Motors</td><td>Maruti Suzuki</td><td>5/30/2020 0:00</td></tr><tr><td>BR0666</td><td>DLR0179</td><td>Mar-M139</td><td>16170344</td><td>2</td><td>DT01247</td><td>5</td><td>2020</td><td>Asia Motors Motors</td><td>Simca Motors</td><td>Maruti Suzuki</td><td>5/31/2020 0:00</td></tr><tr><td>BR1075</td><td>DLR0028</td><td>Nis-M265</td><td>946626</td><td>1</td><td>DT01096</td><td>1</td><td>2020</td><td>Lexus Motors</td><td>Buick Motors</td><td>Nissan</td><td>1/1/2020 0:00</td></tr><tr><td>BR1105</td><td>DLR0031</td><td>Nis-M268</td><td>2349414</td><td>3</td><td>DT01099</td><td>1</td><td>2020</td><td>Lotus Motors</td><td>Caterham Motors</td><td>Nissan</td><td>1/4/2020 0:00</td></tr><tr><td>BR1125</td><td>DLR0033</td><td>Nis-M270</td><td>5501066</td><td>2</td><td>DT01101</td><td>1</td><td>2020</td><td>LuAZ Motors</td><td>Chevrolet Motors</td><td>Nissan</td><td>1/6/2020 0:00</td></tr><tr><td>BR1135</td><td>DLR0034</td><td>Sko-M271</td><td>15299630</td><td>2</td><td>DT01102</td><td>1</td><td>2020</td><td>Lynx Motors</td><td>Chevrolet India Motors</td><td>Skoda</td><td>1/7/2020 0:00</td></tr><tr><td>BR1145</td><td>DLR0035</td><td>Sko-M272</td><td>573260</td><td>1</td><td>DT01103</td><td>1</td><td>2020</td><td>Mahindra Motors</td><td>Chrysler Motors</td><td>Skoda</td><td>1/8/2020 0:00</td></tr><tr><td>BR1155</td><td>DLR0036</td><td>Sko-M273</td><td>6991308</td><td>2</td><td>DT01104</td><td>1</td><td>2020</td><td>Marcos Motors</td><td>Chrysler Europe Motors</td><td>Skoda</td><td>1/9/2020 0:00</td></tr><tr><td>BR1165</td><td>DLR0037</td><td>Sko-M274</td><td>4594208</td><td>1</td><td>DT01105</td><td>1</td><td>2020</td><td>Marlin Motors</td><td>Citroën Motors</td><td>Skoda</td><td>1/10/2020 0:00</td></tr><tr><td>BR1175</td><td>DLR0038</td><td>Mit-M275</td><td>6379479</td><td>3</td><td>DT01106</td><td>1</td><td>2020</td><td>Maruti Motors</td><td>Cizeta-Moroder Motors</td><td>Mitsubishi</td><td>1/11/2020 0:00</td></tr><tr><td>BR1195</td><td>DLR0040</td><td>Mit-M277</td><td>12731434</td><td>2</td><td>DT01108</td><td>1</td><td>2020</td><td>Mastretta Motors</td><td>Daewoo, Saehan, Chevrolet Korea Motors</td><td>Mitsubishi</td><td>1/13/2020 0:00</td></tr><tr><td>BR1200</td><td>DLR0207</td><td>Ren-M127</td><td>5217794</td><td>1</td><td>DT01096</td><td>1</td><td>2020</td><td>Mastretta Motors</td><td>Westfield Motors</td><td>Renault</td><td>1/1/2020 0:00</td></tr><tr><td>BR1205</td><td>DLR0041</td><td>BMW-M1</td><td>20119176</td><td>3</td><td>DT01109</td><td>1</td><td>2020</td><td>Matra (including Deutsch-Bonnet, René Bonnet) Motors</td><td>DAF Motors</td><td>BMW</td><td>1/14/2020 0:00</td></tr><tr><td>BR1210</td><td>DLR0208</td><td>Ren-M128</td><td>9250976</td><td>2</td><td>DT01097</td><td>1</td><td>2020</td><td>Matra (including Deutsch-Bonnet, René Bonnet) Motors</td><td>Wiesmann Motors</td><td>Renault</td><td>1/2/2020 0:00</td></tr><tr><td>BR1215</td><td>DLR0042</td><td>BMW-M2</td><td>12564672</td><td>3</td><td>DT01110</td><td>1</td><td>2020</td><td>Mazda Motors</td><td>Daihatsu Motors</td><td>BMW</td><td>1/15/2020 0:00</td></tr><tr><td>BR1220</td><td>DLR0209</td><td>Ren-M129</td><td>3678913</td><td>1</td><td>DT01098</td><td>1</td><td>2020</td><td>Mazda Motors</td><td>Zastava Motors</td><td>Renault</td><td>1/3/2020 0:00</td></tr><tr><td>BR1230</td><td>DLR0210</td><td>Ren-M130</td><td>16850778</td><td>2</td><td>DT01099</td><td>1</td><td>2020</td><td>Mazzanti Motors</td><td>ZAZ Motors</td><td>Renault</td><td>1/4/2020 0:00</td></tr><tr><td>BR1235</td><td>DLR0044</td><td>BMW-M4</td><td>7034814</td><td>2</td><td>DT01112</td><td>1</td><td>2020</td><td>McLaren Motors</td><td>null</td><td>BMW</td><td>1/17/2020 0:00</td></tr><tr><td>BR1240</td><td>DLR0211</td><td>Ren-M131</td><td>2717264</td><td>1</td><td>DT01100</td><td>1</td><td>2020</td><td>McLaren Motors</td><td>ZIL Motors</td><td>Renault</td><td>1/5/2020 0:00</td></tr><tr><td>BR1245</td><td>DLR0045</td><td>BMW-M5</td><td>3141089</td><td>1</td><td>DT01113</td><td>1</td><td>2020</td><td>Mercedes-Benz (including Maybach) Motors</td><td>Delahaye Motors</td><td>BMW</td><td>1/18/2020 0:00</td></tr><tr><td>BR1255</td><td>DLR0046</td><td>Mer-M6</td><td>4815214</td><td>2</td><td>DT01114</td><td>1</td><td>2020</td><td>Mercury Motors</td><td>DeLorean Motors</td><td>Mercedes-Benz</td><td>1/19/2020 0:00</td></tr><tr><td>BR1270</td><td>DLR0214</td><td>Toy-M134</td><td>22982112</td><td>3</td><td>DT01103</td><td>1</td><td>2020</td><td>Merkur Motors</td><td>Horch Motors</td><td>Toyota</td><td>1/8/2020 0:00</td></tr><tr><td>BR1275</td><td>DLR0048</td><td>Mer-M8</td><td>1681622</td><td>1</td><td>DT01116</td><td>1</td><td>2020</td><td>Messerschmitt Motors</td><td>De Tomaso Motors</td><td>Mercedes-Benz</td><td>1/21/2020 0:00</td></tr><tr><td>BR1290</td><td>DLR0216</td><td>Vol-M136</td><td>19641387</td><td>3</td><td>DT01105</td><td>1</td><td>2020</td><td>Mia Motors</td><td>Maybach  Motors</td><td>Volkswagen</td><td>1/10/2020 0:00</td></tr><tr><td>BR1295</td><td>DLR0050</td><td>Jee-M10</td><td>14558850</td><td>2</td><td>DT01118</td><td>1</td><td>2020</td><td>Micro Motors</td><td>Donkervoort Motors</td><td>Jeep</td><td>1/23/2020 0:00</td></tr><tr><td>BR1300</td><td>DLR0217</td><td>Mar-M137</td><td>8749140</td><td>3</td><td>DT01106</td><td>1</td><td>2020</td><td>Micro Motors</td><td>Izh  Motors</td><td>Maruti Suzuki</td><td>1/11/2020 0:00</td></tr><tr><td>BR1305</td><td>DLR0051</td><td>Jee-M11</td><td>4375707</td><td>3</td><td>DT01119</td><td>1</td><td>2020</td><td>Mini Motors</td><td>Edsel Motors</td><td>Jeep</td><td>1/24/2020 0:00</td></tr><tr><td>BR1310</td><td>DLR0218</td><td>Mar-M138</td><td>1791030</td><td>1</td><td>DT01107</td><td>1</td><td>2020</td><td>Mini Motors</td><td>Lagonda  Motors</td><td>Maruti Suzuki</td><td>1/12/2020 0:00</td></tr><tr><td>BR1315</td><td>DLR0052</td><td>Jee-M12</td><td>6981696</td><td>3</td><td>DT01120</td><td>1</td><td>2020</td><td>Mitsubishi Motors</td><td>e.GO Mobile Motors</td><td>Jeep</td><td>1/25/2020 0:00</td></tr><tr><td>BR1320</td><td>DLR0219</td><td>Mar-M139</td><td>15720604</td><td>2</td><td>DT01108</td><td>1</td><td>2020</td><td>Mitsubishi Motors</td><td>MG  Motors</td><td>Maruti Suzuki</td><td>1/13/2020 0:00</td></tr><tr><td>BR1325</td><td>DLR0053</td><td>Jee-M13</td><td>11820578</td><td>2</td><td>DT01121</td><td>1</td><td>2020</td><td>Monica Motors</td><td>Eicher Polaris Motors</td><td>Jeep</td><td>1/26/2020 0:00</td></tr><tr><td>BR1330</td><td>DLR0220</td><td>Mar-M140</td><td>4505054</td><td>2</td><td>DT01109</td><td>1</td><td>2020</td><td>Monica Motors</td><td>Morris  Motors</td><td>Maruti Suzuki</td><td>1/14/2020 0:00</td></tr><tr><td>BR1340</td><td>DLR0221</td><td>Mar-M141</td><td>7636791</td><td>1</td><td>DT01110</td><td>1</td><td>2020</td><td>Monteverdi Motors</td><td>Austin  Motors</td><td>Maruti Suzuki</td><td>1/15/2020 0:00</td></tr><tr><td>BR1360</td><td>DLR0223</td><td>Mar-M143</td><td>10719476</td><td>2</td><td>DT01112</td><td>1</td><td>2020</td><td>Moskwitch Motors</td><td>Wolseley  Motors</td><td>Maruti Suzuki</td><td>1/17/2020 0:00</td></tr><tr><td>BR1365</td><td>DLR0057</td><td>For-M17</td><td>1729269</td><td>1</td><td>DT01125</td><td>1</td><td>2020</td><td>Nash Motors</td><td>Fiat Motors</td><td>Ford</td><td>1/30/2020 0:00</td></tr><tr><td>BR1370</td><td>DLR0224</td><td>Mar-M144</td><td>22596384</td><td>3</td><td>DT01113</td><td>1</td><td>2020</td><td>Nash Motors</td><td>Standard  Motors</td><td>Maruti Suzuki</td><td>1/18/2020 0:00</td></tr><tr><td>BR1380</td><td>DLR0225</td><td>Mar-M145</td><td>5143059</td><td>3</td><td>DT01114</td><td>1</td><td>2020</td><td>Naza Motors</td><td>Talbot  Motors</td><td>Maruti Suzuki</td><td>1/19/2020 0:00</td></tr><tr><td>BR1390</td><td>DLR0226</td><td>Mar-M146</td><td>18375622</td><td>2</td><td>DT01115</td><td>1</td><td>2020</td><td>Nissan Motors</td><td>Das Motors</td><td>Maruti Suzuki</td><td>1/20/2020 0:00</td></tr><tr><td>BR1395</td><td>DLR0060</td><td>For-M20</td><td>3826662</td><td>2</td><td>DT01128</td><td>2</td><td>2020</td><td>Nissan India Motors</td><td>Fisker, Karma Motors</td><td>Ford</td><td>2/2/2020 0:00</td></tr><tr><td>BR1405</td><td>DLR0061</td><td>For-M21</td><td>8119439</td><td>1</td><td>DT01129</td><td>2</td><td>2020</td><td>Noble Motors</td><td>Ford America Motors</td><td>Ford</td><td>2/3/2020 0:00</td></tr><tr><td>BR1410</td><td>DLR0228</td><td>Mar-M148</td><td>22715907</td><td>3</td><td>DT01117</td><td>1</td><td>2020</td><td>Noble Motors</td><td>Deccan Motors</td><td>Maruti Suzuki</td><td>1/22/2020 0:00</td></tr><tr><td>BR1420</td><td>DLR0229</td><td>Mar-M149</td><td>3362029</td><td>1</td><td>DT01118</td><td>1</td><td>2020</td><td>NSU Motors</td><td>Herald Motors</td><td>Maruti Suzuki</td><td>1/23/2020 0:00</td></tr><tr><td>BR1425</td><td>DLR0063</td><td>For-M23</td><td>19571838</td><td>3</td><td>DT01131</td><td>2</td><td>2020</td><td>Oldsmobile Motors</td><td>Ford do Brasil Motors</td><td>Ford</td><td>2/5/2020 0:00</td></tr><tr><td>BR1435</td><td>DLR0064</td><td>For-M24</td><td>8184657</td><td>1</td><td>DT01132</td><td>2</td><td>2020</td><td>Oltcit Motors</td><td>Ford Europe Motors</td><td>Ford</td><td>2/6/2020 0:00</td></tr><tr><td>BR1440</td><td>DLR0231</td><td>Mar-M151</td><td>12650379</td><td>3</td><td>DT01120</td><td>1</td><td>2020</td><td>Oltcit Motors</td><td>Atlantic Motor Company</td><td>Maruti Suzuki</td><td>1/25/2020 0:00</td></tr><tr><td>BR1445</td><td>DLR0065</td><td>For-M25</td><td>17788070</td><td>2</td><td>DT01133</td><td>2</td><td>2020</td><td>Opel Motors</td><td>Ford India Motors</td><td>Ford</td><td>2/7/2020 0:00</td></tr><tr><td>BR1450</td><td>DLR0232</td><td>Mar-M152</td><td>19474533</td><td>3</td><td>DT01121</td><td>1</td><td>2020</td><td>Opel Motors</td><td>2008 NRHP-listed</td><td>Maruti Suzuki</td><td>1/26/2020 0:00</td></tr><tr><td>BR1455</td><td>DLR0066</td><td>For-M26</td><td>5109932</td><td>2</td><td>DT01134</td><td>2</td><td>2020</td><td>Packard Motors</td><td>Freightliner Motors</td><td>Ford</td><td>2/8/2020 0:00</td></tr><tr><td>BR1460</td><td>DLR0233</td><td>Hyu-M153</td><td>5377184</td><td>2</td><td>DT01122</td><td>1</td><td>2020</td><td>Packard Motors</td><td>Blankinship Motor Company Building</td><td>Hyundai</td><td>1/27/2020 0:00</td></tr><tr><td>BR1465</td><td>DLR0067</td><td>Lin-M27</td><td>756130</td><td>2</td><td>DT01135</td><td>2</td><td>2020</td><td>Pagani Motors</td><td>FSO Motors</td><td>Lincoln</td><td>2/9/2020 0:00</td></tr><tr><td>BR1475</td><td>DLR0068</td><td>Lin-M28</td><td>14722240</td><td>2</td><td>DT01136</td><td>2</td><td>2020</td><td>Panhard Motors</td><td>GAZ Motors</td><td>Lincoln</td><td>2/10/2020 0:00</td></tr><tr><td>BR1480</td><td>DLR0235</td><td>Hyu-M155</td><td>16603584</td><td>2</td><td>DT01124</td><td>1</td><td>2020</td><td>Panhard Motors</td><td>Buick Automobile Company Building</td><td>Hyundai</td><td>1/29/2020 0:00</td></tr><tr><td>BR1485</td><td>DLR0069</td><td>Lin-M29</td><td>6430716</td><td>1</td><td>DT01137</td><td>2</td><td>2020</td><td>Panoz Motors</td><td>Geo Motors</td><td>Lincoln</td><td>2/11/2020 0:00</td></tr><tr><td>BR1495</td><td>DLR0070</td><td>Lin-M30</td><td>3396415</td><td>1</td><td>DT01138</td><td>2</td><td>2020</td><td>Panther Motors</td><td>Gilbern Motors</td><td>Lincoln</td><td>2/12/2020 0:00</td></tr><tr><td>BR1510</td><td>DLR0238</td><td>Hyu-M158</td><td>21888990</td><td>3</td><td>DT01127</td><td>2</td><td>2020</td><td>Peel Motors</td><td>Cass Motor Sales</td><td>Hyundai</td><td>2/1/2020 0:00</td></tr><tr><td>BR1515</td><td>DLR0072</td><td>Cad-M32</td><td>14614923</td><td>3</td><td>DT01140</td><td>2</td><td>2020</td><td>Perodua Motors</td><td>Glas Motors</td><td>Cadillac</td><td>2/14/2020 0:00</td></tr><tr><td>BR1520</td><td>DLR0239</td><td>Hyu-M159</td><td>28839432</td><td>3</td><td>DT01128</td><td>2</td><td>2020</td><td>Perodua Motors</td><td>Claremore Auto Dealership</td><td>Hyundai</td><td>2/2/2020 0:00</td></tr><tr><td>BR1525</td><td>DLR0073</td><td>Cad-M33</td><td>5345219</td><td>1</td><td>DT01141</td><td>2</td><td>2020</td><td>Peugeot Motors</td><td>GMC Motors</td><td>Cadillac</td><td>2/15/2020 0:00</td></tr><tr><td>BR1530</td><td>DLR0240</td><td>Hyu-M160</td><td>4257825</td><td>3</td><td>DT01129</td><td>2</td><td>2020</td><td>Peugeot Motors</td><td>Clemens Automobile Company Building</td><td>Hyundai</td><td>2/3/2020 0:00</td></tr><tr><td>BR1540</td><td>DLR0241</td><td>Hyu-M161</td><td>19956204</td><td>3</td><td>DT01130</td><td>2</td><td>2020</td><td>PGO Motors</td><td>Colman Automotive Building</td><td>Hyundai</td><td>2/4/2020 0:00</td></tr><tr><td>BR1545</td><td>DLR0075</td><td>Cad-M35</td><td>11312878</td><td>2</td><td>DT01143</td><td>2</td><td>2020</td><td>Piaggio Motors</td><td>Gumpert Motors</td><td>Cadillac</td><td>2/17/2020 0:00</td></tr><tr><td>BR1555</td><td>DLR0076</td><td>Cad-M36</td><td>20868240</td><td>3</td><td>DT01144</td><td>2</td><td>2020</td><td>Plymouth Motors</td><td>Healey Motors</td><td>Cadillac</td><td>2/18/2020 0:00</td></tr><tr><td>BR1560</td><td>DLR0243</td><td>Hyu-M163</td><td>9443751</td><td>3</td><td>DT01132</td><td>2</td><td>2020</td><td>Plymouth Motors</td><td>Howard Motor Company Building</td><td>Hyundai</td><td>2/6/2020 0:00</td></tr><tr><td>BR1565</td><td>DLR0077</td><td>Cad-M37</td><td>14383581</td><td>3</td><td>DT01145</td><td>2</td><td>2020</td><td>Polestar Motors</td><td>Heinkel Motors</td><td>Cadillac</td><td>2/19/2020 0:00</td></tr><tr><td>BR1570</td><td>DLR0244</td><td>Hyu-M164</td><td>12224948</td><td>2</td><td>DT01133</td><td>2</td><td>2020</td><td>Polestar Motors</td><td>Hupmobile Building</td><td>Hyundai</td><td>2/7/2020 0:00</td></tr><tr><td>BR1575</td><td>DLR0078</td><td>Cad-M38</td><td>8234393</td><td>1</td><td>DT01146</td><td>2</td><td>2020</td><td>Pontiac, Asüna Motors</td><td>Hennessey Motors</td><td>Cadillac</td><td>2/20/2020 0:00</td></tr><tr><td>BR1585</td><td>DLR0079</td><td>Cad-M39</td><td>2785750</td><td>1</td><td>DT01147</td><td>2</td><td>2020</td><td>Porsche Motors</td><td>Hillman Motors</td><td>Cadillac</td><td>2/21/2020 0:00</td></tr><tr><td>BR1590</td><td>DLR0246</td><td>Mah-M166</td><td>4431368</td><td>1</td><td>DT01135</td><td>2</td><td>2020</td><td>Porsche Motors</td><td>Jones Motor Company</td><td>Mahindra</td><td>2/9/2020 0:00</td></tr><tr><td>BR1595</td><td>DLR0080</td><td>Che-M40</td><td>7968813</td><td>1</td><td>DT01148</td><td>2</td><td>2020</td><td>Premier Motors</td><td>Hindustan Motors</td><td>Chevrolet</td><td>2/22/2020 0:00</td></tr><tr><td>BR1600</td><td>DLR0247</td><td>Mah-M167</td><td>112246</td><td>1</td><td>DT01136</td><td>2</td><td>2020</td><td>Premier Motors</td><td>Kindel Building</td><td>Mahindra</td><td>2/10/2020 0:00</td></tr></tbody></table></div>"
      ]
     },
     "metadata": {
      "application/vnd.databricks.v1+output": {
       "addedWidgets": {},
       "aggData": [],
       "aggError": "",
       "aggOverflow": false,
       "aggSchema": [],
       "aggSeriesLimitReached": false,
       "aggType": "",
       "arguments": {},
       "columnCustomDisplayInfos": {},
       "data": [
        [
         "BR0006",
         "DLR0168",
         "Ren-M128",
         12971088,
         3,
         "DT01236",
         5,
         2020,
         "AC Cars Motors",
         "Saab Motors",
         "Renault",
         "5/20/2020 0:00"
        ],
        [
         "BR0011",
         "DLR0069",
         "Vol-M256",
         14181510,
         3,
         "DT01225",
         5,
         2020,
         "Acura Motors",
         "Geo Motors",
         "Volkswagen",
         "5/9/2020 0:00"
        ],
        [
         "BR0021",
         "DLR0070",
         "Vol-M257",
         7738896,
         1,
         "DT01226",
         5,
         2020,
         "Aixam-Mega (including Arola) Motors",
         "Gilbern Motors",
         "Volkswagen",
         "5/10/2020 0:00"
        ],
        [
         "BR0031",
         "DLR0071",
         "Vol-M258",
         10067596,
         2,
         "DT01227",
         5,
         2020,
         "Alfa Romeo Motors",
         "Ginetta Motors",
         "Volkswagen",
         "5/11/2020 0:00"
        ],
        [
         "BR0041",
         "DLR0072",
         "Vol-M259",
         13055810,
         2,
         "DT01228",
         5,
         2020,
         "Alpine Motors",
         "Glas Motors",
         "Volkswagen",
         "5/12/2020 0:00"
        ],
        [
         "BR0051",
         "DLR0073",
         "Vol-M260",
         2224368,
         1,
         "DT01229",
         5,
         2020,
         "Alvis Motors",
         "GMC Motors",
         "Volkswagen",
         "5/13/2020 0:00"
        ],
        [
         "BR0061",
         "DLR0074",
         "Nis-M261",
         11270580,
         3,
         "DT01230",
         5,
         2020,
         "AMC, Eagle Motors",
         "GTA Spano Motors",
         "Nissan",
         "5/14/2020 0:00"
        ],
        [
         "BR0066",
         "DLR0169",
         "Ren-M129",
         693559,
         1,
         "DT01237",
         5,
         2020,
         "Acura Motors",
         "SAIC Motor Motors",
         "Renault",
         "5/21/2020 0:00"
        ],
        [
         "BR0071",
         "DLR0075",
         "Nis-M262",
         18784710,
         3,
         "DT01231",
         5,
         2020,
         "Anadol Motors",
         "Gumpert Motors",
         "Nissan",
         "5/15/2020 0:00"
        ],
        [
         "BR0081",
         "DLR0076",
         "Nis-M263",
         2354637,
         3,
         "DT01232",
         5,
         2020,
         "Ariel Motors",
         "Healey Motors",
         "Nissan",
         "5/16/2020 0:00"
        ],
        [
         "BR0121",
         "DLR0080",
         "Nis-M267",
         5421046,
         2,
         "DT01236",
         5,
         2020,
         "Aston Martin Motors",
         "Hindustan Motors",
         "Nissan",
         "5/20/2020 0:00"
        ],
        [
         "BR0126",
         "DLR0170",
         "Ren-M130",
         8445560,
         2,
         "DT01238",
         5,
         2020,
         "Aixam-Mega (including Arola) Motors",
         "Saleen Motors",
         "Renault",
         "5/22/2020 0:00"
        ],
        [
         "BR0131",
         "DLR0081",
         "Nis-M268",
         28034733,
         3,
         "DT01237",
         5,
         2020,
         "Audi Motors",
         "Holden Motors",
         "Nissan",
         "5/21/2020 0:00"
        ],
        [
         "BR0141",
         "DLR0082",
         "Nis-M269",
         17522592,
         2,
         "DT01238",
         5,
         2020,
         "Autobianchi Motors",
         "Honda Motors",
         "Nissan",
         "5/22/2020 0:00"
        ],
        [
         "BR0151",
         "DLR0083",
         "Nis-M270",
         25901364,
         3,
         "DT01239",
         5,
         2020,
         "Auto-Union Motors",
         "Honda India Motors",
         "Nissan",
         "5/23/2020 0:00"
        ],
        [
         "BR0181",
         "DLR0086",
         "Sko-M273",
         7915343,
         1,
         "DT01242",
         5,
         2020,
         "Bitter Motors",
         "Hummer Motors",
         "Skoda",
         "5/26/2020 0:00"
        ],
        [
         "BR0186",
         "DLR0171",
         "Ren-M131",
         7078128,
         1,
         "DT01239",
         5,
         2020,
         "Alfa Romeo Motors",
         "Samsung Motors",
         "Renault",
         "5/23/2020 0:00"
        ],
        [
         "BR0191",
         "DLR0087",
         "Sko-M274",
         24183663,
         3,
         "DT01243",
         5,
         2020,
         "BMW Motors",
         "Hyundai Motors",
         "Skoda",
         "5/27/2020 0:00"
        ],
        [
         "BR0201",
         "DLR0088",
         "Mit-M275",
         847952,
         2,
         "DT01244",
         5,
         2020,
         "Bond Motors",
         "IFA (including Trabant, Wartburg, Barkas) Motors",
         "Mitsubishi",
         "5/28/2020 0:00"
        ],
        [
         "BR0211",
         "DLR0089",
         "Mit-M276",
         2887860,
         1,
         "DT01245",
         5,
         2020,
         "Borgward (including Goliath and Lloyd) Motors",
         "Infiniti Motors",
         "Mitsubishi",
         "5/29/2020 0:00"
        ],
        [
         "BR0221",
         "DLR0090",
         "Mit-M277",
         24243636,
         3,
         "DT01246",
         5,
         2020,
         "Bristol Motors",
         null,
         "Mitsubishi",
         "5/30/2020 0:00"
        ],
        [
         "BR0306",
         "DLR0173",
         "Toy-M133",
         12612492,
         3,
         "DT01241",
         5,
         2020,
         "Alvis Motors",
         "Santa Matilde Motors",
         "Toyota",
         "5/25/2020 0:00"
        ],
        [
         "BR0426",
         "DLR0175",
         "Vol-M135",
         7718804,
         1,
         "DT01243",
         5,
         2020,
         "Anadol Motors",
         "Saturn Motors",
         "Volkswagen",
         "5/27/2020 0:00"
        ],
        [
         "BR0486",
         "DLR0176",
         "Vol-M136",
         9950264,
         1,
         "DT01244",
         5,
         2020,
         "Ariel Motors",
         "Scion Motors",
         "Volkswagen",
         "5/28/2020 0:00"
        ],
        [
         "BR0546",
         "DLR0177",
         "Mar-M137",
         11543998,
         2,
         "DT01245",
         5,
         2020,
         "ARO Motors",
         "Seat Motors",
         "Maruti Suzuki",
         "5/29/2020 0:00"
        ],
        [
         "BR0606",
         "DLR0178",
         "Mar-M138",
         14029425,
         3,
         "DT01246",
         5,
         2020,
         "Artega Motors",
         "Shelby SuperCars Motors",
         "Maruti Suzuki",
         "5/30/2020 0:00"
        ],
        [
         "BR0666",
         "DLR0179",
         "Mar-M139",
         16170344,
         2,
         "DT01247",
         5,
         2020,
         "Asia Motors Motors",
         "Simca Motors",
         "Maruti Suzuki",
         "5/31/2020 0:00"
        ],
        [
         "BR1075",
         "DLR0028",
         "Nis-M265",
         946626,
         1,
         "DT01096",
         1,
         2020,
         "Lexus Motors",
         "Buick Motors",
         "Nissan",
         "1/1/2020 0:00"
        ],
        [
         "BR1105",
         "DLR0031",
         "Nis-M268",
         2349414,
         3,
         "DT01099",
         1,
         2020,
         "Lotus Motors",
         "Caterham Motors",
         "Nissan",
         "1/4/2020 0:00"
        ],
        [
         "BR1125",
         "DLR0033",
         "Nis-M270",
         5501066,
         2,
         "DT01101",
         1,
         2020,
         "LuAZ Motors",
         "Chevrolet Motors",
         "Nissan",
         "1/6/2020 0:00"
        ],
        [
         "BR1135",
         "DLR0034",
         "Sko-M271",
         15299630,
         2,
         "DT01102",
         1,
         2020,
         "Lynx Motors",
         "Chevrolet India Motors",
         "Skoda",
         "1/7/2020 0:00"
        ],
        [
         "BR1145",
         "DLR0035",
         "Sko-M272",
         573260,
         1,
         "DT01103",
         1,
         2020,
         "Mahindra Motors",
         "Chrysler Motors",
         "Skoda",
         "1/8/2020 0:00"
        ],
        [
         "BR1155",
         "DLR0036",
         "Sko-M273",
         6991308,
         2,
         "DT01104",
         1,
         2020,
         "Marcos Motors",
         "Chrysler Europe Motors",
         "Skoda",
         "1/9/2020 0:00"
        ],
        [
         "BR1165",
         "DLR0037",
         "Sko-M274",
         4594208,
         1,
         "DT01105",
         1,
         2020,
         "Marlin Motors",
         "Citroën Motors",
         "Skoda",
         "1/10/2020 0:00"
        ],
        [
         "BR1175",
         "DLR0038",
         "Mit-M275",
         6379479,
         3,
         "DT01106",
         1,
         2020,
         "Maruti Motors",
         "Cizeta-Moroder Motors",
         "Mitsubishi",
         "1/11/2020 0:00"
        ],
        [
         "BR1195",
         "DLR0040",
         "Mit-M277",
         12731434,
         2,
         "DT01108",
         1,
         2020,
         "Mastretta Motors",
         "Daewoo, Saehan, Chevrolet Korea Motors",
         "Mitsubishi",
         "1/13/2020 0:00"
        ],
        [
         "BR1200",
         "DLR0207",
         "Ren-M127",
         5217794,
         1,
         "DT01096",
         1,
         2020,
         "Mastretta Motors",
         "Westfield Motors",
         "Renault",
         "1/1/2020 0:00"
        ],
        [
         "BR1205",
         "DLR0041",
         "BMW-M1",
         20119176,
         3,
         "DT01109",
         1,
         2020,
         "Matra (including Deutsch-Bonnet, René Bonnet) Motors",
         "DAF Motors",
         "BMW",
         "1/14/2020 0:00"
        ],
        [
         "BR1210",
         "DLR0208",
         "Ren-M128",
         9250976,
         2,
         "DT01097",
         1,
         2020,
         "Matra (including Deutsch-Bonnet, René Bonnet) Motors",
         "Wiesmann Motors",
         "Renault",
         "1/2/2020 0:00"
        ],
        [
         "BR1215",
         "DLR0042",
         "BMW-M2",
         12564672,
         3,
         "DT01110",
         1,
         2020,
         "Mazda Motors",
         "Daihatsu Motors",
         "BMW",
         "1/15/2020 0:00"
        ],
        [
         "BR1220",
         "DLR0209",
         "Ren-M129",
         3678913,
         1,
         "DT01098",
         1,
         2020,
         "Mazda Motors",
         "Zastava Motors",
         "Renault",
         "1/3/2020 0:00"
        ],
        [
         "BR1230",
         "DLR0210",
         "Ren-M130",
         16850778,
         2,
         "DT01099",
         1,
         2020,
         "Mazzanti Motors",
         "ZAZ Motors",
         "Renault",
         "1/4/2020 0:00"
        ],
        [
         "BR1235",
         "DLR0044",
         "BMW-M4",
         7034814,
         2,
         "DT01112",
         1,
         2020,
         "McLaren Motors",
         null,
         "BMW",
         "1/17/2020 0:00"
        ],
        [
         "BR1240",
         "DLR0211",
         "Ren-M131",
         2717264,
         1,
         "DT01100",
         1,
         2020,
         "McLaren Motors",
         "ZIL Motors",
         "Renault",
         "1/5/2020 0:00"
        ],
        [
         "BR1245",
         "DLR0045",
         "BMW-M5",
         3141089,
         1,
         "DT01113",
         1,
         2020,
         "Mercedes-Benz (including Maybach) Motors",
         "Delahaye Motors",
         "BMW",
         "1/18/2020 0:00"
        ],
        [
         "BR1255",
         "DLR0046",
         "Mer-M6",
         4815214,
         2,
         "DT01114",
         1,
         2020,
         "Mercury Motors",
         "DeLorean Motors",
         "Mercedes-Benz",
         "1/19/2020 0:00"
        ],
        [
         "BR1270",
         "DLR0214",
         "Toy-M134",
         22982112,
         3,
         "DT01103",
         1,
         2020,
         "Merkur Motors",
         "Horch Motors",
         "Toyota",
         "1/8/2020 0:00"
        ],
        [
         "BR1275",
         "DLR0048",
         "Mer-M8",
         1681622,
         1,
         "DT01116",
         1,
         2020,
         "Messerschmitt Motors",
         "De Tomaso Motors",
         "Mercedes-Benz",
         "1/21/2020 0:00"
        ],
        [
         "BR1290",
         "DLR0216",
         "Vol-M136",
         19641387,
         3,
         "DT01105",
         1,
         2020,
         "Mia Motors",
         "Maybach  Motors",
         "Volkswagen",
         "1/10/2020 0:00"
        ],
        [
         "BR1295",
         "DLR0050",
         "Jee-M10",
         14558850,
         2,
         "DT01118",
         1,
         2020,
         "Micro Motors",
         "Donkervoort Motors",
         "Jeep",
         "1/23/2020 0:00"
        ],
        [
         "BR1300",
         "DLR0217",
         "Mar-M137",
         8749140,
         3,
         "DT01106",
         1,
         2020,
         "Micro Motors",
         "Izh  Motors",
         "Maruti Suzuki",
         "1/11/2020 0:00"
        ],
        [
         "BR1305",
         "DLR0051",
         "Jee-M11",
         4375707,
         3,
         "DT01119",
         1,
         2020,
         "Mini Motors",
         "Edsel Motors",
         "Jeep",
         "1/24/2020 0:00"
        ],
        [
         "BR1310",
         "DLR0218",
         "Mar-M138",
         1791030,
         1,
         "DT01107",
         1,
         2020,
         "Mini Motors",
         "Lagonda  Motors",
         "Maruti Suzuki",
         "1/12/2020 0:00"
        ],
        [
         "BR1315",
         "DLR0052",
         "Jee-M12",
         6981696,
         3,
         "DT01120",
         1,
         2020,
         "Mitsubishi Motors",
         "e.GO Mobile Motors",
         "Jeep",
         "1/25/2020 0:00"
        ],
        [
         "BR1320",
         "DLR0219",
         "Mar-M139",
         15720604,
         2,
         "DT01108",
         1,
         2020,
         "Mitsubishi Motors",
         "MG  Motors",
         "Maruti Suzuki",
         "1/13/2020 0:00"
        ],
        [
         "BR1325",
         "DLR0053",
         "Jee-M13",
         11820578,
         2,
         "DT01121",
         1,
         2020,
         "Monica Motors",
         "Eicher Polaris Motors",
         "Jeep",
         "1/26/2020 0:00"
        ],
        [
         "BR1330",
         "DLR0220",
         "Mar-M140",
         4505054,
         2,
         "DT01109",
         1,
         2020,
         "Monica Motors",
         "Morris  Motors",
         "Maruti Suzuki",
         "1/14/2020 0:00"
        ],
        [
         "BR1340",
         "DLR0221",
         "Mar-M141",
         7636791,
         1,
         "DT01110",
         1,
         2020,
         "Monteverdi Motors",
         "Austin  Motors",
         "Maruti Suzuki",
         "1/15/2020 0:00"
        ],
        [
         "BR1360",
         "DLR0223",
         "Mar-M143",
         10719476,
         2,
         "DT01112",
         1,
         2020,
         "Moskwitch Motors",
         "Wolseley  Motors",
         "Maruti Suzuki",
         "1/17/2020 0:00"
        ],
        [
         "BR1365",
         "DLR0057",
         "For-M17",
         1729269,
         1,
         "DT01125",
         1,
         2020,
         "Nash Motors",
         "Fiat Motors",
         "Ford",
         "1/30/2020 0:00"
        ],
        [
         "BR1370",
         "DLR0224",
         "Mar-M144",
         22596384,
         3,
         "DT01113",
         1,
         2020,
         "Nash Motors",
         "Standard  Motors",
         "Maruti Suzuki",
         "1/18/2020 0:00"
        ],
        [
         "BR1380",
         "DLR0225",
         "Mar-M145",
         5143059,
         3,
         "DT01114",
         1,
         2020,
         "Naza Motors",
         "Talbot  Motors",
         "Maruti Suzuki",
         "1/19/2020 0:00"
        ],
        [
         "BR1390",
         "DLR0226",
         "Mar-M146",
         18375622,
         2,
         "DT01115",
         1,
         2020,
         "Nissan Motors",
         "Das Motors",
         "Maruti Suzuki",
         "1/20/2020 0:00"
        ],
        [
         "BR1395",
         "DLR0060",
         "For-M20",
         3826662,
         2,
         "DT01128",
         2,
         2020,
         "Nissan India Motors",
         "Fisker, Karma Motors",
         "Ford",
         "2/2/2020 0:00"
        ],
        [
         "BR1405",
         "DLR0061",
         "For-M21",
         8119439,
         1,
         "DT01129",
         2,
         2020,
         "Noble Motors",
         "Ford America Motors",
         "Ford",
         "2/3/2020 0:00"
        ],
        [
         "BR1410",
         "DLR0228",
         "Mar-M148",
         22715907,
         3,
         "DT01117",
         1,
         2020,
         "Noble Motors",
         "Deccan Motors",
         "Maruti Suzuki",
         "1/22/2020 0:00"
        ],
        [
         "BR1420",
         "DLR0229",
         "Mar-M149",
         3362029,
         1,
         "DT01118",
         1,
         2020,
         "NSU Motors",
         "Herald Motors",
         "Maruti Suzuki",
         "1/23/2020 0:00"
        ],
        [
         "BR1425",
         "DLR0063",
         "For-M23",
         19571838,
         3,
         "DT01131",
         2,
         2020,
         "Oldsmobile Motors",
         "Ford do Brasil Motors",
         "Ford",
         "2/5/2020 0:00"
        ],
        [
         "BR1435",
         "DLR0064",
         "For-M24",
         8184657,
         1,
         "DT01132",
         2,
         2020,
         "Oltcit Motors",
         "Ford Europe Motors",
         "Ford",
         "2/6/2020 0:00"
        ],
        [
         "BR1440",
         "DLR0231",
         "Mar-M151",
         12650379,
         3,
         "DT01120",
         1,
         2020,
         "Oltcit Motors",
         "Atlantic Motor Company",
         "Maruti Suzuki",
         "1/25/2020 0:00"
        ],
        [
         "BR1445",
         "DLR0065",
         "For-M25",
         17788070,
         2,
         "DT01133",
         2,
         2020,
         "Opel Motors",
         "Ford India Motors",
         "Ford",
         "2/7/2020 0:00"
        ],
        [
         "BR1450",
         "DLR0232",
         "Mar-M152",
         19474533,
         3,
         "DT01121",
         1,
         2020,
         "Opel Motors",
         "2008 NRHP-listed",
         "Maruti Suzuki",
         "1/26/2020 0:00"
        ],
        [
         "BR1455",
         "DLR0066",
         "For-M26",
         5109932,
         2,
         "DT01134",
         2,
         2020,
         "Packard Motors",
         "Freightliner Motors",
         "Ford",
         "2/8/2020 0:00"
        ],
        [
         "BR1460",
         "DLR0233",
         "Hyu-M153",
         5377184,
         2,
         "DT01122",
         1,
         2020,
         "Packard Motors",
         "Blankinship Motor Company Building",
         "Hyundai",
         "1/27/2020 0:00"
        ],
        [
         "BR1465",
         "DLR0067",
         "Lin-M27",
         756130,
         2,
         "DT01135",
         2,
         2020,
         "Pagani Motors",
         "FSO Motors",
         "Lincoln",
         "2/9/2020 0:00"
        ],
        [
         "BR1475",
         "DLR0068",
         "Lin-M28",
         14722240,
         2,
         "DT01136",
         2,
         2020,
         "Panhard Motors",
         "GAZ Motors",
         "Lincoln",
         "2/10/2020 0:00"
        ],
        [
         "BR1480",
         "DLR0235",
         "Hyu-M155",
         16603584,
         2,
         "DT01124",
         1,
         2020,
         "Panhard Motors",
         "Buick Automobile Company Building",
         "Hyundai",
         "1/29/2020 0:00"
        ],
        [
         "BR1485",
         "DLR0069",
         "Lin-M29",
         6430716,
         1,
         "DT01137",
         2,
         2020,
         "Panoz Motors",
         "Geo Motors",
         "Lincoln",
         "2/11/2020 0:00"
        ],
        [
         "BR1495",
         "DLR0070",
         "Lin-M30",
         3396415,
         1,
         "DT01138",
         2,
         2020,
         "Panther Motors",
         "Gilbern Motors",
         "Lincoln",
         "2/12/2020 0:00"
        ],
        [
         "BR1510",
         "DLR0238",
         "Hyu-M158",
         21888990,
         3,
         "DT01127",
         2,
         2020,
         "Peel Motors",
         "Cass Motor Sales",
         "Hyundai",
         "2/1/2020 0:00"
        ],
        [
         "BR1515",
         "DLR0072",
         "Cad-M32",
         14614923,
         3,
         "DT01140",
         2,
         2020,
         "Perodua Motors",
         "Glas Motors",
         "Cadillac",
         "2/14/2020 0:00"
        ],
        [
         "BR1520",
         "DLR0239",
         "Hyu-M159",
         28839432,
         3,
         "DT01128",
         2,
         2020,
         "Perodua Motors",
         "Claremore Auto Dealership",
         "Hyundai",
         "2/2/2020 0:00"
        ],
        [
         "BR1525",
         "DLR0073",
         "Cad-M33",
         5345219,
         1,
         "DT01141",
         2,
         2020,
         "Peugeot Motors",
         "GMC Motors",
         "Cadillac",
         "2/15/2020 0:00"
        ],
        [
         "BR1530",
         "DLR0240",
         "Hyu-M160",
         4257825,
         3,
         "DT01129",
         2,
         2020,
         "Peugeot Motors",
         "Clemens Automobile Company Building",
         "Hyundai",
         "2/3/2020 0:00"
        ],
        [
         "BR1540",
         "DLR0241",
         "Hyu-M161",
         19956204,
         3,
         "DT01130",
         2,
         2020,
         "PGO Motors",
         "Colman Automotive Building",
         "Hyundai",
         "2/4/2020 0:00"
        ],
        [
         "BR1545",
         "DLR0075",
         "Cad-M35",
         11312878,
         2,
         "DT01143",
         2,
         2020,
         "Piaggio Motors",
         "Gumpert Motors",
         "Cadillac",
         "2/17/2020 0:00"
        ],
        [
         "BR1555",
         "DLR0076",
         "Cad-M36",
         20868240,
         3,
         "DT01144",
         2,
         2020,
         "Plymouth Motors",
         "Healey Motors",
         "Cadillac",
         "2/18/2020 0:00"
        ],
        [
         "BR1560",
         "DLR0243",
         "Hyu-M163",
         9443751,
         3,
         "DT01132",
         2,
         2020,
         "Plymouth Motors",
         "Howard Motor Company Building",
         "Hyundai",
         "2/6/2020 0:00"
        ],
        [
         "BR1565",
         "DLR0077",
         "Cad-M37",
         14383581,
         3,
         "DT01145",
         2,
         2020,
         "Polestar Motors",
         "Heinkel Motors",
         "Cadillac",
         "2/19/2020 0:00"
        ],
        [
         "BR1570",
         "DLR0244",
         "Hyu-M164",
         12224948,
         2,
         "DT01133",
         2,
         2020,
         "Polestar Motors",
         "Hupmobile Building",
         "Hyundai",
         "2/7/2020 0:00"
        ],
        [
         "BR1575",
         "DLR0078",
         "Cad-M38",
         8234393,
         1,
         "DT01146",
         2,
         2020,
         "Pontiac, Asüna Motors",
         "Hennessey Motors",
         "Cadillac",
         "2/20/2020 0:00"
        ],
        [
         "BR1585",
         "DLR0079",
         "Cad-M39",
         2785750,
         1,
         "DT01147",
         2,
         2020,
         "Porsche Motors",
         "Hillman Motors",
         "Cadillac",
         "2/21/2020 0:00"
        ],
        [
         "BR1590",
         "DLR0246",
         "Mah-M166",
         4431368,
         1,
         "DT01135",
         2,
         2020,
         "Porsche Motors",
         "Jones Motor Company",
         "Mahindra",
         "2/9/2020 0:00"
        ],
        [
         "BR1595",
         "DLR0080",
         "Che-M40",
         7968813,
         1,
         "DT01148",
         2,
         2020,
         "Premier Motors",
         "Hindustan Motors",
         "Chevrolet",
         "2/22/2020 0:00"
        ],
        [
         "BR1600",
         "DLR0247",
         "Mah-M167",
         112246,
         1,
         "DT01136",
         2,
         2020,
         "Premier Motors",
         "Kindel Building",
         "Mahindra",
         "2/10/2020 0:00"
        ]
       ],
       "datasetInfos": [],
       "dbfsResultPath": null,
       "isJsonSchema": true,
       "metadata": {},
       "overflow": false,
       "plotOptions": {
        "customPlotOptions": {},
        "displayType": "table",
        "pivotAggregation": null,
        "pivotColumns": null,
        "xColumns": null,
        "yColumns": null
       },
       "removedWidgets": [],
       "schema": [
        {
         "metadata": "{}",
         "name": "Branch_ID",
         "type": "\"string\""
        },
        {
         "metadata": "{}",
         "name": "Dealer_ID",
         "type": "\"string\""
        },
        {
         "metadata": "{}",
         "name": "Model_ID",
         "type": "\"string\""
        },
        {
         "metadata": "{}",
         "name": "Revenue",
         "type": "\"integer\""
        },
        {
         "metadata": "{}",
         "name": "Units_Sold",
         "type": "\"integer\""
        },
        {
         "metadata": "{}",
         "name": "Date_ID",
         "type": "\"string\""
        },
        {
         "metadata": "{}",
         "name": "Month",
         "type": "\"integer\""
        },
        {
         "metadata": "{}",
         "name": "Year",
         "type": "\"integer\""
        },
        {
         "metadata": "{}",
         "name": "BranchName",
         "type": "\"string\""
        },
        {
         "metadata": "{}",
         "name": "DealerName",
         "type": "\"string\""
        },
        {
         "metadata": "{}",
         "name": "Product_Name",
         "type": "\"string\""
        },
        {
         "metadata": "{}",
         "name": "Date",
         "type": "\"string\""
        }
       ],
       "type": "table"
      }
     },
     "output_type": "display_data"
    }
   ],
   "source": [
    "%python\n",
    "df = spark.read.format(\"csv\")\\\n",
    ".option(\"header\",True)\\\n",
    ".option(\"inferSchema\",True)\\\n",
    ".load('/FileStore/OpenTableFormat/rawdata/sales_data_first.csv')\n",
    "\n",
    "display(df)"
   ]
  },
  {
   "cell_type": "code",
   "execution_count": 0,
   "metadata": {
    "application/vnd.databricks.v1+cell": {
     "cellMetadata": {
      "byteLimit": 2048000,
      "rowLimit": 10000
     },
     "inputWidgets": {},
     "nuid": "3132a002-337d-4c38-bdf9-760774cc262c",
     "showTitle": false,
     "tableResultSettingsMap": {},
     "title": ""
    }
   },
   "outputs": [
    {
     "output_type": "display_data",
     "data": {
      "text/plain": [
       "\u001B[0;31m---------------------------------------------------------------------------\u001B[0m\n",
       "\u001B[0;31mAnalysisException\u001B[0m                         Traceback (most recent call last)\n",
       "File \u001B[0;32m<command-1853423176225449>:5\u001B[0m\n",
       "\u001B[1;32m      1\u001B[0m \u001B[38;5;124;03m'''\u001B[39;00m\n",
       "\u001B[1;32m      2\u001B[0m \u001B[38;5;124;03mconvert the above df into delta format\u001B[39;00m\n",
       "\u001B[1;32m      3\u001B[0m \u001B[38;5;124;03m* we can provide path till folder level, we cant give the filename when writing into delta format '''\u001B[39;00m\n",
       "\u001B[0;32m----> 5\u001B[0m df\u001B[38;5;241m.\u001B[39mwrite\u001B[38;5;241m.\u001B[39mformat(\u001B[38;5;124m\"\u001B[39m\u001B[38;5;124mdelta\u001B[39m\u001B[38;5;124m\"\u001B[39m)\\\n",
       "\u001B[1;32m      6\u001B[0m     \u001B[38;5;241m.\u001B[39moption(\u001B[38;5;124m\"\u001B[39m\u001B[38;5;124mpath\u001B[39m\u001B[38;5;124m\"\u001B[39m,\u001B[38;5;124m\"\u001B[39m\u001B[38;5;124m/FileStore/OpenTableFormat/sinkdata/sales_data\u001B[39m\u001B[38;5;124m\"\u001B[39m)\\\n",
       "\u001B[1;32m      7\u001B[0m         \u001B[38;5;241m.\u001B[39msave()\n",
       "\n",
       "File \u001B[0;32m/databricks/spark/python/pyspark/instrumentation_utils.py:48\u001B[0m, in \u001B[0;36m_wrap_function.<locals>.wrapper\u001B[0;34m(*args, **kwargs)\u001B[0m\n",
       "\u001B[1;32m     46\u001B[0m start \u001B[38;5;241m=\u001B[39m time\u001B[38;5;241m.\u001B[39mperf_counter()\n",
       "\u001B[1;32m     47\u001B[0m \u001B[38;5;28;01mtry\u001B[39;00m:\n",
       "\u001B[0;32m---> 48\u001B[0m     res \u001B[38;5;241m=\u001B[39m \u001B[43mfunc\u001B[49m\u001B[43m(\u001B[49m\u001B[38;5;241;43m*\u001B[39;49m\u001B[43margs\u001B[49m\u001B[43m,\u001B[49m\u001B[43m \u001B[49m\u001B[38;5;241;43m*\u001B[39;49m\u001B[38;5;241;43m*\u001B[39;49m\u001B[43mkwargs\u001B[49m\u001B[43m)\u001B[49m\n",
       "\u001B[1;32m     49\u001B[0m     logger\u001B[38;5;241m.\u001B[39mlog_success(\n",
       "\u001B[1;32m     50\u001B[0m         module_name, class_name, function_name, time\u001B[38;5;241m.\u001B[39mperf_counter() \u001B[38;5;241m-\u001B[39m start, signature\n",
       "\u001B[1;32m     51\u001B[0m     )\n",
       "\u001B[1;32m     52\u001B[0m     \u001B[38;5;28;01mreturn\u001B[39;00m res\n",
       "\n",
       "File \u001B[0;32m/databricks/spark/python/pyspark/sql/readwriter.py:1395\u001B[0m, in \u001B[0;36mDataFrameWriter.save\u001B[0;34m(self, path, format, mode, partitionBy, **options)\u001B[0m\n",
       "\u001B[1;32m   1393\u001B[0m     \u001B[38;5;28mself\u001B[39m\u001B[38;5;241m.\u001B[39mformat(\u001B[38;5;28mformat\u001B[39m)\n",
       "\u001B[1;32m   1394\u001B[0m \u001B[38;5;28;01mif\u001B[39;00m path \u001B[38;5;129;01mis\u001B[39;00m \u001B[38;5;28;01mNone\u001B[39;00m:\n",
       "\u001B[0;32m-> 1395\u001B[0m     \u001B[38;5;28;43mself\u001B[39;49m\u001B[38;5;241;43m.\u001B[39;49m\u001B[43m_jwrite\u001B[49m\u001B[38;5;241;43m.\u001B[39;49m\u001B[43msave\u001B[49m\u001B[43m(\u001B[49m\u001B[43m)\u001B[49m\n",
       "\u001B[1;32m   1396\u001B[0m \u001B[38;5;28;01melse\u001B[39;00m:\n",
       "\u001B[1;32m   1397\u001B[0m     \u001B[38;5;28mself\u001B[39m\u001B[38;5;241m.\u001B[39m_jwrite\u001B[38;5;241m.\u001B[39msave(path)\n",
       "\n",
       "File \u001B[0;32m/databricks/spark/python/lib/py4j-0.10.9.5-src.zip/py4j/java_gateway.py:1321\u001B[0m, in \u001B[0;36mJavaMember.__call__\u001B[0;34m(self, *args)\u001B[0m\n",
       "\u001B[1;32m   1315\u001B[0m command \u001B[38;5;241m=\u001B[39m proto\u001B[38;5;241m.\u001B[39mCALL_COMMAND_NAME \u001B[38;5;241m+\u001B[39m\\\n",
       "\u001B[1;32m   1316\u001B[0m     \u001B[38;5;28mself\u001B[39m\u001B[38;5;241m.\u001B[39mcommand_header \u001B[38;5;241m+\u001B[39m\\\n",
       "\u001B[1;32m   1317\u001B[0m     args_command \u001B[38;5;241m+\u001B[39m\\\n",
       "\u001B[1;32m   1318\u001B[0m     proto\u001B[38;5;241m.\u001B[39mEND_COMMAND_PART\n",
       "\u001B[1;32m   1320\u001B[0m answer \u001B[38;5;241m=\u001B[39m \u001B[38;5;28mself\u001B[39m\u001B[38;5;241m.\u001B[39mgateway_client\u001B[38;5;241m.\u001B[39msend_command(command)\n",
       "\u001B[0;32m-> 1321\u001B[0m return_value \u001B[38;5;241m=\u001B[39m \u001B[43mget_return_value\u001B[49m\u001B[43m(\u001B[49m\n",
       "\u001B[1;32m   1322\u001B[0m \u001B[43m    \u001B[49m\u001B[43manswer\u001B[49m\u001B[43m,\u001B[49m\u001B[43m \u001B[49m\u001B[38;5;28;43mself\u001B[39;49m\u001B[38;5;241;43m.\u001B[39;49m\u001B[43mgateway_client\u001B[49m\u001B[43m,\u001B[49m\u001B[43m \u001B[49m\u001B[38;5;28;43mself\u001B[39;49m\u001B[38;5;241;43m.\u001B[39;49m\u001B[43mtarget_id\u001B[49m\u001B[43m,\u001B[49m\u001B[43m \u001B[49m\u001B[38;5;28;43mself\u001B[39;49m\u001B[38;5;241;43m.\u001B[39;49m\u001B[43mname\u001B[49m\u001B[43m)\u001B[49m\n",
       "\u001B[1;32m   1324\u001B[0m \u001B[38;5;28;01mfor\u001B[39;00m temp_arg \u001B[38;5;129;01min\u001B[39;00m temp_args:\n",
       "\u001B[1;32m   1325\u001B[0m     temp_arg\u001B[38;5;241m.\u001B[39m_detach()\n",
       "\n",
       "File \u001B[0;32m/databricks/spark/python/pyspark/errors/exceptions.py:234\u001B[0m, in \u001B[0;36mcapture_sql_exception.<locals>.deco\u001B[0;34m(*a, **kw)\u001B[0m\n",
       "\u001B[1;32m    230\u001B[0m converted \u001B[38;5;241m=\u001B[39m convert_exception(e\u001B[38;5;241m.\u001B[39mjava_exception)\n",
       "\u001B[1;32m    231\u001B[0m \u001B[38;5;28;01mif\u001B[39;00m \u001B[38;5;129;01mnot\u001B[39;00m \u001B[38;5;28misinstance\u001B[39m(converted, UnknownException):\n",
       "\u001B[1;32m    232\u001B[0m     \u001B[38;5;66;03m# Hide where the exception came from that shows a non-Pythonic\u001B[39;00m\n",
       "\u001B[1;32m    233\u001B[0m     \u001B[38;5;66;03m# JVM exception message.\u001B[39;00m\n",
       "\u001B[0;32m--> 234\u001B[0m     \u001B[38;5;28;01mraise\u001B[39;00m converted \u001B[38;5;28;01mfrom\u001B[39;00m \u001B[38;5;28mNone\u001B[39m\n",
       "\u001B[1;32m    235\u001B[0m \u001B[38;5;28;01melse\u001B[39;00m:\n",
       "\u001B[1;32m    236\u001B[0m     \u001B[38;5;28;01mraise\u001B[39;00m\n",
       "\n",
       "\u001B[0;31mAnalysisException\u001B[0m: Cannot write to already existent path dbfs:/FileStore/OpenTableFormat/sinkdata/sales_data without setting OVERWRITE = 'true'."
      ]
     },
     "metadata": {
      "application/vnd.databricks.v1+output": {
       "arguments": {},
       "data": "\u001B[0;31m---------------------------------------------------------------------------\u001B[0m\n\u001B[0;31mAnalysisException\u001B[0m                         Traceback (most recent call last)\nFile \u001B[0;32m<command-1853423176225449>:5\u001B[0m\n\u001B[1;32m      1\u001B[0m \u001B[38;5;124;03m'''\u001B[39;00m\n\u001B[1;32m      2\u001B[0m \u001B[38;5;124;03mconvert the above df into delta format\u001B[39;00m\n\u001B[1;32m      3\u001B[0m \u001B[38;5;124;03m* we can provide path till folder level, we cant give the filename when writing into delta format '''\u001B[39;00m\n\u001B[0;32m----> 5\u001B[0m df\u001B[38;5;241m.\u001B[39mwrite\u001B[38;5;241m.\u001B[39mformat(\u001B[38;5;124m\"\u001B[39m\u001B[38;5;124mdelta\u001B[39m\u001B[38;5;124m\"\u001B[39m)\\\n\u001B[1;32m      6\u001B[0m     \u001B[38;5;241m.\u001B[39moption(\u001B[38;5;124m\"\u001B[39m\u001B[38;5;124mpath\u001B[39m\u001B[38;5;124m\"\u001B[39m,\u001B[38;5;124m\"\u001B[39m\u001B[38;5;124m/FileStore/OpenTableFormat/sinkdata/sales_data\u001B[39m\u001B[38;5;124m\"\u001B[39m)\\\n\u001B[1;32m      7\u001B[0m         \u001B[38;5;241m.\u001B[39msave()\n\nFile \u001B[0;32m/databricks/spark/python/pyspark/instrumentation_utils.py:48\u001B[0m, in \u001B[0;36m_wrap_function.<locals>.wrapper\u001B[0;34m(*args, **kwargs)\u001B[0m\n\u001B[1;32m     46\u001B[0m start \u001B[38;5;241m=\u001B[39m time\u001B[38;5;241m.\u001B[39mperf_counter()\n\u001B[1;32m     47\u001B[0m \u001B[38;5;28;01mtry\u001B[39;00m:\n\u001B[0;32m---> 48\u001B[0m     res \u001B[38;5;241m=\u001B[39m \u001B[43mfunc\u001B[49m\u001B[43m(\u001B[49m\u001B[38;5;241;43m*\u001B[39;49m\u001B[43margs\u001B[49m\u001B[43m,\u001B[49m\u001B[43m \u001B[49m\u001B[38;5;241;43m*\u001B[39;49m\u001B[38;5;241;43m*\u001B[39;49m\u001B[43mkwargs\u001B[49m\u001B[43m)\u001B[49m\n\u001B[1;32m     49\u001B[0m     logger\u001B[38;5;241m.\u001B[39mlog_success(\n\u001B[1;32m     50\u001B[0m         module_name, class_name, function_name, time\u001B[38;5;241m.\u001B[39mperf_counter() \u001B[38;5;241m-\u001B[39m start, signature\n\u001B[1;32m     51\u001B[0m     )\n\u001B[1;32m     52\u001B[0m     \u001B[38;5;28;01mreturn\u001B[39;00m res\n\nFile \u001B[0;32m/databricks/spark/python/pyspark/sql/readwriter.py:1395\u001B[0m, in \u001B[0;36mDataFrameWriter.save\u001B[0;34m(self, path, format, mode, partitionBy, **options)\u001B[0m\n\u001B[1;32m   1393\u001B[0m     \u001B[38;5;28mself\u001B[39m\u001B[38;5;241m.\u001B[39mformat(\u001B[38;5;28mformat\u001B[39m)\n\u001B[1;32m   1394\u001B[0m \u001B[38;5;28;01mif\u001B[39;00m path \u001B[38;5;129;01mis\u001B[39;00m \u001B[38;5;28;01mNone\u001B[39;00m:\n\u001B[0;32m-> 1395\u001B[0m     \u001B[38;5;28;43mself\u001B[39;49m\u001B[38;5;241;43m.\u001B[39;49m\u001B[43m_jwrite\u001B[49m\u001B[38;5;241;43m.\u001B[39;49m\u001B[43msave\u001B[49m\u001B[43m(\u001B[49m\u001B[43m)\u001B[49m\n\u001B[1;32m   1396\u001B[0m \u001B[38;5;28;01melse\u001B[39;00m:\n\u001B[1;32m   1397\u001B[0m     \u001B[38;5;28mself\u001B[39m\u001B[38;5;241m.\u001B[39m_jwrite\u001B[38;5;241m.\u001B[39msave(path)\n\nFile \u001B[0;32m/databricks/spark/python/lib/py4j-0.10.9.5-src.zip/py4j/java_gateway.py:1321\u001B[0m, in \u001B[0;36mJavaMember.__call__\u001B[0;34m(self, *args)\u001B[0m\n\u001B[1;32m   1315\u001B[0m command \u001B[38;5;241m=\u001B[39m proto\u001B[38;5;241m.\u001B[39mCALL_COMMAND_NAME \u001B[38;5;241m+\u001B[39m\\\n\u001B[1;32m   1316\u001B[0m     \u001B[38;5;28mself\u001B[39m\u001B[38;5;241m.\u001B[39mcommand_header \u001B[38;5;241m+\u001B[39m\\\n\u001B[1;32m   1317\u001B[0m     args_command \u001B[38;5;241m+\u001B[39m\\\n\u001B[1;32m   1318\u001B[0m     proto\u001B[38;5;241m.\u001B[39mEND_COMMAND_PART\n\u001B[1;32m   1320\u001B[0m answer \u001B[38;5;241m=\u001B[39m \u001B[38;5;28mself\u001B[39m\u001B[38;5;241m.\u001B[39mgateway_client\u001B[38;5;241m.\u001B[39msend_command(command)\n\u001B[0;32m-> 1321\u001B[0m return_value \u001B[38;5;241m=\u001B[39m \u001B[43mget_return_value\u001B[49m\u001B[43m(\u001B[49m\n\u001B[1;32m   1322\u001B[0m \u001B[43m    \u001B[49m\u001B[43manswer\u001B[49m\u001B[43m,\u001B[49m\u001B[43m \u001B[49m\u001B[38;5;28;43mself\u001B[39;49m\u001B[38;5;241;43m.\u001B[39;49m\u001B[43mgateway_client\u001B[49m\u001B[43m,\u001B[49m\u001B[43m \u001B[49m\u001B[38;5;28;43mself\u001B[39;49m\u001B[38;5;241;43m.\u001B[39;49m\u001B[43mtarget_id\u001B[49m\u001B[43m,\u001B[49m\u001B[43m \u001B[49m\u001B[38;5;28;43mself\u001B[39;49m\u001B[38;5;241;43m.\u001B[39;49m\u001B[43mname\u001B[49m\u001B[43m)\u001B[49m\n\u001B[1;32m   1324\u001B[0m \u001B[38;5;28;01mfor\u001B[39;00m temp_arg \u001B[38;5;129;01min\u001B[39;00m temp_args:\n\u001B[1;32m   1325\u001B[0m     temp_arg\u001B[38;5;241m.\u001B[39m_detach()\n\nFile \u001B[0;32m/databricks/spark/python/pyspark/errors/exceptions.py:234\u001B[0m, in \u001B[0;36mcapture_sql_exception.<locals>.deco\u001B[0;34m(*a, **kw)\u001B[0m\n\u001B[1;32m    230\u001B[0m converted \u001B[38;5;241m=\u001B[39m convert_exception(e\u001B[38;5;241m.\u001B[39mjava_exception)\n\u001B[1;32m    231\u001B[0m \u001B[38;5;28;01mif\u001B[39;00m \u001B[38;5;129;01mnot\u001B[39;00m \u001B[38;5;28misinstance\u001B[39m(converted, UnknownException):\n\u001B[1;32m    232\u001B[0m     \u001B[38;5;66;03m# Hide where the exception came from that shows a non-Pythonic\u001B[39;00m\n\u001B[1;32m    233\u001B[0m     \u001B[38;5;66;03m# JVM exception message.\u001B[39;00m\n\u001B[0;32m--> 234\u001B[0m     \u001B[38;5;28;01mraise\u001B[39;00m converted \u001B[38;5;28;01mfrom\u001B[39;00m \u001B[38;5;28mNone\u001B[39m\n\u001B[1;32m    235\u001B[0m \u001B[38;5;28;01melse\u001B[39;00m:\n\u001B[1;32m    236\u001B[0m     \u001B[38;5;28;01mraise\u001B[39;00m\n\n\u001B[0;31mAnalysisException\u001B[0m: Cannot write to already existent path dbfs:/FileStore/OpenTableFormat/sinkdata/sales_data without setting OVERWRITE = 'true'.",
       "errorSummary": "<span class='ansi-red-fg'>AnalysisException</span>: Cannot write to already existent path dbfs:/FileStore/OpenTableFormat/sinkdata/sales_data without setting OVERWRITE = 'true'.",
       "errorTraceType": "ansi",
       "metadata": {},
       "type": "ipynbError"
      }
     },
     "output_type": "display_data"
    }
   ],
   "source": [
    "%python\n",
    "'''\n",
    "convert the above df into delta format\n",
    "* we can provide path till folder level, we cant give the filename when writing into delta format '''\n",
    "\n",
    "df.write.format(\"delta\")\\\n",
    "    .option(\"path\",\"/FileStore/OpenTableFormat/sinkdata/sales_data\")\\\n",
    "        .save()"
   ]
  },
  {
   "cell_type": "code",
   "execution_count": 0,
   "metadata": {
    "application/vnd.databricks.v1+cell": {
     "cellMetadata": {
      "byteLimit": 2048000,
      "rowLimit": 10000
     },
     "inputWidgets": {},
     "nuid": "fe80d112-6305-4622-90aa-8fbc4036e950",
     "showTitle": false,
     "tableResultSettingsMap": {},
     "title": ""
    }
   },
   "outputs": [
    {
     "output_type": "display_data",
     "data": {
      "text/plain": [
       ""
      ]
     },
     "metadata": {
      "application/vnd.databricks.v1+output": {
       "arguments": {},
       "data": "",
       "errorSummary": "Command skipped",
       "errorTraceType": "ansi",
       "metadata": {},
       "type": "ipynbError"
      }
     },
     "output_type": "display_data"
    }
   ],
   "source": [
    "%sql\n",
    "\n",
    "-- Even without creating a delta table , we can still query the data in table format \n",
    "\n",
    "select * from delta.`/FileStore/OpenTableFormat/sinkdata/sales_data`"
   ]
  },
  {
   "cell_type": "markdown",
   "metadata": {
    "application/vnd.databricks.v1+cell": {
     "cellMetadata": {
      "byteLimit": 2048000,
      "rowLimit": 10000
     },
     "inputWidgets": {},
     "nuid": "f644eedf-23a5-4a6f-9b54-ee1779f97d06",
     "showTitle": false,
     "tableResultSettingsMap": {},
     "title": ""
    }
   },
   "source": [
    "### Behind the scene of Opentable format \n",
    "\n",
    "* It read the csv data and converted into delta format, but indeed we dont have the delta format file. instead it will convert the csv file into parquet file\n",
    "* In delta format it contains 2 files\n",
    "    1. Parquet file\n",
    "    2. Transaction files aka (_delata_log) basically a folder concept\n",
    "* The _delata_log folder contains the json files, schema checkpoint\n",
    "    * Basically its keep on tracking the changes you are performing on the file ( basically your transactions)\n",
    "    * every time you make the changes, it will keep on adding the new json files. And each time it will not store the state of the table\n",
    "    * if you want the latest state of the table, then it will read all the previous json files.\n",
    "\n",
    "* Note:\n",
    "  If there are 100 transaction,whether we need to read all the 100 json files?\n",
    "  No, Every 10th json files its created in delta_log it will maintain the history of the past 9 previous json file in the 10th json file. So you need the current state then it will read the 10th + 1 file (i.e 11th file)"
   ]
  },
  {
   "cell_type": "code",
   "execution_count": 0,
   "metadata": {
    "application/vnd.databricks.v1+cell": {
     "cellMetadata": {
      "byteLimit": 2048000,
      "rowLimit": 10000
     },
     "inputWidgets": {},
     "nuid": "490eeb8b-f434-4f01-be6a-d86a22b876f9",
     "showTitle": false,
     "tableResultSettingsMap": {},
     "title": ""
    }
   },
   "outputs": [
    {
     "output_type": "display_data",
     "data": {
      "text/plain": [
       ""
      ]
     },
     "metadata": {
      "application/vnd.databricks.v1+output": {
       "arguments": {},
       "data": "",
       "errorSummary": "Command skipped",
       "errorTraceType": "ansi",
       "metadata": {},
       "type": "ipynbError"
      }
     },
     "output_type": "display_data"
    }
   ],
   "source": [
    "%python\n",
    "''' to read the content of json file'''\n",
    "\n",
    "df = spark.read.json(\"/FileStore/OpenTableFormat/sinkdata/sales_data/_delta_log/00000000000000000000.json\")\n",
    "\n",
    "display(df)"
   ]
  },
  {
   "cell_type": "markdown",
   "metadata": {
    "application/vnd.databricks.v1+cell": {
     "cellMetadata": {
      "byteLimit": 2048000,
      "rowLimit": 10000
     },
     "inputWidgets": {},
     "nuid": "3c58c7ef-e9dd-40a0-bbdb-9380cbb6c2ef",
     "showTitle": false,
     "tableResultSettingsMap": {},
     "title": ""
    }
   },
   "source": [
    "### Create DELTA Table"
   ]
  },
  {
   "cell_type": "code",
   "execution_count": 0,
   "metadata": {
    "application/vnd.databricks.v1+cell": {
     "cellMetadata": {
      "byteLimit": 2048000,
      "implicitDf": true,
      "rowLimit": 10000
     },
     "inputWidgets": {},
     "nuid": "503af531-15e5-486d-a3ae-a1870ad3da47",
     "showTitle": false,
     "tableResultSettingsMap": {},
     "title": ""
    }
   },
   "outputs": [
    {
     "output_type": "display_data",
     "data": {
      "text/plain": [
       ""
      ]
     },
     "metadata": {
      "application/vnd.databricks.v1+output": {
       "arguments": {},
       "data": "",
       "errorSummary": "Command skipped",
       "errorTraceType": "ansi",
       "metadata": {},
       "type": "ipynbError"
      }
     },
     "output_type": "display_data"
    }
   ],
   "source": [
    "%sql\n",
    "\n",
    "create table my_delta_table\n",
    "(\n",
    "  ID int,\n",
    "  Name string,\n",
    "  salary double\n",
    ")\n",
    "using delta\n",
    "location '/FileStore/OpenTableFormat/sinkdata/first_delta_table'\n"
   ]
  },
  {
   "cell_type": "code",
   "execution_count": 0,
   "metadata": {
    "application/vnd.databricks.v1+cell": {
     "cellMetadata": {
      "byteLimit": 2048000,
      "implicitDf": true,
      "rowLimit": 10000
     },
     "inputWidgets": {},
     "nuid": "0aed8d9b-2c08-4df8-9237-092f631a25fd",
     "showTitle": false,
     "tableResultSettingsMap": {},
     "title": ""
    }
   },
   "outputs": [
    {
     "output_type": "display_data",
     "data": {
      "text/html": [
       "<style scoped>\n",
       "  .table-result-container {\n",
       "    max-height: 300px;\n",
       "    overflow: auto;\n",
       "  }\n",
       "  table, th, td {\n",
       "    border: 1px solid black;\n",
       "    border-collapse: collapse;\n",
       "  }\n",
       "  th, td {\n",
       "    padding: 5px;\n",
       "  }\n",
       "  th {\n",
       "    text-align: left;\n",
       "  }\n",
       "</style><div class='table-result-container'><table class='table-result'><thead style='background-color: white'><tr></tr></thead><tbody></tbody></table></div>"
      ]
     },
     "metadata": {
      "application/vnd.databricks.v1+output": {
       "addedWidgets": {},
       "aggData": [],
       "aggError": "",
       "aggOverflow": false,
       "aggSchema": [],
       "aggSeriesLimitReached": false,
       "aggType": "",
       "arguments": {},
       "columnCustomDisplayInfos": {},
       "data": [],
       "datasetInfos": [],
       "dbfsResultPath": null,
       "isJsonSchema": true,
       "metadata": {
        "isDbfsCommandResult": false
       },
       "overflow": false,
       "plotOptions": {
        "customPlotOptions": {},
        "displayType": "table",
        "pivotAggregation": null,
        "pivotColumns": null,
        "xColumns": null,
        "yColumns": null
       },
       "removedWidgets": [],
       "schema": [],
       "type": "table"
      }
     },
     "output_type": "display_data"
    }
   ],
   "source": [
    "%sql\n",
    "-- ''' create Schema'''\n",
    "\n",
    "create schema bronze"
   ]
  },
  {
   "cell_type": "code",
   "execution_count": 0,
   "metadata": {
    "application/vnd.databricks.v1+cell": {
     "cellMetadata": {
      "byteLimit": 2048000,
      "implicitDf": true,
      "rowLimit": 10000
     },
     "inputWidgets": {},
     "nuid": "a4daef85-7e5c-4342-8278-3521a9cac311",
     "showTitle": false,
     "tableResultSettingsMap": {},
     "title": ""
    }
   },
   "outputs": [
    {
     "output_type": "display_data",
     "data": {
      "text/html": [
       "<style scoped>\n",
       "  .table-result-container {\n",
       "    max-height: 300px;\n",
       "    overflow: auto;\n",
       "  }\n",
       "  table, th, td {\n",
       "    border: 1px solid black;\n",
       "    border-collapse: collapse;\n",
       "  }\n",
       "  th, td {\n",
       "    padding: 5px;\n",
       "  }\n",
       "  th {\n",
       "    text-align: left;\n",
       "  }\n",
       "</style><div class='table-result-container'><table class='table-result'><thead style='background-color: white'><tr></tr></thead><tbody></tbody></table></div>"
      ]
     },
     "metadata": {
      "application/vnd.databricks.v1+output": {
       "addedWidgets": {},
       "aggData": [],
       "aggError": "",
       "aggOverflow": false,
       "aggSchema": [],
       "aggSeriesLimitReached": false,
       "aggType": "",
       "arguments": {},
       "columnCustomDisplayInfos": {},
       "data": [],
       "datasetInfos": [],
       "dbfsResultPath": null,
       "isJsonSchema": true,
       "metadata": {
        "isDbfsCommandResult": false
       },
       "overflow": false,
       "plotOptions": {
        "customPlotOptions": {},
        "displayType": "table",
        "pivotAggregation": null,
        "pivotColumns": null,
        "xColumns": null,
        "yColumns": null
       },
       "removedWidgets": [],
       "schema": [],
       "type": "table"
      }
     },
     "output_type": "display_data"
    }
   ],
   "source": [
    "%sql\n",
    "\n",
    "-- Enforcing the schema while creating the table, knows as Schema Enforcement\n",
    "\n",
    "create table bronze.my_delta_table\n",
    "(\n",
    "  ID int,\n",
    "  Name string,\n",
    "  salary double\n",
    ")\n",
    "using delta\n",
    "location '/FileStore/OpenTableFormat/sinkdata/my_delta_table'"
   ]
  },
  {
   "cell_type": "markdown",
   "metadata": {
    "application/vnd.databricks.v1+cell": {
     "cellMetadata": {
      "byteLimit": 2048000,
      "rowLimit": 10000
     },
     "inputWidgets": {},
     "nuid": "6cc8556f-d9e4-4de0-9770-ed01e165fab3",
     "showTitle": false,
     "tableResultSettingsMap": {},
     "title": ""
    }
   },
   "source": [
    "### Insert values into table"
   ]
  },
  {
   "cell_type": "code",
   "execution_count": 0,
   "metadata": {
    "application/vnd.databricks.v1+cell": {
     "cellMetadata": {
      "byteLimit": 2048000,
      "implicitDf": true,
      "rowLimit": 10000
     },
     "inputWidgets": {},
     "nuid": "7582505d-bd83-476d-8876-fb6aef6e11bf",
     "showTitle": false,
     "tableResultSettingsMap": {},
     "title": ""
    }
   },
   "outputs": [
    {
     "output_type": "display_data",
     "data": {
      "text/html": [
       "<style scoped>\n",
       "  .table-result-container {\n",
       "    max-height: 300px;\n",
       "    overflow: auto;\n",
       "  }\n",
       "  table, th, td {\n",
       "    border: 1px solid black;\n",
       "    border-collapse: collapse;\n",
       "  }\n",
       "  th, td {\n",
       "    padding: 5px;\n",
       "  }\n",
       "  th {\n",
       "    text-align: left;\n",
       "  }\n",
       "</style><div class='table-result-container'><table class='table-result'><thead style='background-color: white'><tr><th>num_affected_rows</th><th>num_inserted_rows</th></tr></thead><tbody><tr><td>2</td><td>2</td></tr></tbody></table></div>"
      ]
     },
     "metadata": {
      "application/vnd.databricks.v1+output": {
       "addedWidgets": {},
       "aggData": [],
       "aggError": "",
       "aggOverflow": false,
       "aggSchema": [],
       "aggSeriesLimitReached": false,
       "aggType": "",
       "arguments": {},
       "columnCustomDisplayInfos": {},
       "data": [
        [
         2,
         2
        ]
       ],
       "datasetInfos": [],
       "dbfsResultPath": null,
       "isJsonSchema": true,
       "metadata": {
        "isDbfsCommandResult": false
       },
       "overflow": false,
       "plotOptions": {
        "customPlotOptions": {},
        "displayType": "table",
        "pivotAggregation": null,
        "pivotColumns": null,
        "xColumns": null,
        "yColumns": null
       },
       "removedWidgets": [],
       "schema": [
        {
         "metadata": "{}",
         "name": "num_affected_rows",
         "type": "\"long\""
        },
        {
         "metadata": "{}",
         "name": "num_inserted_rows",
         "type": "\"long\""
        }
       ],
       "type": "table"
      }
     },
     "output_type": "display_data"
    }
   ],
   "source": [
    "%sql\n",
    "INSERT INTO bronze.my_delta_table\n",
    "VALUES \n",
    "(1, 'AAA', 1000),\n",
    "(2, 'BBB', 2000)"
   ]
  },
  {
   "cell_type": "code",
   "execution_count": 0,
   "metadata": {
    "application/vnd.databricks.v1+cell": {
     "cellMetadata": {
      "byteLimit": 2048000,
      "rowLimit": 10000
     },
     "inputWidgets": {},
     "nuid": "61a8c043-a176-4e31-859d-9651eaa935c8",
     "showTitle": false,
     "tableResultSettingsMap": {},
     "title": ""
    }
   },
   "outputs": [
    {
     "output_type": "display_data",
     "data": {
      "text/html": [
       "<style scoped>\n",
       "  .table-result-container {\n",
       "    max-height: 300px;\n",
       "    overflow: auto;\n",
       "  }\n",
       "  table, th, td {\n",
       "    border: 1px solid black;\n",
       "    border-collapse: collapse;\n",
       "  }\n",
       "  th, td {\n",
       "    padding: 5px;\n",
       "  }\n",
       "  th {\n",
       "    text-align: left;\n",
       "  }\n",
       "</style><div class='table-result-container'><table class='table-result'><thead style='background-color: white'><tr><th>ID</th><th>Name</th><th>salary</th></tr></thead><tbody><tr><td>1</td><td>AAA</td><td>1000.0</td></tr><tr><td>2</td><td>BBB</td><td>2000.0</td></tr><tr><td>1</td><td>AAA</td><td>1000.0</td></tr><tr><td>2</td><td>BBB</td><td>2000.0</td></tr><tr><td>1</td><td>AAA</td><td>1000.0</td></tr><tr><td>2</td><td>BBB</td><td>2000.0</td></tr><tr><td>1</td><td>AAA</td><td>1000.0</td></tr><tr><td>2</td><td>BBB</td><td>2000.0</td></tr><tr><td>1</td><td>AAA</td><td>1000.0</td></tr><tr><td>2</td><td>BBB</td><td>2000.0</td></tr><tr><td>1</td><td>AAA</td><td>1000.0</td></tr><tr><td>2</td><td>BBB</td><td>2000.0</td></tr><tr><td>1</td><td>AAA</td><td>1000.0</td></tr><tr><td>2</td><td>BBB</td><td>2000.0</td></tr><tr><td>1</td><td>AAA</td><td>1000.0</td></tr><tr><td>2</td><td>BBB</td><td>2000.0</td></tr><tr><td>1</td><td>AAA</td><td>1000.0</td></tr><tr><td>2</td><td>BBB</td><td>2000.0</td></tr><tr><td>1</td><td>AAA</td><td>1000.0</td></tr><tr><td>2</td><td>BBB</td><td>2000.0</td></tr><tr><td>1</td><td>AAA</td><td>1000.0</td></tr><tr><td>2</td><td>BBB</td><td>2000.0</td></tr><tr><td>1</td><td>AAA</td><td>1000.0</td></tr><tr><td>2</td><td>BBB</td><td>2000.0</td></tr><tr><td>1</td><td>AAA</td><td>1000.0</td></tr><tr><td>2</td><td>BBB</td><td>2000.0</td></tr></tbody></table></div>"
      ]
     },
     "metadata": {
      "application/vnd.databricks.v1+output": {
       "addedWidgets": {},
       "aggData": [],
       "aggError": "",
       "aggOverflow": false,
       "aggSchema": [],
       "aggSeriesLimitReached": false,
       "aggType": "",
       "arguments": {},
       "columnCustomDisplayInfos": {},
       "data": [
        [
         1,
         "AAA",
         1000.0
        ],
        [
         2,
         "BBB",
         2000.0
        ],
        [
         1,
         "AAA",
         1000.0
        ],
        [
         2,
         "BBB",
         2000.0
        ],
        [
         1,
         "AAA",
         1000.0
        ],
        [
         2,
         "BBB",
         2000.0
        ],
        [
         1,
         "AAA",
         1000.0
        ],
        [
         2,
         "BBB",
         2000.0
        ],
        [
         1,
         "AAA",
         1000.0
        ],
        [
         2,
         "BBB",
         2000.0
        ],
        [
         1,
         "AAA",
         1000.0
        ],
        [
         2,
         "BBB",
         2000.0
        ],
        [
         1,
         "AAA",
         1000.0
        ],
        [
         2,
         "BBB",
         2000.0
        ],
        [
         1,
         "AAA",
         1000.0
        ],
        [
         2,
         "BBB",
         2000.0
        ],
        [
         1,
         "AAA",
         1000.0
        ],
        [
         2,
         "BBB",
         2000.0
        ],
        [
         1,
         "AAA",
         1000.0
        ],
        [
         2,
         "BBB",
         2000.0
        ],
        [
         1,
         "AAA",
         1000.0
        ],
        [
         2,
         "BBB",
         2000.0
        ],
        [
         1,
         "AAA",
         1000.0
        ],
        [
         2,
         "BBB",
         2000.0
        ],
        [
         1,
         "AAA",
         1000.0
        ],
        [
         2,
         "BBB",
         2000.0
        ]
       ],
       "datasetInfos": [],
       "dbfsResultPath": null,
       "isJsonSchema": true,
       "metadata": {
        "isDbfsCommandResult": false
       },
       "overflow": false,
       "plotOptions": {
        "customPlotOptions": {},
        "displayType": "table",
        "pivotAggregation": null,
        "pivotColumns": null,
        "xColumns": null,
        "yColumns": null
       },
       "removedWidgets": [],
       "schema": [
        {
         "metadata": "{}",
         "name": "ID",
         "type": "\"integer\""
        },
        {
         "metadata": "{}",
         "name": "Name",
         "type": "\"string\""
        },
        {
         "metadata": "{}",
         "name": "salary",
         "type": "\"double\""
        }
       ],
       "type": "table"
      }
     },
     "output_type": "display_data"
    }
   ],
   "source": [
    "%sql\n",
    "select * from bronze.my_delta_table"
   ]
  },
  {
   "cell_type": "code",
   "execution_count": 0,
   "metadata": {
    "application/vnd.databricks.v1+cell": {
     "cellMetadata": {
      "byteLimit": 2048000,
      "rowLimit": 10000
     },
     "inputWidgets": {},
     "nuid": "a99f9aa3-2b43-4478-87d3-4d986cc798bd",
     "showTitle": false,
     "tableResultSettingsMap": {},
     "title": ""
    }
   },
   "outputs": [
    {
     "output_type": "display_data",
     "data": {
      "text/plain": [
       ""
      ]
     },
     "metadata": {
      "application/vnd.databricks.v1+output": {
       "arguments": {},
       "data": "",
       "errorSummary": "Command skipped",
       "errorTraceType": "ansi",
       "metadata": {},
       "type": "ipynbError"
      }
     },
     "output_type": "display_data"
    }
   ],
   "source": [
    "%sql\n",
    "\n",
    "-- Will run the sql cmd 10time just to verify whether it will create the checkpoint in the delta_log folder or not \n",
    "\n",
    "INSERT INTO bronze.my_delta_table\n",
    "VALUES \n",
    "(1, 'AAA', 1000),\n",
    "(2, 'BBB', 2000)"
   ]
  },
  {
   "cell_type": "code",
   "execution_count": 0,
   "metadata": {
    "application/vnd.databricks.v1+cell": {
     "cellMetadata": {
      "byteLimit": 2048000,
      "rowLimit": 10000
     },
     "inputWidgets": {},
     "nuid": "60887b4c-02ad-4235-bebd-a40d82bfc60c",
     "showTitle": false,
     "tableResultSettingsMap": {},
     "title": ""
    }
   },
   "outputs": [
    {
     "output_type": "display_data",
     "data": {
      "text/html": [
       "<style scoped>\n",
       "  .table-result-container {\n",
       "    max-height: 300px;\n",
       "    overflow: auto;\n",
       "  }\n",
       "  table, th, td {\n",
       "    border: 1px solid black;\n",
       "    border-collapse: collapse;\n",
       "  }\n",
       "  th, td {\n",
       "    padding: 5px;\n",
       "  }\n",
       "  th {\n",
       "    text-align: left;\n",
       "  }\n",
       "</style><div class='table-result-container'><table class='table-result'><thead style='background-color: white'><tr></tr></thead><tbody></tbody></table></div>"
      ]
     },
     "metadata": {
      "application/vnd.databricks.v1+output": {
       "addedWidgets": {},
       "aggData": [],
       "aggError": "",
       "aggOverflow": false,
       "aggSchema": [],
       "aggSeriesLimitReached": false,
       "aggType": "",
       "arguments": {},
       "columnCustomDisplayInfos": {},
       "data": [],
       "datasetInfos": [],
       "dbfsResultPath": null,
       "isJsonSchema": true,
       "metadata": {
        "isDbfsCommandResult": false
       },
       "overflow": false,
       "plotOptions": {
        "customPlotOptions": {},
        "displayType": "table",
        "pivotAggregation": null,
        "pivotColumns": null,
        "xColumns": null,
        "yColumns": null
       },
       "removedWidgets": [],
       "schema": [],
       "type": "table"
      }
     },
     "output_type": "display_data"
    }
   ],
   "source": [
    "%sql\n",
    "\n",
    "-- create 2nd table\n",
    "\n",
    "create table bronze.my_delta_table2\n",
    "(\n",
    "  ID int,\n",
    "  Name string,\n",
    "  salary double\n",
    ")\n",
    "using delta\n",
    "location '/FileStore/OpenTableFormat/sinkdata/my_delta_table2'"
   ]
  },
  {
   "cell_type": "code",
   "execution_count": 0,
   "metadata": {
    "application/vnd.databricks.v1+cell": {
     "cellMetadata": {
      "byteLimit": 2048000,
      "rowLimit": 10000
     },
     "inputWidgets": {},
     "nuid": "9ae2ed3d-87d9-4f2a-9226-f6b6566e01c1",
     "showTitle": false,
     "tableResultSettingsMap": {},
     "title": ""
    }
   },
   "outputs": [
    {
     "output_type": "display_data",
     "data": {
      "text/html": [
       "<style scoped>\n",
       "  .table-result-container {\n",
       "    max-height: 300px;\n",
       "    overflow: auto;\n",
       "  }\n",
       "  table, th, td {\n",
       "    border: 1px solid black;\n",
       "    border-collapse: collapse;\n",
       "  }\n",
       "  th, td {\n",
       "    padding: 5px;\n",
       "  }\n",
       "  th {\n",
       "    text-align: left;\n",
       "  }\n",
       "</style><div class='table-result-container'><table class='table-result'><thead style='background-color: white'><tr><th>col_name</th><th>data_type</th><th>comment</th></tr></thead><tbody><tr><td>ID</td><td>int</td><td>null</td></tr><tr><td>Name</td><td>string</td><td>null</td></tr><tr><td>salary</td><td>double</td><td>null</td></tr><tr><td></td><td></td><td></td></tr><tr><td># Detailed Table Information</td><td></td><td></td></tr><tr><td>Catalog</td><td>spark_catalog</td><td></td></tr><tr><td>Database</td><td>bronze</td><td></td></tr><tr><td>Table</td><td>my_delta_table2</td><td></td></tr><tr><td>Created Time</td><td>Fri May 09 07:24:17 UTC 2025</td><td></td></tr><tr><td>Last Access</td><td>UNKNOWN</td><td></td></tr><tr><td>Created By</td><td>Spark 3.3.2</td><td></td></tr><tr><td>Type</td><td>EXTERNAL</td><td></td></tr><tr><td>Location</td><td>dbfs:/FileStore/OpenTableFormat/sinkdata/my_delta_table2</td><td></td></tr><tr><td>Provider</td><td>delta</td><td></td></tr><tr><td>Owner</td><td>root</td><td></td></tr><tr><td>Table Properties</td><td>[delta.enableDeletionVectors=false,delta.minReaderVersion=1,delta.minWriterVersion=2]</td><td></td></tr></tbody></table></div>"
      ]
     },
     "metadata": {
      "application/vnd.databricks.v1+output": {
       "addedWidgets": {},
       "aggData": [],
       "aggError": "",
       "aggOverflow": false,
       "aggSchema": [],
       "aggSeriesLimitReached": false,
       "aggType": "",
       "arguments": {},
       "columnCustomDisplayInfos": {},
       "data": [
        [
         "ID",
         "int",
         null
        ],
        [
         "Name",
         "string",
         null
        ],
        [
         "salary",
         "double",
         null
        ],
        [
         "",
         "",
         ""
        ],
        [
         "# Detailed Table Information",
         "",
         ""
        ],
        [
         "Catalog",
         "spark_catalog",
         ""
        ],
        [
         "Database",
         "bronze",
         ""
        ],
        [
         "Table",
         "my_delta_table2",
         ""
        ],
        [
         "Created Time",
         "Fri May 09 07:24:17 UTC 2025",
         ""
        ],
        [
         "Last Access",
         "UNKNOWN",
         ""
        ],
        [
         "Created By",
         "Spark 3.3.2",
         ""
        ],
        [
         "Type",
         "EXTERNAL",
         ""
        ],
        [
         "Location",
         "dbfs:/FileStore/OpenTableFormat/sinkdata/my_delta_table2",
         ""
        ],
        [
         "Provider",
         "delta",
         ""
        ],
        [
         "Owner",
         "root",
         ""
        ],
        [
         "Table Properties",
         "[delta.enableDeletionVectors=false,delta.minReaderVersion=1,delta.minWriterVersion=2]",
         ""
        ]
       ],
       "datasetInfos": [],
       "dbfsResultPath": null,
       "isJsonSchema": true,
       "metadata": {
        "isDbfsCommandResult": false
       },
       "overflow": false,
       "plotOptions": {
        "customPlotOptions": {},
        "displayType": "table",
        "pivotAggregation": null,
        "pivotColumns": null,
        "xColumns": null,
        "yColumns": null
       },
       "removedWidgets": [],
       "schema": [
        {
         "metadata": "{\"comment\":\"name of the column\"}",
         "name": "col_name",
         "type": "\"string\""
        },
        {
         "metadata": "{\"comment\":\"data type of the column\"}",
         "name": "data_type",
         "type": "\"string\""
        },
        {
         "metadata": "{\"comment\":\"comment of the column\"}",
         "name": "comment",
         "type": "\"string\""
        }
       ],
       "type": "table"
      }
     },
     "output_type": "display_data"
    }
   ],
   "source": [
    "%sql\n",
    "describe table extended bronze.my_delta_table2"
   ]
  },
  {
   "cell_type": "markdown",
   "metadata": {
    "application/vnd.databricks.v1+cell": {
     "cellMetadata": {
      "byteLimit": 2048000,
      "rowLimit": 10000
     },
     "inputWidgets": {},
     "nuid": "dd339170-f0a8-4209-a8b9-d445e1409de7",
     "showTitle": false,
     "tableResultSettingsMap": {},
     "title": ""
    }
   },
   "source": [
    "### DELETION VECTOR DISABLE"
   ]
  },
  {
   "cell_type": "code",
   "execution_count": 0,
   "metadata": {
    "application/vnd.databricks.v1+cell": {
     "cellMetadata": {
      "byteLimit": 2048000,
      "rowLimit": 10000
     },
     "inputWidgets": {},
     "nuid": "32415aaf-b454-4075-a413-93942bb2ad0c",
     "showTitle": false,
     "tableResultSettingsMap": {},
     "title": ""
    }
   },
   "outputs": [
    {
     "output_type": "display_data",
     "data": {
      "text/plain": [
       ""
      ]
     },
     "metadata": {
      "application/vnd.databricks.v1+output": {
       "arguments": {},
       "data": "",
       "errorSummary": "Command skipped",
       "errorTraceType": "ansi",
       "metadata": {},
       "type": "ipynbError"
      }
     },
     "output_type": "display_data"
    }
   ],
   "source": [
    "%sql\n",
    "-- We will trun off the deletion vector\n",
    "\n",
    "ALTER TABLE bronze.my_delta_table2\n",
    "SET TBLPROPERTIES ('delta.enableDeletionVectors' = false);"
   ]
  },
  {
   "cell_type": "code",
   "execution_count": 0,
   "metadata": {
    "application/vnd.databricks.v1+cell": {
     "cellMetadata": {
      "byteLimit": 2048000,
      "rowLimit": 10000
     },
     "inputWidgets": {},
     "nuid": "b5979931-bd38-415e-b070-2be9e0a29d8f",
     "showTitle": false,
     "tableResultSettingsMap": {},
     "title": ""
    }
   },
   "outputs": [
    {
     "output_type": "display_data",
     "data": {
      "text/plain": [
       ""
      ]
     },
     "metadata": {
      "application/vnd.databricks.v1+output": {
       "arguments": {},
       "data": "",
       "errorSummary": "Command skipped",
       "errorTraceType": "ansi",
       "metadata": {},
       "type": "ipynbError"
      }
     },
     "output_type": "display_data"
    }
   ],
   "source": [
    "%sql\n",
    "INSERT INTO bronze.my_delta_table2\n",
    "VALUES \n",
    "(1, 'AAA', 1000),\n",
    "(2, 'BBB', 2000)"
   ]
  },
  {
   "cell_type": "code",
   "execution_count": 0,
   "metadata": {
    "application/vnd.databricks.v1+cell": {
     "cellMetadata": {
      "byteLimit": 2048000,
      "rowLimit": 10000
     },
     "inputWidgets": {},
     "nuid": "9fdccd81-6eb1-417b-a84f-29454ac47f0b",
     "showTitle": false,
     "tableResultSettingsMap": {},
     "title": ""
    }
   },
   "outputs": [
    {
     "output_type": "display_data",
     "data": {
      "text/plain": [
       ""
      ]
     },
     "metadata": {
      "application/vnd.databricks.v1+output": {
       "arguments": {},
       "data": "",
       "errorSummary": "Command skipped",
       "errorTraceType": "ansi",
       "metadata": {},
       "type": "ipynbError"
      }
     },
     "output_type": "display_data"
    }
   ],
   "source": [
    "%sql\n",
    "INSERT INTO bronze.my_delta_table2\n",
    "VALUES \n",
    "(3, 'ccc', 1000),\n",
    "(4, 'ddd', 2000)"
   ]
  },
  {
   "cell_type": "code",
   "execution_count": 0,
   "metadata": {
    "application/vnd.databricks.v1+cell": {
     "cellMetadata": {
      "byteLimit": 2048000,
      "rowLimit": 10000
     },
     "inputWidgets": {},
     "nuid": "b139ed7b-af95-45df-bbeb-147818bc8838",
     "showTitle": false,
     "tableResultSettingsMap": {},
     "title": ""
    }
   },
   "outputs": [
    {
     "output_type": "display_data",
     "data": {
      "text/plain": [
       ""
      ]
     },
     "metadata": {
      "application/vnd.databricks.v1+output": {
       "arguments": {},
       "data": "",
       "errorSummary": "Command skipped",
       "errorTraceType": "ansi",
       "metadata": {},
       "type": "ipynbError"
      }
     },
     "output_type": "display_data"
    }
   ],
   "source": [
    "%sql\n",
    "select * from bronze.my_delta_table2"
   ]
  },
  {
   "cell_type": "markdown",
   "metadata": {
    "application/vnd.databricks.v1+cell": {
     "cellMetadata": {
      "byteLimit": 2048000,
      "rowLimit": 10000
     },
     "inputWidgets": {},
     "nuid": "b82f0277-1885-41d8-b46f-2243ba27ffba",
     "showTitle": false,
     "tableResultSettingsMap": {},
     "title": ""
    }
   },
   "source": [
    "### Update values in table"
   ]
  },
  {
   "cell_type": "code",
   "execution_count": 0,
   "metadata": {
    "application/vnd.databricks.v1+cell": {
     "cellMetadata": {
      "byteLimit": 2048000,
      "rowLimit": 10000
     },
     "inputWidgets": {},
     "nuid": "f1c259d3-363b-4cf5-81c9-711944eaae47",
     "showTitle": false,
     "tableResultSettingsMap": {},
     "title": ""
    }
   },
   "outputs": [
    {
     "output_type": "display_data",
     "data": {
      "text/plain": [
       ""
      ]
     },
     "metadata": {
      "application/vnd.databricks.v1+output": {
       "arguments": {},
       "data": "",
       "errorSummary": "Command skipped",
       "errorTraceType": "ansi",
       "metadata": {},
       "type": "ipynbError"
      }
     },
     "output_type": "display_data"
    }
   ],
   "source": [
    "%sql\n",
    "update bronze.my_delta_table2\n",
    "set name = 'ZZZ' where id = 2"
   ]
  },
  {
   "cell_type": "code",
   "execution_count": 0,
   "metadata": {
    "application/vnd.databricks.v1+cell": {
     "cellMetadata": {
      "byteLimit": 2048000,
      "rowLimit": 10000
     },
     "inputWidgets": {},
     "nuid": "2a2f70c5-c12c-47c6-91d8-3914beb9ddc4",
     "showTitle": false,
     "tableResultSettingsMap": {},
     "title": ""
    }
   },
   "outputs": [
    {
     "output_type": "display_data",
     "data": {
      "text/plain": [
       ""
      ]
     },
     "metadata": {
      "application/vnd.databricks.v1+output": {
       "arguments": {},
       "data": "",
       "errorSummary": "Command skipped",
       "errorTraceType": "ansi",
       "metadata": {},
       "type": "ipynbError"
      }
     },
     "output_type": "display_data"
    }
   ],
   "source": [
    "%python\n",
    "''' to read the content of json file'''\n",
    "\n",
    "df = spark.read.json(\"/FileStore/OpenTableFormat/sinkdata/my_delta_table2/_delta_log/00000000000000000005.json\")\n",
    "\n",
    "display(df)"
   ]
  },
  {
   "cell_type": "markdown",
   "metadata": {
    "application/vnd.databricks.v1+cell": {
     "cellMetadata": {
      "byteLimit": 2048000,
      "rowLimit": 10000
     },
     "inputWidgets": {},
     "nuid": "1bca9ee7-cea6-4f44-a74b-ed0863d9bc8b",
     "showTitle": false,
     "tableResultSettingsMap": {},
     "title": ""
    }
   },
   "source": [
    "### DML in open table\n",
    "\n",
    "whenever you perform the DML operation on the table, it will create a new parquet file.\n",
    "1. The new parquet file basically contain the changes which you are performed , before this it will copy the content from the previous parquet file and it will remove the previous file ( it is also called as TOMBSTONING) means soft delete \n",
    "2. It will keep the current state of the table/file in parquet"
   ]
  },
  {
   "cell_type": "code",
   "execution_count": 0,
   "metadata": {
    "application/vnd.databricks.v1+cell": {
     "cellMetadata": {
      "byteLimit": 2048000,
      "rowLimit": 10000
     },
     "inputWidgets": {},
     "nuid": "15def5b5-59ef-4a39-a49e-c84345f8a5d4",
     "showTitle": false,
     "tableResultSettingsMap": {},
     "title": ""
    }
   },
   "outputs": [
    {
     "output_type": "display_data",
     "data": {
      "text/plain": [
       ""
      ]
     },
     "metadata": {
      "application/vnd.databricks.v1+output": {
       "arguments": {},
       "data": "",
       "errorSummary": "Command skipped",
       "errorTraceType": "ansi",
       "metadata": {},
       "type": "ipynbError"
      }
     },
     "output_type": "display_data"
    }
   ],
   "source": [
    "%sql\n",
    "select * from bronze.my_delta_table2"
   ]
  },
  {
   "cell_type": "markdown",
   "metadata": {
    "application/vnd.databricks.v1+cell": {
     "cellMetadata": {
      "byteLimit": 2048000,
      "rowLimit": 10000
     },
     "inputWidgets": {},
     "nuid": "44f97c49-88ae-46e5-bba4-d56807b54e3c",
     "showTitle": false,
     "tableResultSettingsMap": {},
     "title": ""
    }
   },
   "source": [
    "### Delete the data from table\n"
   ]
  },
  {
   "cell_type": "code",
   "execution_count": 0,
   "metadata": {
    "application/vnd.databricks.v1+cell": {
     "cellMetadata": {
      "byteLimit": 2048000,
      "rowLimit": 10000
     },
     "inputWidgets": {},
     "nuid": "b777b7fa-44be-4c3c-bc4d-ce099e1e0e16",
     "showTitle": false,
     "tableResultSettingsMap": {},
     "title": ""
    }
   },
   "outputs": [
    {
     "output_type": "display_data",
     "data": {
      "text/plain": [
       ""
      ]
     },
     "metadata": {
      "application/vnd.databricks.v1+output": {
       "arguments": {},
       "data": "",
       "errorSummary": "Command skipped",
       "errorTraceType": "ansi",
       "metadata": {},
       "type": "ipynbError"
      }
     },
     "output_type": "display_data"
    }
   ],
   "source": [
    "%sql\n",
    "delete from bronze.my_delta_table2\n",
    "where id = 2"
   ]
  },
  {
   "cell_type": "code",
   "execution_count": 0,
   "metadata": {
    "application/vnd.databricks.v1+cell": {
     "cellMetadata": {
      "byteLimit": 2048000,
      "rowLimit": 10000
     },
     "inputWidgets": {},
     "nuid": "c06e81a5-46c1-4168-9e4d-26a6222d0ebe",
     "showTitle": false,
     "tableResultSettingsMap": {},
     "title": ""
    }
   },
   "outputs": [
    {
     "output_type": "display_data",
     "data": {
      "text/plain": [
       ""
      ]
     },
     "metadata": {
      "application/vnd.databricks.v1+output": {
       "arguments": {},
       "data": "",
       "errorSummary": "Command skipped",
       "errorTraceType": "ansi",
       "metadata": {},
       "type": "ipynbError"
      }
     },
     "output_type": "display_data"
    }
   ],
   "source": [
    "%python\n",
    "''' to read the content of json file'''\n",
    "\n",
    "df = spark.read.json(\"/FileStore/OpenTableFormat/sinkdata/my_delta_table2/_delta_log/00000000000000000010.json\")\n",
    "\n",
    "display(df)"
   ]
  },
  {
   "cell_type": "markdown",
   "metadata": {
    "application/vnd.databricks.v1+cell": {
     "cellMetadata": {
      "byteLimit": 2048000,
      "rowLimit": 10000
     },
     "inputWidgets": {},
     "nuid": "4ed6afe0-a840-4fee-bff2-3f15579aedf9",
     "showTitle": false,
     "tableResultSettingsMap": {},
     "title": ""
    }
   },
   "source": [
    "### Data Versioning & Time Travel concept\n",
    "\n",
    "As we know, if we acceidently delete the dataframe and we want to resuse the data which was recetly deleted then we can use the feature of data versioning / time travel functionalites"
   ]
  },
  {
   "cell_type": "code",
   "execution_count": 0,
   "metadata": {
    "application/vnd.databricks.v1+cell": {
     "cellMetadata": {
      "byteLimit": 2048000,
      "rowLimit": 10000
     },
     "inputWidgets": {},
     "nuid": "8f36f528-7ce7-4848-bd67-5cfd4837c9ba",
     "showTitle": false,
     "tableResultSettingsMap": {},
     "title": ""
    }
   },
   "outputs": [
    {
     "output_type": "display_data",
     "data": {
      "text/plain": [
       ""
      ]
     },
     "metadata": {
      "application/vnd.databricks.v1+output": {
       "arguments": {},
       "data": "",
       "errorSummary": "Command skipped",
       "errorTraceType": "ansi",
       "metadata": {},
       "type": "ipynbError"
      }
     },
     "output_type": "display_data"
    }
   ],
   "source": [
    "%sql\n",
    "describe history bronze.my_delta_table2"
   ]
  },
  {
   "cell_type": "code",
   "execution_count": 0,
   "metadata": {
    "application/vnd.databricks.v1+cell": {
     "cellMetadata": {
      "byteLimit": 2048000,
      "rowLimit": 10000
     },
     "inputWidgets": {},
     "nuid": "dcb0b645-b4ee-4798-ae64-a6e9d3b94d06",
     "showTitle": false,
     "tableResultSettingsMap": {},
     "title": ""
    }
   },
   "outputs": [
    {
     "output_type": "display_data",
     "data": {
      "text/plain": [
       ""
      ]
     },
     "metadata": {
      "application/vnd.databricks.v1+output": {
       "arguments": {},
       "data": "",
       "errorSummary": "Command skipped",
       "errorTraceType": "ansi",
       "metadata": {},
       "type": "ipynbError"
      }
     },
     "output_type": "display_data"
    }
   ],
   "source": [
    "%sql\n",
    "-- After applying the versioning to table\n",
    "\n",
    "select * from bronze.my_delta_table2 version as of 9"
   ]
  },
  {
   "cell_type": "code",
   "execution_count": 0,
   "metadata": {
    "application/vnd.databricks.v1+cell": {
     "cellMetadata": {
      "byteLimit": 2048000,
      "rowLimit": 10000
     },
     "inputWidgets": {},
     "nuid": "06ed63b8-53dc-4f51-a4f8-ea72407228d9",
     "showTitle": false,
     "tableResultSettingsMap": {},
     "title": ""
    }
   },
   "outputs": [
    {
     "output_type": "display_data",
     "data": {
      "text/plain": [
       ""
      ]
     },
     "metadata": {
      "application/vnd.databricks.v1+output": {
       "arguments": {},
       "data": "",
       "errorSummary": "Command skipped",
       "errorTraceType": "ansi",
       "metadata": {},
       "type": "ipynbError"
      }
     },
     "output_type": "display_data"
    }
   ],
   "source": [
    "%sql\n",
    "-- Latest State of the table\n",
    "\n",
    "select * from bronze.my_delta_table2"
   ]
  },
  {
   "cell_type": "markdown",
   "metadata": {
    "application/vnd.databricks.v1+cell": {
     "cellMetadata": {
      "byteLimit": 2048000,
      "rowLimit": 10000
     },
     "inputWidgets": {},
     "nuid": "a38fd44c-de1d-4ea5-9ed6-f97fb1ba9d20",
     "showTitle": false,
     "tableResultSettingsMap": {},
     "title": ""
    }
   },
   "source": [
    "\n",
    "### VACCUM Command\n",
    "\n",
    "1. Hard Deletion of the data from delta\n",
    "  Its the right of the person/organaization , can ask for remove the\n",
    "2. It will remove the files which are older than 7 days\n",
    "3. If you are performing any vaccum run, then always make sure to use the 1st DRY RUN cmd as precautionary action\n"
   ]
  },
  {
   "cell_type": "code",
   "execution_count": 0,
   "metadata": {
    "application/vnd.databricks.v1+cell": {
     "cellMetadata": {
      "byteLimit": 2048000,
      "rowLimit": 10000
     },
     "inputWidgets": {},
     "nuid": "571f599d-d01f-41b9-a547-3ab71360cec4",
     "showTitle": false,
     "tableResultSettingsMap": {},
     "title": ""
    }
   },
   "outputs": [
    {
     "output_type": "display_data",
     "data": {
      "text/plain": [
       ""
      ]
     },
     "metadata": {
      "application/vnd.databricks.v1+output": {
       "arguments": {},
       "data": "",
       "errorSummary": "Command skipped",
       "errorTraceType": "ansi",
       "metadata": {},
       "type": "ipynbError"
      }
     },
     "output_type": "display_data"
    }
   ],
   "source": [
    "%sql\n",
    "vacuum bronze.my_delta_table2"
   ]
  },
  {
   "cell_type": "code",
   "execution_count": 0,
   "metadata": {
    "application/vnd.databricks.v1+cell": {
     "cellMetadata": {
      "byteLimit": 2048000,
      "rowLimit": 10000
     },
     "inputWidgets": {},
     "nuid": "8405327e-7574-46b5-803b-c1ecb904edee",
     "showTitle": false,
     "tableResultSettingsMap": {},
     "title": ""
    }
   },
   "outputs": [
    {
     "output_type": "display_data",
     "data": {
      "text/plain": [
       ""
      ]
     },
     "metadata": {
      "application/vnd.databricks.v1+output": {
       "arguments": {},
       "data": "",
       "errorSummary": "Command skipped",
       "errorTraceType": "ansi",
       "metadata": {},
       "type": "ipynbError"
      }
     },
     "output_type": "display_data"
    }
   ],
   "source": [
    "%sql\n",
    "-- If we want to know what are the deleted partition when we execute vaccum command then use the below command\n",
    "  -- 1.If you created the table recently then you ill not see the list of partition data bcoz data is not older than 7 days\n",
    "\n",
    "vacuum bronze.my_delta_table2 DRY RUN"
   ]
  },
  {
   "cell_type": "code",
   "execution_count": 0,
   "metadata": {
    "application/vnd.databricks.v1+cell": {
     "cellMetadata": {
      "byteLimit": 2048000,
      "rowLimit": 10000
     },
     "inputWidgets": {},
     "nuid": "eb08350f-08eb-471a-9273-c40a7737ec53",
     "showTitle": false,
     "tableResultSettingsMap": {},
     "title": ""
    }
   },
   "outputs": [
    {
     "output_type": "display_data",
     "data": {
      "text/plain": [
       ""
      ]
     },
     "metadata": {
      "application/vnd.databricks.v1+output": {
       "arguments": {},
       "data": "",
       "errorSummary": "Command skipped",
       "errorTraceType": "ansi",
       "metadata": {},
       "type": "ipynbError"
      }
     },
     "output_type": "display_data"
    }
   ],
   "source": [
    "%sql\n",
    "-- Set the retention period\n",
    "\n",
    "SET spark.databricks.delta.retentionDurationCheck.enabled = false"
   ]
  },
  {
   "cell_type": "code",
   "execution_count": 0,
   "metadata": {
    "application/vnd.databricks.v1+cell": {
     "cellMetadata": {
      "byteLimit": 2048000,
      "rowLimit": 10000
     },
     "inputWidgets": {},
     "nuid": "21c3a524-919e-4355-b4f1-2fed6ad558c3",
     "showTitle": false,
     "tableResultSettingsMap": {},
     "title": ""
    }
   },
   "outputs": [
    {
     "output_type": "display_data",
     "data": {
      "text/plain": [
       ""
      ]
     },
     "metadata": {
      "application/vnd.databricks.v1+output": {
       "arguments": {},
       "data": "",
       "errorSummary": "Command skipped",
       "errorTraceType": "ansi",
       "metadata": {},
       "type": "ipynbError"
      }
     },
     "output_type": "display_data"
    }
   ],
   "source": [
    "%sql\n",
    "-- Very Risky command to execute on table, always perform dry run before executing the VACCUM cmd. Else we cant traverse back/version back any data once its deleted, it will be permanently deleted.\n",
    "\n",
    "VACUUM bronze.my_delta_table2 RETAIN 0 HOURS DRY RUN;"
   ]
  },
  {
   "cell_type": "code",
   "execution_count": 0,
   "metadata": {
    "application/vnd.databricks.v1+cell": {
     "cellMetadata": {
      "byteLimit": 2048000,
      "rowLimit": 10000
     },
     "inputWidgets": {},
     "nuid": "37b98177-55b0-4554-b4a1-c0f74c02c411",
     "showTitle": false,
     "tableResultSettingsMap": {},
     "title": ""
    }
   },
   "outputs": [
    {
     "output_type": "display_data",
     "data": {
      "text/plain": [
       ""
      ]
     },
     "metadata": {
      "application/vnd.databricks.v1+output": {
       "arguments": {},
       "data": "",
       "errorSummary": "Command skipped",
       "errorTraceType": "ansi",
       "metadata": {},
       "type": "ipynbError"
      }
     },
     "output_type": "display_data"
    }
   ],
   "source": [
    "%sql\n",
    "-- Deleted all the parquet file which mentioned in the above cmd, and we can't traverse back or version back the data\n",
    "\n",
    "VACUUM bronze.my_delta_table2 RETAIN 0 HOURS "
   ]
  },
  {
   "cell_type": "markdown",
   "metadata": {
    "application/vnd.databricks.v1+cell": {
     "cellMetadata": {
      "byteLimit": 2048000,
      "rowLimit": 10000
     },
     "inputWidgets": {},
     "nuid": "58d0f948-4599-44d4-9f75-f4217b29173d",
     "showTitle": false,
     "tableResultSettingsMap": {},
     "title": ""
    }
   },
   "source": [
    "### SCHEMA ENFORCEMENT & SCHEMA EVOLUTION "
   ]
  },
  {
   "cell_type": "code",
   "execution_count": 0,
   "metadata": {
    "application/vnd.databricks.v1+cell": {
     "cellMetadata": {
      "byteLimit": 2048000,
      "rowLimit": 10000
     },
     "inputWidgets": {},
     "nuid": "f8de7e53-3104-4ee6-8315-e87663969944",
     "showTitle": false,
     "tableResultSettingsMap": {},
     "title": ""
    }
   },
   "outputs": [
    {
     "output_type": "display_data",
     "data": {
      "text/plain": [
       ""
      ]
     },
     "metadata": {
      "application/vnd.databricks.v1+output": {
       "arguments": {},
       "data": "",
       "errorSummary": "Command skipped",
       "errorTraceType": "ansi",
       "metadata": {},
       "type": "ipynbError"
      }
     },
     "output_type": "display_data"
    }
   ],
   "source": [
    "%python\n",
    "df = spark.read.format(\"csv\")\\\n",
    ".option(\"header\",True)\\\n",
    ".option(\"inferSchema\",True)\\\n",
    ".load('/FileStore/OpenTableFormat/rawdata/sales_data_third.csv')\n",
    "\n",
    "display(df)"
   ]
  },
  {
   "cell_type": "code",
   "execution_count": 0,
   "metadata": {
    "application/vnd.databricks.v1+cell": {
     "cellMetadata": {
      "byteLimit": 2048000,
      "rowLimit": 10000
     },
     "inputWidgets": {},
     "nuid": "a2c88757-cd04-4001-8223-e87a150c62d7",
     "showTitle": false,
     "tableResultSettingsMap": {},
     "title": ""
    }
   },
   "outputs": [
    {
     "output_type": "display_data",
     "data": {
      "text/plain": [
       ""
      ]
     },
     "metadata": {
      "application/vnd.databricks.v1+output": {
       "arguments": {},
       "data": "",
       "errorSummary": "Command skipped",
       "errorTraceType": "ansi",
       "metadata": {},
       "type": "ipynbError"
      }
     },
     "output_type": "display_data"
    }
   ],
   "source": [
    "%python\n",
    "'''\n",
    "convert the above df into delta format\n",
    "    1. we can provide path till folder level, we cant give the filename when writing into delta format \n",
    "    2. whenever there is schema evolution while writing the data in delta format use the \"mergeSchema = true\" in option\n",
    "'''\n",
    "\n",
    "df.write.format(\"delta\")\\\n",
    "    .mode('append')\\\n",
    "    .option(\"path\",\"/FileStore/OpenTableFormat/sinkdata/sales_data\")\\\n",
    "    .option('mergeSchema', True)\\\n",
    "        .save()"
   ]
  },
  {
   "cell_type": "code",
   "execution_count": 0,
   "metadata": {
    "application/vnd.databricks.v1+cell": {
     "cellMetadata": {
      "byteLimit": 2048000,
      "rowLimit": 10000
     },
     "inputWidgets": {},
     "nuid": "65cdd688-8ee9-4f28-97d7-d4542a23d955",
     "showTitle": false,
     "tableResultSettingsMap": {},
     "title": ""
    }
   },
   "outputs": [
    {
     "output_type": "display_data",
     "data": {
      "text/plain": [
       ""
      ]
     },
     "metadata": {
      "application/vnd.databricks.v1+output": {
       "arguments": {},
       "data": "",
       "errorSummary": "Command skipped",
       "errorTraceType": "ansi",
       "metadata": {},
       "type": "ipynbError"
      }
     },
     "output_type": "display_data"
    }
   ],
   "source": [
    "%sql\n",
    "-- During the read of 2 sheet we didn't have the schema changes so we have enforced the schema, but in the third sheet we see the schema evolution.\n",
    "-- Note : How to identify the SCHEMA EVOLUTION ?, Just read the file, you can see the last new column name \"ReturnFlag\" it mention the schema evolution which returns 1. if there is no schema evolution then it will return null values.\n",
    "\n",
    "select * from delta.`/FileStore/OpenTableFormat/sinkdata/sales_data`"
   ]
  },
  {
   "cell_type": "markdown",
   "metadata": {
    "application/vnd.databricks.v1+cell": {
     "cellMetadata": {
      "byteLimit": 2048000,
      "rowLimit": 10000
     },
     "inputWidgets": {},
     "nuid": "e2b72ff7-bbff-4bc1-93b1-d4b8288af481",
     "showTitle": false,
     "tableResultSettingsMap": {},
     "title": ""
    }
   },
   "source": [
    "### METADATA LEVEL CHANGES"
   ]
  },
  {
   "cell_type": "code",
   "execution_count": 0,
   "metadata": {
    "application/vnd.databricks.v1+cell": {
     "cellMetadata": {
      "byteLimit": 2048000,
      "rowLimit": 10000
     },
     "inputWidgets": {},
     "nuid": "2e211859-e198-4bfb-bb32-550c3b9ae4f1",
     "showTitle": false,
     "tableResultSettingsMap": {},
     "title": ""
    }
   },
   "outputs": [
    {
     "output_type": "display_data",
     "data": {
      "text/html": [
       "<style scoped>\n",
       "  .table-result-container {\n",
       "    max-height: 300px;\n",
       "    overflow: auto;\n",
       "  }\n",
       "  table, th, td {\n",
       "    border: 1px solid black;\n",
       "    border-collapse: collapse;\n",
       "  }\n",
       "  th, td {\n",
       "    padding: 5px;\n",
       "  }\n",
       "  th {\n",
       "    text-align: left;\n",
       "  }\n",
       "</style><div class='table-result-container'><table class='table-result'><thead style='background-color: white'><tr></tr></thead><tbody></tbody></table></div>"
      ]
     },
     "metadata": {
      "application/vnd.databricks.v1+output": {
       "addedWidgets": {},
       "aggData": [],
       "aggError": "",
       "aggOverflow": false,
       "aggSchema": [],
       "aggSeriesLimitReached": false,
       "aggType": "",
       "arguments": {},
       "columnCustomDisplayInfos": {},
       "data": [],
       "datasetInfos": [],
       "dbfsResultPath": null,
       "isJsonSchema": true,
       "metadata": {
        "isDbfsCommandResult": false
       },
       "overflow": false,
       "plotOptions": {
        "customPlotOptions": {},
        "displayType": "table",
        "pivotAggregation": null,
        "pivotColumns": null,
        "xColumns": null,
        "yColumns": null
       },
       "removedWidgets": [],
       "schema": [],
       "type": "table"
      }
     },
     "output_type": "display_data"
    }
   ],
   "source": [
    "%sql\n",
    "-- Changes applied on the metadata level not on the data level, so we can see new json files created in _delta_log file, but nothing parquet file is created\n",
    "\n",
    "-- Adding new column \"Flag\"\n",
    "\n",
    "alter table bronze.my_delta_table2\n",
    "add column flag INT"
   ]
  },
  {
   "cell_type": "code",
   "execution_count": 0,
   "metadata": {
    "application/vnd.databricks.v1+cell": {
     "cellMetadata": {
      "byteLimit": 2048000,
      "rowLimit": 10000
     },
     "inputWidgets": {},
     "nuid": "94ad5ecb-58e1-4584-ad7b-e988bd9fde1d",
     "showTitle": false,
     "tableResultSettingsMap": {},
     "title": ""
    }
   },
   "outputs": [
    {
     "output_type": "display_data",
     "data": {
      "text/html": [
       "<style scoped>\n",
       "  .table-result-container {\n",
       "    max-height: 300px;\n",
       "    overflow: auto;\n",
       "  }\n",
       "  table, th, td {\n",
       "    border: 1px solid black;\n",
       "    border-collapse: collapse;\n",
       "  }\n",
       "  th, td {\n",
       "    padding: 5px;\n",
       "  }\n",
       "  th {\n",
       "    text-align: left;\n",
       "  }\n",
       "</style><div class='table-result-container'><table class='table-result'><thead style='background-color: white'><tr><th>ID</th><th>Name</th><th>salary</th><th>flag</th></tr></thead><tbody><tr><td>3</td><td>ccc</td><td>1000.0</td><td>null</td></tr><tr><td>4</td><td>ddd</td><td>2000.0</td><td>null</td></tr><tr><td>3</td><td>ccc</td><td>1000.0</td><td>null</td></tr><tr><td>4</td><td>ddd</td><td>2000.0</td><td>null</td></tr><tr><td>1</td><td>AAA</td><td>1000.0</td><td>null</td></tr><tr><td>1</td><td>ccc</td><td>1000.0</td><td>null</td></tr><tr><td>1</td><td>AAA</td><td>1000.0</td><td>null</td></tr></tbody></table></div>"
      ]
     },
     "metadata": {
      "application/vnd.databricks.v1+output": {
       "addedWidgets": {},
       "aggData": [],
       "aggError": "",
       "aggOverflow": false,
       "aggSchema": [],
       "aggSeriesLimitReached": false,
       "aggType": "",
       "arguments": {},
       "columnCustomDisplayInfos": {},
       "data": [
        [
         3,
         "ccc",
         1000.0,
         null
        ],
        [
         4,
         "ddd",
         2000.0,
         null
        ],
        [
         3,
         "ccc",
         1000.0,
         null
        ],
        [
         4,
         "ddd",
         2000.0,
         null
        ],
        [
         1,
         "AAA",
         1000.0,
         null
        ],
        [
         1,
         "ccc",
         1000.0,
         null
        ],
        [
         1,
         "AAA",
         1000.0,
         null
        ]
       ],
       "datasetInfos": [],
       "dbfsResultPath": null,
       "isJsonSchema": true,
       "metadata": {
        "isDbfsCommandResult": false
       },
       "overflow": false,
       "plotOptions": {
        "customPlotOptions": {},
        "displayType": "table",
        "pivotAggregation": null,
        "pivotColumns": null,
        "xColumns": null,
        "yColumns": null
       },
       "removedWidgets": [],
       "schema": [
        {
         "metadata": "{}",
         "name": "ID",
         "type": "\"integer\""
        },
        {
         "metadata": "{}",
         "name": "Name",
         "type": "\"string\""
        },
        {
         "metadata": "{}",
         "name": "salary",
         "type": "\"double\""
        },
        {
         "metadata": "{}",
         "name": "flag",
         "type": "\"integer\""
        }
       ],
       "type": "table"
      }
     },
     "output_type": "display_data"
    }
   ],
   "source": [
    "%sql\n",
    "SELECT * FROM  bronze.my_delta_table2"
   ]
  },
  {
   "cell_type": "code",
   "execution_count": 0,
   "metadata": {
    "application/vnd.databricks.v1+cell": {
     "cellMetadata": {
      "byteLimit": 2048000,
      "rowLimit": 10000
     },
     "inputWidgets": {},
     "nuid": "783f8674-4f71-4814-9783-3b448046939a",
     "showTitle": false,
     "tableResultSettingsMap": {},
     "title": ""
    }
   },
   "outputs": [
    {
     "output_type": "display_data",
     "data": {
      "text/html": [
       "<style scoped>\n",
       "  .table-result-container {\n",
       "    max-height: 300px;\n",
       "    overflow: auto;\n",
       "  }\n",
       "  table, th, td {\n",
       "    border: 1px solid black;\n",
       "    border-collapse: collapse;\n",
       "  }\n",
       "  th, td {\n",
       "    padding: 5px;\n",
       "  }\n",
       "  th {\n",
       "    text-align: left;\n",
       "  }\n",
       "</style><div class='table-result-container'><table class='table-result'><thead style='background-color: white'><tr><th>commitInfo</th><th>metaData</th></tr></thead><tbody><tr><td>List(0509-071452-exzuppom, Databricks-Runtime/12.2.x-scala2.12, true, WriteSerializable, List(2116935914246921), ADD COLUMNS, List([{\"column\":{\"name\":\"flag\",\"type\":\"integer\",\"nullable\":true,\"metadata\":{}}}]), 10, 1746775741351, 19975d76-94c4-4a4a-80ef-e27a1f6d4fd1, 7635163290231677, contacttopaone@gmail.com)</td><td>null</td></tr><tr><td>null</td><td>List(List(false), 1746694528184, List(parquet), 09738dcf-e401-454b-b629-75a70adbe84b, List(), {\"type\":\"struct\",\"fields\":[{\"name\":\"ID\",\"type\":\"integer\",\"nullable\":true,\"metadata\":{}},{\"name\":\"Name\",\"type\":\"string\",\"nullable\":true,\"metadata\":{}},{\"name\":\"salary\",\"type\":\"double\",\"nullable\":true,\"metadata\":{}},{\"name\":\"flag\",\"type\":\"integer\",\"nullable\":true,\"metadata\":{}}]})</td></tr></tbody></table></div>"
      ]
     },
     "metadata": {
      "application/vnd.databricks.v1+output": {
       "addedWidgets": {},
       "aggData": [],
       "aggError": "",
       "aggOverflow": false,
       "aggSchema": [],
       "aggSeriesLimitReached": false,
       "aggType": "",
       "arguments": {},
       "columnCustomDisplayInfos": {},
       "data": [
        [
         [
          "0509-071452-exzuppom",
          "Databricks-Runtime/12.2.x-scala2.12",
          true,
          "WriteSerializable",
          [
           "2116935914246921"
          ],
          "ADD COLUMNS",
          [
           "[{\"column\":{\"name\":\"flag\",\"type\":\"integer\",\"nullable\":true,\"metadata\":{}}}]"
          ],
          10,
          1746775741351,
          "19975d76-94c4-4a4a-80ef-e27a1f6d4fd1",
          "7635163290231677",
          "contacttopaone@gmail.com"
         ],
         null
        ],
        [
         null,
         [
          [
           "false"
          ],
          1746694528184,
          [
           "parquet"
          ],
          "09738dcf-e401-454b-b629-75a70adbe84b",
          [],
          "{\"type\":\"struct\",\"fields\":[{\"name\":\"ID\",\"type\":\"integer\",\"nullable\":true,\"metadata\":{}},{\"name\":\"Name\",\"type\":\"string\",\"nullable\":true,\"metadata\":{}},{\"name\":\"salary\",\"type\":\"double\",\"nullable\":true,\"metadata\":{}},{\"name\":\"flag\",\"type\":\"integer\",\"nullable\":true,\"metadata\":{}}]}"
         ]
        ]
       ],
       "datasetInfos": [],
       "dbfsResultPath": null,
       "isJsonSchema": true,
       "metadata": {},
       "overflow": false,
       "plotOptions": {
        "customPlotOptions": {},
        "displayType": "table",
        "pivotAggregation": null,
        "pivotColumns": null,
        "xColumns": null,
        "yColumns": null
       },
       "removedWidgets": [],
       "schema": [
        {
         "metadata": "{}",
         "name": "commitInfo",
         "type": "{\"type\":\"struct\",\"fields\":[{\"name\":\"clusterId\",\"type\":\"string\",\"nullable\":true,\"metadata\":{}},{\"name\":\"engineInfo\",\"type\":\"string\",\"nullable\":true,\"metadata\":{}},{\"name\":\"isBlindAppend\",\"type\":\"boolean\",\"nullable\":true,\"metadata\":{}},{\"name\":\"isolationLevel\",\"type\":\"string\",\"nullable\":true,\"metadata\":{}},{\"name\":\"notebook\",\"type\":{\"type\":\"struct\",\"fields\":[{\"name\":\"notebookId\",\"type\":\"string\",\"nullable\":true,\"metadata\":{}}]},\"nullable\":true,\"metadata\":{}},{\"name\":\"operation\",\"type\":\"string\",\"nullable\":true,\"metadata\":{}},{\"name\":\"operationParameters\",\"type\":{\"type\":\"struct\",\"fields\":[{\"name\":\"columns\",\"type\":\"string\",\"nullable\":true,\"metadata\":{}}]},\"nullable\":true,\"metadata\":{}},{\"name\":\"readVersion\",\"type\":\"long\",\"nullable\":true,\"metadata\":{}},{\"name\":\"timestamp\",\"type\":\"long\",\"nullable\":true,\"metadata\":{}},{\"name\":\"txnId\",\"type\":\"string\",\"nullable\":true,\"metadata\":{}},{\"name\":\"userId\",\"type\":\"string\",\"nullable\":true,\"metadata\":{}},{\"name\":\"userName\",\"type\":\"string\",\"nullable\":true,\"metadata\":{}}]}"
        },
        {
         "metadata": "{}",
         "name": "metaData",
         "type": "{\"type\":\"struct\",\"fields\":[{\"name\":\"configuration\",\"type\":{\"type\":\"struct\",\"fields\":[{\"name\":\"delta.enableDeletionVectors\",\"type\":\"string\",\"nullable\":true,\"metadata\":{}}]},\"nullable\":true,\"metadata\":{}},{\"name\":\"createdTime\",\"type\":\"long\",\"nullable\":true,\"metadata\":{}},{\"name\":\"format\",\"type\":{\"type\":\"struct\",\"fields\":[{\"name\":\"provider\",\"type\":\"string\",\"nullable\":true,\"metadata\":{}}]},\"nullable\":true,\"metadata\":{}},{\"name\":\"id\",\"type\":\"string\",\"nullable\":true,\"metadata\":{}},{\"name\":\"partitionColumns\",\"type\":{\"type\":\"array\",\"elementType\":\"string\",\"containsNull\":true},\"nullable\":true,\"metadata\":{}},{\"name\":\"schemaString\",\"type\":\"string\",\"nullable\":true,\"metadata\":{}}]}"
        }
       ],
       "type": "table"
      }
     },
     "output_type": "display_data"
    }
   ],
   "source": [
    "%python\n",
    "''' to read the content of json file'''\n",
    "\n",
    "df = spark.read.json(\"/FileStore/OpenTableFormat/sinkdata/my_delta_table2/_delta_log/00000000000000000011.json\")\n",
    "\n",
    "display(df)"
   ]
  },
  {
   "cell_type": "code",
   "execution_count": 0,
   "metadata": {
    "application/vnd.databricks.v1+cell": {
     "cellMetadata": {
      "byteLimit": 2048000,
      "rowLimit": 10000
     },
     "inputWidgets": {},
     "nuid": "9fe7408c-d664-4c53-9ca5-a16c3d56957b",
     "showTitle": false,
     "tableResultSettingsMap": {},
     "title": ""
    }
   },
   "outputs": [
    {
     "output_type": "display_data",
     "data": {
      "text/html": [
       "<style scoped>\n",
       "  .table-result-container {\n",
       "    max-height: 300px;\n",
       "    overflow: auto;\n",
       "  }\n",
       "  table, th, td {\n",
       "    border: 1px solid black;\n",
       "    border-collapse: collapse;\n",
       "  }\n",
       "  th, td {\n",
       "    padding: 5px;\n",
       "  }\n",
       "  th {\n",
       "    text-align: left;\n",
       "  }\n",
       "</style><div class='table-result-container'><table class='table-result'><thead style='background-color: white'><tr></tr></thead><tbody></tbody></table></div>"
      ]
     },
     "metadata": {
      "application/vnd.databricks.v1+output": {
       "addedWidgets": {},
       "aggData": [],
       "aggError": "",
       "aggOverflow": false,
       "aggSchema": [],
       "aggSeriesLimitReached": false,
       "aggType": "",
       "arguments": {},
       "columnCustomDisplayInfos": {},
       "data": [],
       "datasetInfos": [],
       "dbfsResultPath": null,
       "isJsonSchema": true,
       "metadata": {
        "isDbfsCommandResult": false
       },
       "overflow": false,
       "plotOptions": {
        "customPlotOptions": {},
        "displayType": "table",
        "pivotAggregation": null,
        "pivotColumns": null,
        "xColumns": null,
        "yColumns": null
       },
       "removedWidgets": [],
       "schema": [],
       "type": "table"
      }
     },
     "output_type": "display_data"
    }
   ],
   "source": [
    "%sql\n",
    "-- Reordering the column names\n",
    "\n",
    "alter table bronze.my_delta_table2\n",
    "alter column id after Name"
   ]
  },
  {
   "cell_type": "code",
   "execution_count": 0,
   "metadata": {
    "application/vnd.databricks.v1+cell": {
     "cellMetadata": {
      "byteLimit": 2048000,
      "rowLimit": 10000
     },
     "inputWidgets": {},
     "nuid": "96e100b7-2bd7-40c9-bef8-b58cc261679c",
     "showTitle": false,
     "tableResultSettingsMap": {},
     "title": ""
    }
   },
   "outputs": [
    {
     "output_type": "display_data",
     "data": {
      "text/html": [
       "<style scoped>\n",
       "  .table-result-container {\n",
       "    max-height: 300px;\n",
       "    overflow: auto;\n",
       "  }\n",
       "  table, th, td {\n",
       "    border: 1px solid black;\n",
       "    border-collapse: collapse;\n",
       "  }\n",
       "  th, td {\n",
       "    padding: 5px;\n",
       "  }\n",
       "  th {\n",
       "    text-align: left;\n",
       "  }\n",
       "</style><div class='table-result-container'><table class='table-result'><thead style='background-color: white'><tr><th>Name</th><th>ID</th><th>salary</th><th>flag</th></tr></thead><tbody><tr><td>ccc</td><td>3</td><td>1000.0</td><td>null</td></tr><tr><td>ddd</td><td>4</td><td>2000.0</td><td>null</td></tr><tr><td>ccc</td><td>3</td><td>1000.0</td><td>null</td></tr><tr><td>ddd</td><td>4</td><td>2000.0</td><td>null</td></tr><tr><td>AAA</td><td>1</td><td>1000.0</td><td>null</td></tr><tr><td>ccc</td><td>1</td><td>1000.0</td><td>null</td></tr><tr><td>AAA</td><td>1</td><td>1000.0</td><td>null</td></tr></tbody></table></div>"
      ]
     },
     "metadata": {
      "application/vnd.databricks.v1+output": {
       "addedWidgets": {},
       "aggData": [],
       "aggError": "",
       "aggOverflow": false,
       "aggSchema": [],
       "aggSeriesLimitReached": false,
       "aggType": "",
       "arguments": {},
       "columnCustomDisplayInfos": {},
       "data": [
        [
         "ccc",
         3,
         1000.0,
         null
        ],
        [
         "ddd",
         4,
         2000.0,
         null
        ],
        [
         "ccc",
         3,
         1000.0,
         null
        ],
        [
         "ddd",
         4,
         2000.0,
         null
        ],
        [
         "AAA",
         1,
         1000.0,
         null
        ],
        [
         "ccc",
         1,
         1000.0,
         null
        ],
        [
         "AAA",
         1,
         1000.0,
         null
        ]
       ],
       "datasetInfos": [],
       "dbfsResultPath": null,
       "isJsonSchema": true,
       "metadata": {
        "isDbfsCommandResult": false
       },
       "overflow": false,
       "plotOptions": {
        "customPlotOptions": {},
        "displayType": "table",
        "pivotAggregation": null,
        "pivotColumns": null,
        "xColumns": null,
        "yColumns": null
       },
       "removedWidgets": [],
       "schema": [
        {
         "metadata": "{}",
         "name": "Name",
         "type": "\"string\""
        },
        {
         "metadata": "{}",
         "name": "ID",
         "type": "\"integer\""
        },
        {
         "metadata": "{}",
         "name": "salary",
         "type": "\"double\""
        },
        {
         "metadata": "{}",
         "name": "flag",
         "type": "\"integer\""
        }
       ],
       "type": "table"
      }
     },
     "output_type": "display_data"
    }
   ],
   "source": [
    "%sql\n",
    "select * from bronze.my_delta_table2"
   ]
  },
  {
   "cell_type": "code",
   "execution_count": 0,
   "metadata": {
    "application/vnd.databricks.v1+cell": {
     "cellMetadata": {
      "byteLimit": 2048000,
      "rowLimit": 10000
     },
     "inputWidgets": {},
     "nuid": "a2358a27-948e-4a42-afe8-361fdd545f5f",
     "showTitle": false,
     "tableResultSettingsMap": {},
     "title": ""
    }
   },
   "outputs": [
    {
     "output_type": "display_data",
     "data": {
      "text/html": [
       "<style scoped>\n",
       "  .ansiout {\n",
       "    display: block;\n",
       "    unicode-bidi: embed;\n",
       "    white-space: pre-wrap;\n",
       "    word-wrap: break-word;\n",
       "    word-break: break-all;\n",
       "    font-family: \"Menlo\", \"Monaco\", \"Consolas\", \"Ubuntu Mono\", \"Source Code Pro\", monospace;\n",
       "    font-size: 13px;\n",
       "    color: #555;\n",
       "    margin-left: 4px;\n",
       "    line-height: 19px;\n",
       "  }\n",
       "</style>\n",
       "com.databricks.backend.common.rpc.SparkDriverExceptions$SQLExecutionException: com.databricks.sql.transaction.tahoe.DeltaAnalysisException: DROP COLUMN is not supported for your Delta table. \n",
       "Please enable Column Mapping on your Delta table with mapping mode 'name'.\n",
       "You can use one of the following commands.\n",
       "\n",
       "If your table is already on the required protocol version:\n",
       "ALTER TABLE table_name SET TBLPROPERTIES ('delta.columnMapping.mode' = 'name')\n",
       "\n",
       "If your table is not on the required protocol version and requires a protocol upgrade:\n",
       "ALTER TABLE table_name SET TBLPROPERTIES (\n",
       "   'delta.columnMapping.mode' = 'name',\n",
       "   'delta.minReaderVersion' = '2',\n",
       "   'delta.minWriterVersion' = '5')\n",
       "Refer to table versioning at https://docs.databricks.com/delta/versioning.html\n",
       "\tat com.databricks.sql.transaction.tahoe.DeltaErrorsBase.dropColumnNotSupported(DeltaErrors.scala:2005)\n",
       "\tat com.databricks.sql.transaction.tahoe.DeltaErrorsBase.dropColumnNotSupported$(DeltaErrors.scala:2003)\n",
       "\tat com.databricks.sql.transaction.tahoe.DeltaErrors$.dropColumnNotSupported(DeltaErrors.scala:2759)\n",
       "\tat com.databricks.sql.transaction.tahoe.commands.AlterTableDropColumnsDeltaCommand.$anonfun$run$14(alterDeltaTableCommands.scala:339)\n",
       "\tat com.databricks.sql.transaction.tahoe.metering.DeltaLogging.withOperationTypeTag(DeltaLogging.scala:240)\n",
       "\tat com.databricks.sql.transaction.tahoe.metering.DeltaLogging.withOperationTypeTag$(DeltaLogging.scala:227)\n",
       "\tat com.databricks.sql.transaction.tahoe.commands.AlterTableDropColumnsDeltaCommand.withOperationTypeTag(alterDeltaTableCommands.scala:323)\n",
       "\tat com.databricks.sql.transaction.tahoe.metering.DeltaLogging.$anonfun$recordDeltaOperationInternal$2(DeltaLogging.scala:165)\n",
       "\tat com.databricks.spark.util.FrameProfiler$.record(FrameProfiler.scala:80)\n",
       "\tat com.databricks.sql.transaction.tahoe.metering.DeltaLogging.recordFrameProfile(DeltaLogging.scala:309)\n",
       "\tat com.databricks.sql.transaction.tahoe.metering.DeltaLogging.recordFrameProfile$(DeltaLogging.scala:307)\n",
       "\tat com.databricks.sql.transaction.tahoe.commands.AlterTableDropColumnsDeltaCommand.recordFrameProfile(alterDeltaTableCommands.scala:323)\n",
       "\tat com.databricks.sql.transaction.tahoe.metering.DeltaLogging.$anonfun$recordDeltaOperationInternal$1(DeltaLogging.scala:164)\n",
       "\tat com.databricks.logging.UsageLogging.$anonfun$recordOperation$1(UsageLogging.scala:560)\n",
       "\tat com.databricks.logging.UsageLogging.executeThunkAndCaptureResultTags$1(UsageLogging.scala:657)\n",
       "\tat com.databricks.logging.UsageLogging.$anonfun$recordOperationWithResultTags$4(UsageLogging.scala:678)\n",
       "\tat com.databricks.logging.UsageLogging.$anonfun$withAttributionContext$1(UsageLogging.scala:414)\n",
       "\tat scala.util.DynamicVariable.withValue(DynamicVariable.scala:62)\n",
       "\tat com.databricks.logging.AttributionContext$.withValue(AttributionContext.scala:158)\n",
       "\tat com.databricks.logging.UsageLogging.withAttributionContext(UsageLogging.scala:412)\n",
       "\tat com.databricks.logging.UsageLogging.withAttributionContext$(UsageLogging.scala:409)\n",
       "\tat com.databricks.spark.util.PublicDBLogging.withAttributionContext(DatabricksSparkUsageLogger.scala:26)\n",
       "\tat com.databricks.logging.UsageLogging.withAttributionTags(UsageLogging.scala:457)\n",
       "\tat com.databricks.logging.UsageLogging.withAttributionTags$(UsageLogging.scala:442)\n",
       "\tat com.databricks.spark.util.PublicDBLogging.withAttributionTags(DatabricksSparkUsageLogger.scala:26)\n",
       "\tat com.databricks.logging.UsageLogging.recordOperationWithResultTags(UsageLogging.scala:652)\n",
       "\tat com.databricks.logging.UsageLogging.recordOperationWithResultTags$(UsageLogging.scala:569)\n",
       "\tat com.databricks.spark.util.PublicDBLogging.recordOperationWithResultTags(DatabricksSparkUsageLogger.scala:26)\n",
       "\tat com.databricks.logging.UsageLogging.recordOperation(UsageLogging.scala:560)\n",
       "\tat com.databricks.logging.UsageLogging.recordOperation$(UsageLogging.scala:528)\n",
       "\tat com.databricks.spark.util.PublicDBLogging.recordOperation(DatabricksSparkUsageLogger.scala:26)\n",
       "\tat com.databricks.spark.util.PublicDBLogging.recordOperation0(DatabricksSparkUsageLogger.scala:67)\n",
       "\tat com.databricks.spark.util.DatabricksSparkUsageLogger.recordOperation(DatabricksSparkUsageLogger.scala:150)\n",
       "\tat com.databricks.spark.util.UsageLogger.recordOperation(UsageLogger.scala:72)\n",
       "\tat com.databricks.spark.util.UsageLogger.recordOperation$(UsageLogger.scala:59)\n",
       "\tat com.databricks.spark.util.DatabricksSparkUsageLogger.recordOperation(DatabricksSparkUsageLogger.scala:109)\n",
       "\tat com.databricks.spark.util.UsageLogging.recordOperation(UsageLogger.scala:433)\n",
       "\tat com.databricks.spark.util.UsageLogging.recordOperation$(UsageLogger.scala:412)\n",
       "\tat com.databricks.sql.transaction.tahoe.commands.AlterTableDropColumnsDeltaCommand.recordOperation(alterDeltaTableCommands.scala:323)\n",
       "\tat com.databricks.sql.transaction.tahoe.metering.DeltaLogging.recordDeltaOperationInternal(DeltaLogging.scala:163)\n",
       "\tat com.databricks.sql.transaction.tahoe.metering.DeltaLogging.recordDeltaOperation(DeltaLogging.scala:153)\n",
       "\tat com.databricks.sql.transaction.tahoe.metering.DeltaLogging.recordDeltaOperation$(DeltaLogging.scala:142)\n",
       "\tat com.databricks.sql.transaction.tahoe.commands.AlterTableDropColumnsDeltaCommand.recordDeltaOperation(alterDeltaTableCommands.scala:323)\n",
       "\tat com.databricks.sql.transaction.tahoe.commands.AlterTableDropColumnsDeltaCommand.run(alterDeltaTableCommands.scala:335)\n",
       "\tat com.databricks.sql.transaction.tahoe.catalog.DeltaCatalog.$anonfun$alterTable$5(DeltaCatalog.scala:1035)\n",
       "\tat scala.collection.immutable.Map$Map1.foreach(Map.scala:193)\n",
       "\tat com.databricks.sql.transaction.tahoe.catalog.DeltaCatalog.$anonfun$alterTable$1(DeltaCatalog.scala:992)\n",
       "\tat com.databricks.spark.util.FrameProfiler$.record(FrameProfiler.scala:80)\n",
       "\tat com.databricks.sql.transaction.tahoe.metering.DeltaLogging.recordFrameProfile(DeltaLogging.scala:309)\n",
       "\tat com.databricks.sql.transaction.tahoe.metering.DeltaLogging.recordFrameProfile$(DeltaLogging.scala:307)\n",
       "\tat com.databricks.sql.transaction.tahoe.catalog.DeltaCatalog.recordFrameProfile(DeltaCatalog.scala:91)\n",
       "\tat com.databricks.sql.transaction.tahoe.catalog.DeltaCatalog.alterTable(DeltaCatalog.scala:960)\n",
       "\tat com.databricks.sql.transaction.tahoe.catalog.DeltaCatalog.alterTable(DeltaCatalog.scala:91)\n",
       "\tat com.databricks.sql.managedcatalog.UnityCatalogV2Proxy.alterTable(UnityCatalogV2Proxy.scala:235)\n",
       "\tat com.databricks.sql.managedcatalog.UnityCatalogV2Proxy.alterTable(UnityCatalogV2Proxy.scala:51)\n",
       "\tat org.apache.spark.sql.execution.datasources.v2.AlterTableExec.run(AlterTableExec.scala:37)\n",
       "\tat org.apache.spark.sql.execution.datasources.v2.V2CommandExec.$anonfun$result$1(V2CommandExec.scala:47)\n",
       "\tat com.databricks.spark.util.FrameProfiler$.record(FrameProfiler.scala:80)\n",
       "\tat org.apache.spark.sql.execution.datasources.v2.V2CommandExec.result$lzycompute(V2CommandExec.scala:47)\n",
       "\tat org.apache.spark.sql.execution.datasources.v2.V2CommandExec.result(V2CommandExec.scala:45)\n",
       "\tat org.apache.spark.sql.execution.datasources.v2.V2CommandExec.executeCollect(V2CommandExec.scala:54)\n",
       "\tat org.apache.spark.sql.execution.QueryExecution$$anonfun$$nestedInanonfun$eagerlyExecuteCommands$1$1.$anonfun$applyOrElse$3(QueryExecution.scala:256)\n",
       "\tat org.apache.spark.sql.catalyst.QueryPlanningTracker$.withTracker(QueryPlanningTracker.scala:165)\n",
       "\tat org.apache.spark.sql.execution.QueryExecution$$anonfun$$nestedInanonfun$eagerlyExecuteCommands$1$1.$anonfun$applyOrElse$2(QueryExecution.scala:256)\n",
       "\tat org.apache.spark.sql.execution.SQLExecution$.$anonfun$withCustomExecutionEnv$9(SQLExecution.scala:258)\n",
       "\tat org.apache.spark.sql.execution.SQLExecution$.withSQLConfPropagated(SQLExecution.scala:448)\n",
       "\tat org.apache.spark.sql.execution.SQLExecution$.$anonfun$withCustomExecutionEnv$1(SQLExecution.scala:203)\n",
       "\tat org.apache.spark.sql.SparkSession.withActive(SparkSession.scala:1073)\n",
       "\tat org.apache.spark.sql.execution.SQLExecution$.withCustomExecutionEnv(SQLExecution.scala:131)\n",
       "\tat org.apache.spark.sql.execution.SQLExecution$.withNewExecutionId(SQLExecution.scala:398)\n",
       "\tat org.apache.spark.sql.execution.QueryExecution$$anonfun$$nestedInanonfun$eagerlyExecuteCommands$1$1.$anonfun$applyOrElse$1(QueryExecution.scala:255)\n",
       "\tat org.apache.spark.sql.execution.QueryExecution.org$apache$spark$sql$execution$QueryExecution$$withMVTagsIfNecessary(QueryExecution.scala:238)\n",
       "\tat org.apache.spark.sql.execution.QueryExecution$$anonfun$$nestedInanonfun$eagerlyExecuteCommands$1$1.applyOrElse(QueryExecution.scala:251)\n",
       "\tat org.apache.spark.sql.execution.QueryExecution$$anonfun$$nestedInanonfun$eagerlyExecuteCommands$1$1.applyOrElse(QueryExecution.scala:244)\n",
       "\tat org.apache.spark.sql.catalyst.trees.TreeNode.$anonfun$transformDownWithPruning$1(TreeNode.scala:519)\n",
       "\tat org.apache.spark.sql.catalyst.trees.CurrentOrigin$.withOrigin(TreeNode.scala:106)\n",
       "\tat org.apache.spark.sql.catalyst.trees.TreeNode.transformDownWithPruning(TreeNode.scala:519)\n",
       "\tat org.apache.spark.sql.catalyst.plans.logical.LogicalPlan.org$apache$spark$sql$catalyst$plans$logical$AnalysisHelper$$super$transformDownWithPruning(LogicalPlan.scala:32)\n",
       "\tat org.apache.spark.sql.catalyst.plans.logical.AnalysisHelper.transformDownWithPruning(AnalysisHelper.scala:339)\n",
       "\tat org.apache.spark.sql.catalyst.plans.logical.AnalysisHelper.transformDownWithPruning$(AnalysisHelper.scala:335)\n",
       "\tat org.apache.spark.sql.catalyst.plans.logical.LogicalPlan.transformDownWithPruning(LogicalPlan.scala:32)\n",
       "\tat org.apache.spark.sql.catalyst.plans.logical.LogicalPlan.transformDownWithPruning(LogicalPlan.scala:32)\n",
       "\tat org.apache.spark.sql.catalyst.trees.TreeNode.transformDown(TreeNode.scala:495)\n",
       "\tat org.apache.spark.sql.execution.QueryExecution.$anonfun$eagerlyExecuteCommands$1(QueryExecution.scala:244)\n",
       "\tat org.apache.spark.sql.catalyst.plans.logical.AnalysisHelper$.allowInvokingTransformsInAnalyzer(AnalysisHelper.scala:395)\n",
       "\tat org.apache.spark.sql.execution.QueryExecution.eagerlyExecuteCommands(QueryExecution.scala:244)\n",
       "\tat org.apache.spark.sql.execution.QueryExecution.commandExecuted$lzycompute(QueryExecution.scala:198)\n",
       "\tat org.apache.spark.sql.execution.QueryExecution.commandExecuted(QueryExecution.scala:189)\n",
       "\tat org.apache.spark.sql.Dataset.<init>(Dataset.scala:250)\n",
       "\tat org.apache.spark.sql.Dataset$.$anonfun$ofRows$2(Dataset.scala:119)\n",
       "\tat org.apache.spark.sql.SparkSession.withActive(SparkSession.scala:1073)\n",
       "\tat org.apache.spark.sql.SparkSession.$anonfun$withActiveAndFrameProfiler$1(SparkSession.scala:1080)\n",
       "\tat com.databricks.spark.util.FrameProfiler$.record(FrameProfiler.scala:80)\n",
       "\tat org.apache.spark.sql.SparkSession.withActiveAndFrameProfiler(SparkSession.scala:1080)\n",
       "\tat org.apache.spark.sql.Dataset$.ofRows(Dataset.scala:110)\n",
       "\tat org.apache.spark.sql.SparkSession.$anonfun$sql$1(SparkSession.scala:876)\n",
       "\tat org.apache.spark.sql.SparkSession.withActive(SparkSession.scala:1073)\n",
       "\tat org.apache.spark.sql.SparkSession.sql(SparkSession.scala:865)\n",
       "\tat org.apache.spark.sql.SparkSession.sql(SparkSession.scala:909)\n",
       "\tat org.apache.spark.sql.SQLContext.sql(SQLContext.scala:695)\n",
       "\tat com.databricks.backend.daemon.driver.DriverLocal.$anonfun$executeSql$1(DriverLocal.scala:265)\n",
       "\tat scala.collection.immutable.List.map(List.scala:293)\n",
       "\tat com.databricks.backend.daemon.driver.DriverLocal.executeSql(DriverLocal.scala:211)\n",
       "\tat com.databricks.backend.daemon.driver.SQLDriverLocal.repl(SQLDriverLocal.scala:31)\n",
       "\tat com.databricks.backend.daemon.driver.DriverLocal.$anonfun$execute$27(DriverLocal.scala:929)\n",
       "\tat com.databricks.unity.EmptyHandle$.runWith(UCSHandle.scala:125)\n",
       "\tat com.databricks.backend.daemon.driver.DriverLocal.$anonfun$execute$24(DriverLocal.scala:920)\n",
       "\tat com.databricks.logging.UsageLogging.$anonfun$withAttributionContext$1(UsageLogging.scala:414)\n",
       "\tat scala.util.DynamicVariable.withValue(DynamicVariable.scala:62)\n",
       "\tat com.databricks.logging.AttributionContext$.withValue(AttributionContext.scala:158)\n",
       "\tat com.databricks.logging.UsageLogging.withAttributionContext(UsageLogging.scala:412)\n",
       "\tat com.databricks.logging.UsageLogging.withAttributionContext$(UsageLogging.scala:409)\n",
       "\tat com.databricks.backend.daemon.driver.DriverLocal.withAttributionContext(DriverLocal.scala:77)\n",
       "\tat com.databricks.logging.UsageLogging.withAttributionTags(UsageLogging.scala:457)\n",
       "\tat com.databricks.logging.UsageLogging.withAttributionTags$(UsageLogging.scala:442)\n",
       "\tat com.databricks.backend.daemon.driver.DriverLocal.withAttributionTags(DriverLocal.scala:77)\n",
       "\tat com.databricks.backend.daemon.driver.DriverLocal.execute(DriverLocal.scala:889)\n",
       "\tat com.databricks.backend.daemon.driver.DriverWrapper.$anonfun$tryExecutingCommand$2(DriverWrapper.scala:719)\n",
       "\tat scala.util.Try$.apply(Try.scala:213)\n",
       "\tat com.databricks.backend.daemon.driver.DriverWrapper.$anonfun$tryExecutingCommand$1(DriverWrapper.scala:711)\n",
       "\tat com.databricks.backend.daemon.driver.DriverWrapper.tryExecutingCommand(DriverWrapper.scala:739)\n",
       "\tat com.databricks.backend.daemon.driver.DriverWrapper.executeCommandAndGetError(DriverWrapper.scala:628)\n",
       "\tat com.databricks.backend.daemon.driver.DriverWrapper.executeCommand(DriverWrapper.scala:663)\n",
       "\tat com.databricks.backend.daemon.driver.DriverWrapper.runInnerLoop(DriverWrapper.scala:499)\n",
       "\tat com.databricks.backend.daemon.driver.DriverWrapper.runInner(DriverWrapper.scala:438)\n",
       "\tat com.databricks.backend.daemon.driver.DriverWrapper.run(DriverWrapper.scala:262)\n",
       "\tat java.lang.Thread.run(Thread.java:750)\n",
       "\n",
       "\tat com.databricks.backend.daemon.driver.DriverLocal.executeSql(DriverLocal.scala:309)\n",
       "\tat com.databricks.backend.daemon.driver.SQLDriverLocal.repl(SQLDriverLocal.scala:31)\n",
       "\tat com.databricks.backend.daemon.driver.DriverLocal.$anonfun$execute$27(DriverLocal.scala:929)\n",
       "\tat com.databricks.unity.EmptyHandle$.runWith(UCSHandle.scala:125)\n",
       "\tat com.databricks.backend.daemon.driver.DriverLocal.$anonfun$execute$24(DriverLocal.scala:920)\n",
       "\tat com.databricks.logging.UsageLogging.$anonfun$withAttributionContext$1(UsageLogging.scala:414)\n",
       "\tat scala.util.DynamicVariable.withValue(DynamicVariable.scala:62)\n",
       "\tat com.databricks.logging.AttributionContext$.withValue(AttributionContext.scala:158)\n",
       "\tat com.databricks.logging.UsageLogging.withAttributionContext(UsageLogging.scala:412)\n",
       "\tat com.databricks.logging.UsageLogging.withAttributionContext$(UsageLogging.scala:409)\n",
       "\tat com.databricks.backend.daemon.driver.DriverLocal.withAttributionContext(DriverLocal.scala:77)\n",
       "\tat com.databricks.logging.UsageLogging.withAttributionTags(UsageLogging.scala:457)\n",
       "\tat com.databricks.logging.UsageLogging.withAttributionTags$(UsageLogging.scala:442)\n",
       "\tat com.databricks.backend.daemon.driver.DriverLocal.withAttributionTags(DriverLocal.scala:77)\n",
       "\tat com.databricks.backend.daemon.driver.DriverLocal.execute(DriverLocal.scala:889)\n",
       "\tat com.databricks.backend.daemon.driver.DriverWrapper.$anonfun$tryExecutingCommand$2(DriverWrapper.scala:719)\n",
       "\tat scala.util.Try$.apply(Try.scala:213)\n",
       "\tat com.databricks.backend.daemon.driver.DriverWrapper.$anonfun$tryExecutingCommand$1(DriverWrapper.scala:711)\n",
       "\tat com.databricks.backend.daemon.driver.DriverWrapper.tryExecutingCommand(DriverWrapper.scala:739)\n",
       "\tat com.databricks.backend.daemon.driver.DriverWrapper.executeCommandAndGetError(DriverWrapper.scala:628)\n",
       "\tat com.databricks.backend.daemon.driver.DriverWrapper.executeCommand(DriverWrapper.scala:663)\n",
       "\tat com.databricks.backend.daemon.driver.DriverWrapper.runInnerLoop(DriverWrapper.scala:499)\n",
       "\tat com.databricks.backend.daemon.driver.DriverWrapper.runInner(DriverWrapper.scala:438)\n",
       "\tat com.databricks.backend.daemon.driver.DriverWrapper.run(DriverWrapper.scala:262)\n",
       "\tat java.lang.Thread.run(Thread.java:750)"
      ]
     },
     "metadata": {
      "application/vnd.databricks.v1+output": {
       "arguments": {},
       "data": "com.databricks.backend.common.rpc.SparkDriverExceptions$SQLExecutionException: com.databricks.sql.transaction.tahoe.DeltaAnalysisException: DROP COLUMN is not supported for your Delta table. \nPlease enable Column Mapping on your Delta table with mapping mode 'name'.\nYou can use one of the following commands.\n\nIf your table is already on the required protocol version:\nALTER TABLE table_name SET TBLPROPERTIES ('delta.columnMapping.mode' = 'name')\n\nIf your table is not on the required protocol version and requires a protocol upgrade:\nALTER TABLE table_name SET TBLPROPERTIES (\n   'delta.columnMapping.mode' = 'name',\n   'delta.minReaderVersion' = '2',\n   'delta.minWriterVersion' = '5')\nRefer to table versioning at https://docs.databricks.com/delta/versioning.html\n\tat com.databricks.sql.transaction.tahoe.DeltaErrorsBase.dropColumnNotSupported(DeltaErrors.scala:2005)\n\tat com.databricks.sql.transaction.tahoe.DeltaErrorsBase.dropColumnNotSupported$(DeltaErrors.scala:2003)\n\tat com.databricks.sql.transaction.tahoe.DeltaErrors$.dropColumnNotSupported(DeltaErrors.scala:2759)\n\tat com.databricks.sql.transaction.tahoe.commands.AlterTableDropColumnsDeltaCommand.$anonfun$run$14(alterDeltaTableCommands.scala:339)\n\tat com.databricks.sql.transaction.tahoe.metering.DeltaLogging.withOperationTypeTag(DeltaLogging.scala:240)\n\tat com.databricks.sql.transaction.tahoe.metering.DeltaLogging.withOperationTypeTag$(DeltaLogging.scala:227)\n\tat com.databricks.sql.transaction.tahoe.commands.AlterTableDropColumnsDeltaCommand.withOperationTypeTag(alterDeltaTableCommands.scala:323)\n\tat com.databricks.sql.transaction.tahoe.metering.DeltaLogging.$anonfun$recordDeltaOperationInternal$2(DeltaLogging.scala:165)\n\tat com.databricks.spark.util.FrameProfiler$.record(FrameProfiler.scala:80)\n\tat com.databricks.sql.transaction.tahoe.metering.DeltaLogging.recordFrameProfile(DeltaLogging.scala:309)\n\tat com.databricks.sql.transaction.tahoe.metering.DeltaLogging.recordFrameProfile$(DeltaLogging.scala:307)\n\tat com.databricks.sql.transaction.tahoe.commands.AlterTableDropColumnsDeltaCommand.recordFrameProfile(alterDeltaTableCommands.scala:323)\n\tat com.databricks.sql.transaction.tahoe.metering.DeltaLogging.$anonfun$recordDeltaOperationInternal$1(DeltaLogging.scala:164)\n\tat com.databricks.logging.UsageLogging.$anonfun$recordOperation$1(UsageLogging.scala:560)\n\tat com.databricks.logging.UsageLogging.executeThunkAndCaptureResultTags$1(UsageLogging.scala:657)\n\tat com.databricks.logging.UsageLogging.$anonfun$recordOperationWithResultTags$4(UsageLogging.scala:678)\n\tat com.databricks.logging.UsageLogging.$anonfun$withAttributionContext$1(UsageLogging.scala:414)\n\tat scala.util.DynamicVariable.withValue(DynamicVariable.scala:62)\n\tat com.databricks.logging.AttributionContext$.withValue(AttributionContext.scala:158)\n\tat com.databricks.logging.UsageLogging.withAttributionContext(UsageLogging.scala:412)\n\tat com.databricks.logging.UsageLogging.withAttributionContext$(UsageLogging.scala:409)\n\tat com.databricks.spark.util.PublicDBLogging.withAttributionContext(DatabricksSparkUsageLogger.scala:26)\n\tat com.databricks.logging.UsageLogging.withAttributionTags(UsageLogging.scala:457)\n\tat com.databricks.logging.UsageLogging.withAttributionTags$(UsageLogging.scala:442)\n\tat com.databricks.spark.util.PublicDBLogging.withAttributionTags(DatabricksSparkUsageLogger.scala:26)\n\tat com.databricks.logging.UsageLogging.recordOperationWithResultTags(UsageLogging.scala:652)\n\tat com.databricks.logging.UsageLogging.recordOperationWithResultTags$(UsageLogging.scala:569)\n\tat com.databricks.spark.util.PublicDBLogging.recordOperationWithResultTags(DatabricksSparkUsageLogger.scala:26)\n\tat com.databricks.logging.UsageLogging.recordOperation(UsageLogging.scala:560)\n\tat com.databricks.logging.UsageLogging.recordOperation$(UsageLogging.scala:528)\n\tat com.databricks.spark.util.PublicDBLogging.recordOperation(DatabricksSparkUsageLogger.scala:26)\n\tat com.databricks.spark.util.PublicDBLogging.recordOperation0(DatabricksSparkUsageLogger.scala:67)\n\tat com.databricks.spark.util.DatabricksSparkUsageLogger.recordOperation(DatabricksSparkUsageLogger.scala:150)\n\tat com.databricks.spark.util.UsageLogger.recordOperation(UsageLogger.scala:72)\n\tat com.databricks.spark.util.UsageLogger.recordOperation$(UsageLogger.scala:59)\n\tat com.databricks.spark.util.DatabricksSparkUsageLogger.recordOperation(DatabricksSparkUsageLogger.scala:109)\n\tat com.databricks.spark.util.UsageLogging.recordOperation(UsageLogger.scala:433)\n\tat com.databricks.spark.util.UsageLogging.recordOperation$(UsageLogger.scala:412)\n\tat com.databricks.sql.transaction.tahoe.commands.AlterTableDropColumnsDeltaCommand.recordOperation(alterDeltaTableCommands.scala:323)\n\tat com.databricks.sql.transaction.tahoe.metering.DeltaLogging.recordDeltaOperationInternal(DeltaLogging.scala:163)\n\tat com.databricks.sql.transaction.tahoe.metering.DeltaLogging.recordDeltaOperation(DeltaLogging.scala:153)\n\tat com.databricks.sql.transaction.tahoe.metering.DeltaLogging.recordDeltaOperation$(DeltaLogging.scala:142)\n\tat com.databricks.sql.transaction.tahoe.commands.AlterTableDropColumnsDeltaCommand.recordDeltaOperation(alterDeltaTableCommands.scala:323)\n\tat com.databricks.sql.transaction.tahoe.commands.AlterTableDropColumnsDeltaCommand.run(alterDeltaTableCommands.scala:335)\n\tat com.databricks.sql.transaction.tahoe.catalog.DeltaCatalog.$anonfun$alterTable$5(DeltaCatalog.scala:1035)\n\tat scala.collection.immutable.Map$Map1.foreach(Map.scala:193)\n\tat com.databricks.sql.transaction.tahoe.catalog.DeltaCatalog.$anonfun$alterTable$1(DeltaCatalog.scala:992)\n\tat com.databricks.spark.util.FrameProfiler$.record(FrameProfiler.scala:80)\n\tat com.databricks.sql.transaction.tahoe.metering.DeltaLogging.recordFrameProfile(DeltaLogging.scala:309)\n\tat com.databricks.sql.transaction.tahoe.metering.DeltaLogging.recordFrameProfile$(DeltaLogging.scala:307)\n\tat com.databricks.sql.transaction.tahoe.catalog.DeltaCatalog.recordFrameProfile(DeltaCatalog.scala:91)\n\tat com.databricks.sql.transaction.tahoe.catalog.DeltaCatalog.alterTable(DeltaCatalog.scala:960)\n\tat com.databricks.sql.transaction.tahoe.catalog.DeltaCatalog.alterTable(DeltaCatalog.scala:91)\n\tat com.databricks.sql.managedcatalog.UnityCatalogV2Proxy.alterTable(UnityCatalogV2Proxy.scala:235)\n\tat com.databricks.sql.managedcatalog.UnityCatalogV2Proxy.alterTable(UnityCatalogV2Proxy.scala:51)\n\tat org.apache.spark.sql.execution.datasources.v2.AlterTableExec.run(AlterTableExec.scala:37)\n\tat org.apache.spark.sql.execution.datasources.v2.V2CommandExec.$anonfun$result$1(V2CommandExec.scala:47)\n\tat com.databricks.spark.util.FrameProfiler$.record(FrameProfiler.scala:80)\n\tat org.apache.spark.sql.execution.datasources.v2.V2CommandExec.result$lzycompute(V2CommandExec.scala:47)\n\tat org.apache.spark.sql.execution.datasources.v2.V2CommandExec.result(V2CommandExec.scala:45)\n\tat org.apache.spark.sql.execution.datasources.v2.V2CommandExec.executeCollect(V2CommandExec.scala:54)\n\tat org.apache.spark.sql.execution.QueryExecution$$anonfun$$nestedInanonfun$eagerlyExecuteCommands$1$1.$anonfun$applyOrElse$3(QueryExecution.scala:256)\n\tat org.apache.spark.sql.catalyst.QueryPlanningTracker$.withTracker(QueryPlanningTracker.scala:165)\n\tat org.apache.spark.sql.execution.QueryExecution$$anonfun$$nestedInanonfun$eagerlyExecuteCommands$1$1.$anonfun$applyOrElse$2(QueryExecution.scala:256)\n\tat org.apache.spark.sql.execution.SQLExecution$.$anonfun$withCustomExecutionEnv$9(SQLExecution.scala:258)\n\tat org.apache.spark.sql.execution.SQLExecution$.withSQLConfPropagated(SQLExecution.scala:448)\n\tat org.apache.spark.sql.execution.SQLExecution$.$anonfun$withCustomExecutionEnv$1(SQLExecution.scala:203)\n\tat org.apache.spark.sql.SparkSession.withActive(SparkSession.scala:1073)\n\tat org.apache.spark.sql.execution.SQLExecution$.withCustomExecutionEnv(SQLExecution.scala:131)\n\tat org.apache.spark.sql.execution.SQLExecution$.withNewExecutionId(SQLExecution.scala:398)\n\tat org.apache.spark.sql.execution.QueryExecution$$anonfun$$nestedInanonfun$eagerlyExecuteCommands$1$1.$anonfun$applyOrElse$1(QueryExecution.scala:255)\n\tat org.apache.spark.sql.execution.QueryExecution.org$apache$spark$sql$execution$QueryExecution$$withMVTagsIfNecessary(QueryExecution.scala:238)\n\tat org.apache.spark.sql.execution.QueryExecution$$anonfun$$nestedInanonfun$eagerlyExecuteCommands$1$1.applyOrElse(QueryExecution.scala:251)\n\tat org.apache.spark.sql.execution.QueryExecution$$anonfun$$nestedInanonfun$eagerlyExecuteCommands$1$1.applyOrElse(QueryExecution.scala:244)\n\tat org.apache.spark.sql.catalyst.trees.TreeNode.$anonfun$transformDownWithPruning$1(TreeNode.scala:519)\n\tat org.apache.spark.sql.catalyst.trees.CurrentOrigin$.withOrigin(TreeNode.scala:106)\n\tat org.apache.spark.sql.catalyst.trees.TreeNode.transformDownWithPruning(TreeNode.scala:519)\n\tat org.apache.spark.sql.catalyst.plans.logical.LogicalPlan.org$apache$spark$sql$catalyst$plans$logical$AnalysisHelper$$super$transformDownWithPruning(LogicalPlan.scala:32)\n\tat org.apache.spark.sql.catalyst.plans.logical.AnalysisHelper.transformDownWithPruning(AnalysisHelper.scala:339)\n\tat org.apache.spark.sql.catalyst.plans.logical.AnalysisHelper.transformDownWithPruning$(AnalysisHelper.scala:335)\n\tat org.apache.spark.sql.catalyst.plans.logical.LogicalPlan.transformDownWithPruning(LogicalPlan.scala:32)\n\tat org.apache.spark.sql.catalyst.plans.logical.LogicalPlan.transformDownWithPruning(LogicalPlan.scala:32)\n\tat org.apache.spark.sql.catalyst.trees.TreeNode.transformDown(TreeNode.scala:495)\n\tat org.apache.spark.sql.execution.QueryExecution.$anonfun$eagerlyExecuteCommands$1(QueryExecution.scala:244)\n\tat org.apache.spark.sql.catalyst.plans.logical.AnalysisHelper$.allowInvokingTransformsInAnalyzer(AnalysisHelper.scala:395)\n\tat org.apache.spark.sql.execution.QueryExecution.eagerlyExecuteCommands(QueryExecution.scala:244)\n\tat org.apache.spark.sql.execution.QueryExecution.commandExecuted$lzycompute(QueryExecution.scala:198)\n\tat org.apache.spark.sql.execution.QueryExecution.commandExecuted(QueryExecution.scala:189)\n\tat org.apache.spark.sql.Dataset.<init>(Dataset.scala:250)\n\tat org.apache.spark.sql.Dataset$.$anonfun$ofRows$2(Dataset.scala:119)\n\tat org.apache.spark.sql.SparkSession.withActive(SparkSession.scala:1073)\n\tat org.apache.spark.sql.SparkSession.$anonfun$withActiveAndFrameProfiler$1(SparkSession.scala:1080)\n\tat com.databricks.spark.util.FrameProfiler$.record(FrameProfiler.scala:80)\n\tat org.apache.spark.sql.SparkSession.withActiveAndFrameProfiler(SparkSession.scala:1080)\n\tat org.apache.spark.sql.Dataset$.ofRows(Dataset.scala:110)\n\tat org.apache.spark.sql.SparkSession.$anonfun$sql$1(SparkSession.scala:876)\n\tat org.apache.spark.sql.SparkSession.withActive(SparkSession.scala:1073)\n\tat org.apache.spark.sql.SparkSession.sql(SparkSession.scala:865)\n\tat org.apache.spark.sql.SparkSession.sql(SparkSession.scala:909)\n\tat org.apache.spark.sql.SQLContext.sql(SQLContext.scala:695)\n\tat com.databricks.backend.daemon.driver.DriverLocal.$anonfun$executeSql$1(DriverLocal.scala:265)\n\tat scala.collection.immutable.List.map(List.scala:293)\n\tat com.databricks.backend.daemon.driver.DriverLocal.executeSql(DriverLocal.scala:211)\n\tat com.databricks.backend.daemon.driver.SQLDriverLocal.repl(SQLDriverLocal.scala:31)\n\tat com.databricks.backend.daemon.driver.DriverLocal.$anonfun$execute$27(DriverLocal.scala:929)\n\tat com.databricks.unity.EmptyHandle$.runWith(UCSHandle.scala:125)\n\tat com.databricks.backend.daemon.driver.DriverLocal.$anonfun$execute$24(DriverLocal.scala:920)\n\tat com.databricks.logging.UsageLogging.$anonfun$withAttributionContext$1(UsageLogging.scala:414)\n\tat scala.util.DynamicVariable.withValue(DynamicVariable.scala:62)\n\tat com.databricks.logging.AttributionContext$.withValue(AttributionContext.scala:158)\n\tat com.databricks.logging.UsageLogging.withAttributionContext(UsageLogging.scala:412)\n\tat com.databricks.logging.UsageLogging.withAttributionContext$(UsageLogging.scala:409)\n\tat com.databricks.backend.daemon.driver.DriverLocal.withAttributionContext(DriverLocal.scala:77)\n\tat com.databricks.logging.UsageLogging.withAttributionTags(UsageLogging.scala:457)\n\tat com.databricks.logging.UsageLogging.withAttributionTags$(UsageLogging.scala:442)\n\tat com.databricks.backend.daemon.driver.DriverLocal.withAttributionTags(DriverLocal.scala:77)\n\tat com.databricks.backend.daemon.driver.DriverLocal.execute(DriverLocal.scala:889)\n\tat com.databricks.backend.daemon.driver.DriverWrapper.$anonfun$tryExecutingCommand$2(DriverWrapper.scala:719)\n\tat scala.util.Try$.apply(Try.scala:213)\n\tat com.databricks.backend.daemon.driver.DriverWrapper.$anonfun$tryExecutingCommand$1(DriverWrapper.scala:711)\n\tat com.databricks.backend.daemon.driver.DriverWrapper.tryExecutingCommand(DriverWrapper.scala:739)\n\tat com.databricks.backend.daemon.driver.DriverWrapper.executeCommandAndGetError(DriverWrapper.scala:628)\n\tat com.databricks.backend.daemon.driver.DriverWrapper.executeCommand(DriverWrapper.scala:663)\n\tat com.databricks.backend.daemon.driver.DriverWrapper.runInnerLoop(DriverWrapper.scala:499)\n\tat com.databricks.backend.daemon.driver.DriverWrapper.runInner(DriverWrapper.scala:438)\n\tat com.databricks.backend.daemon.driver.DriverWrapper.run(DriverWrapper.scala:262)\n\tat java.lang.Thread.run(Thread.java:750)\n\n\tat com.databricks.backend.daemon.driver.DriverLocal.executeSql(DriverLocal.scala:309)\n\tat com.databricks.backend.daemon.driver.SQLDriverLocal.repl(SQLDriverLocal.scala:31)\n\tat com.databricks.backend.daemon.driver.DriverLocal.$anonfun$execute$27(DriverLocal.scala:929)\n\tat com.databricks.unity.EmptyHandle$.runWith(UCSHandle.scala:125)\n\tat com.databricks.backend.daemon.driver.DriverLocal.$anonfun$execute$24(DriverLocal.scala:920)\n\tat com.databricks.logging.UsageLogging.$anonfun$withAttributionContext$1(UsageLogging.scala:414)\n\tat scala.util.DynamicVariable.withValue(DynamicVariable.scala:62)\n\tat com.databricks.logging.AttributionContext$.withValue(AttributionContext.scala:158)\n\tat com.databricks.logging.UsageLogging.withAttributionContext(UsageLogging.scala:412)\n\tat com.databricks.logging.UsageLogging.withAttributionContext$(UsageLogging.scala:409)\n\tat com.databricks.backend.daemon.driver.DriverLocal.withAttributionContext(DriverLocal.scala:77)\n\tat com.databricks.logging.UsageLogging.withAttributionTags(UsageLogging.scala:457)\n\tat com.databricks.logging.UsageLogging.withAttributionTags$(UsageLogging.scala:442)\n\tat com.databricks.backend.daemon.driver.DriverLocal.withAttributionTags(DriverLocal.scala:77)\n\tat com.databricks.backend.daemon.driver.DriverLocal.execute(DriverLocal.scala:889)\n\tat com.databricks.backend.daemon.driver.DriverWrapper.$anonfun$tryExecutingCommand$2(DriverWrapper.scala:719)\n\tat scala.util.Try$.apply(Try.scala:213)\n\tat com.databricks.backend.daemon.driver.DriverWrapper.$anonfun$tryExecutingCommand$1(DriverWrapper.scala:711)\n\tat com.databricks.backend.daemon.driver.DriverWrapper.tryExecutingCommand(DriverWrapper.scala:739)\n\tat com.databricks.backend.daemon.driver.DriverWrapper.executeCommandAndGetError(DriverWrapper.scala:628)\n\tat com.databricks.backend.daemon.driver.DriverWrapper.executeCommand(DriverWrapper.scala:663)\n\tat com.databricks.backend.daemon.driver.DriverWrapper.runInnerLoop(DriverWrapper.scala:499)\n\tat com.databricks.backend.daemon.driver.DriverWrapper.runInner(DriverWrapper.scala:438)\n\tat com.databricks.backend.daemon.driver.DriverWrapper.run(DriverWrapper.scala:262)\n\tat java.lang.Thread.run(Thread.java:750)\n",
       "errorSummary": "DeltaAnalysisException: DROP COLUMN is not supported for your Delta table. \nPlease enable Column Mapping on your Delta table with mapping mode 'name'.\nYou can use one of the following commands.\n\nIf your table is already on the required protocol version:\nALTER TABLE table_name SET TBLPROPERTIES ('delta.columnMapping.mode' = 'name')\n\nIf your table is not on the required protocol version and requires a protocol upgrade:\nALTER TABLE table_name SET TBLPROPERTIES (\n   'delta.columnMapping.mode' = 'name',\n   'delta.minReaderVersion' = '2',\n   'delta.minWriterVersion' = '5')\nRefer to table versioning at https://docs.databricks.com/delta/versioning.html",
       "errorTraceType": "html",
       "metadata": {},
       "type": "ipynbError"
      }
     },
     "output_type": "display_data"
    }
   ],
   "source": [
    "%sql\n",
    "--  Dropping the column from the table\n",
    "\n",
    "alter table bronze.my_delta_table2\n",
    "drop column flag"
   ]
  },
  {
   "cell_type": "code",
   "execution_count": 0,
   "metadata": {
    "application/vnd.databricks.v1+cell": {
     "cellMetadata": {
      "byteLimit": 2048000,
      "rowLimit": 10000
     },
     "inputWidgets": {},
     "nuid": "15c4f801-19d3-4e0d-804d-c58a73159191",
     "showTitle": false,
     "tableResultSettingsMap": {},
     "title": ""
    }
   },
   "outputs": [
    {
     "output_type": "display_data",
     "data": {
      "text/html": [
       "<style scoped>\n",
       "  .table-result-container {\n",
       "    max-height: 300px;\n",
       "    overflow: auto;\n",
       "  }\n",
       "  table, th, td {\n",
       "    border: 1px solid black;\n",
       "    border-collapse: collapse;\n",
       "  }\n",
       "  th, td {\n",
       "    padding: 5px;\n",
       "  }\n",
       "  th {\n",
       "    text-align: left;\n",
       "  }\n",
       "</style><div class='table-result-container'><table class='table-result'><thead style='background-color: white'><tr></tr></thead><tbody></tbody></table></div>"
      ]
     },
     "metadata": {
      "application/vnd.databricks.v1+output": {
       "addedWidgets": {},
       "aggData": [],
       "aggError": "",
       "aggOverflow": false,
       "aggSchema": [],
       "aggSeriesLimitReached": false,
       "aggType": "",
       "arguments": {},
       "columnCustomDisplayInfos": {},
       "data": [],
       "datasetInfos": [],
       "dbfsResultPath": null,
       "isJsonSchema": true,
       "metadata": {
        "isDbfsCommandResult": false
       },
       "overflow": false,
       "plotOptions": {
        "customPlotOptions": {},
        "displayType": "table",
        "pivotAggregation": null,
        "pivotColumns": null,
        "xColumns": null,
        "yColumns": null
       },
       "removedWidgets": [],
       "schema": [],
       "type": "table"
      }
     },
     "output_type": "display_data"
    }
   ],
   "source": [
    "%sql\n",
    "-- when we try to drop the column from the table, we need to make some changes in the column mapping still the changes will be on metadata level\n",
    "\n",
    "-- minReaderVersion = 2\n",
    "-- minWriterVersion = 5\n",
    "-- MappingMode = name\n",
    "\n",
    "alter table BRONZE.my_delta_table2\n",
    "set tblproperties (\n",
    "  'delta.minReaderVersion' = '2',\n",
    "  'delta.minWriterVersion' = '5',\n",
    "  'delta.columnMapping.mode' = 'name'\n",
    ")"
   ]
  },
  {
   "cell_type": "code",
   "execution_count": 0,
   "metadata": {
    "application/vnd.databricks.v1+cell": {
     "cellMetadata": {
      "byteLimit": 2048000,
      "rowLimit": 10000
     },
     "inputWidgets": {},
     "nuid": "58016d18-7b2a-4e9b-ae32-7e6fc5e15d69",
     "showTitle": false,
     "tableResultSettingsMap": {},
     "title": ""
    }
   },
   "outputs": [
    {
     "output_type": "display_data",
     "data": {
      "text/html": [
       "<style scoped>\n",
       "  .table-result-container {\n",
       "    max-height: 300px;\n",
       "    overflow: auto;\n",
       "  }\n",
       "  table, th, td {\n",
       "    border: 1px solid black;\n",
       "    border-collapse: collapse;\n",
       "  }\n",
       "  th, td {\n",
       "    padding: 5px;\n",
       "  }\n",
       "  th {\n",
       "    text-align: left;\n",
       "  }\n",
       "</style><div class='table-result-container'><table class='table-result'><thead style='background-color: white'><tr></tr></thead><tbody></tbody></table></div>"
      ]
     },
     "metadata": {
      "application/vnd.databricks.v1+output": {
       "addedWidgets": {},
       "aggData": [],
       "aggError": "",
       "aggOverflow": false,
       "aggSchema": [],
       "aggSeriesLimitReached": false,
       "aggType": "",
       "arguments": {},
       "columnCustomDisplayInfos": {},
       "data": [],
       "datasetInfos": [],
       "dbfsResultPath": null,
       "isJsonSchema": true,
       "metadata": {
        "isDbfsCommandResult": false
       },
       "overflow": false,
       "plotOptions": {
        "customPlotOptions": {},
        "displayType": "table",
        "pivotAggregation": null,
        "pivotColumns": null,
        "xColumns": null,
        "yColumns": null
       },
       "removedWidgets": [],
       "schema": [],
       "type": "table"
      }
     },
     "output_type": "display_data"
    }
   ],
   "source": [
    "%sql\n",
    "alter table bronze.my_delta_table2\n",
    "drop column flag"
   ]
  },
  {
   "cell_type": "code",
   "execution_count": 0,
   "metadata": {
    "application/vnd.databricks.v1+cell": {
     "cellMetadata": {
      "byteLimit": 2048000,
      "rowLimit": 10000
     },
     "inputWidgets": {},
     "nuid": "c629161b-a82e-40c7-868a-29d27fa4ea04",
     "showTitle": false,
     "tableResultSettingsMap": {},
     "title": ""
    }
   },
   "outputs": [
    {
     "output_type": "display_data",
     "data": {
      "text/html": [
       "<style scoped>\n",
       "  .table-result-container {\n",
       "    max-height: 300px;\n",
       "    overflow: auto;\n",
       "  }\n",
       "  table, th, td {\n",
       "    border: 1px solid black;\n",
       "    border-collapse: collapse;\n",
       "  }\n",
       "  th, td {\n",
       "    padding: 5px;\n",
       "  }\n",
       "  th {\n",
       "    text-align: left;\n",
       "  }\n",
       "</style><div class='table-result-container'><table class='table-result'><thead style='background-color: white'><tr></tr></thead><tbody></tbody></table></div>"
      ]
     },
     "metadata": {
      "application/vnd.databricks.v1+output": {
       "addedWidgets": {},
       "aggData": [],
       "aggError": "",
       "aggOverflow": false,
       "aggSchema": [],
       "aggSeriesLimitReached": false,
       "aggType": "",
       "arguments": {},
       "columnCustomDisplayInfos": {},
       "data": [],
       "datasetInfos": [],
       "dbfsResultPath": null,
       "isJsonSchema": true,
       "metadata": {
        "isDbfsCommandResult": false
       },
       "overflow": false,
       "plotOptions": {
        "customPlotOptions": {},
        "displayType": "table",
        "pivotAggregation": null,
        "pivotColumns": null,
        "xColumns": null,
        "yColumns": null
       },
       "removedWidgets": [],
       "schema": [],
       "type": "table"
      }
     },
     "output_type": "display_data"
    }
   ],
   "source": [
    "%sql\n",
    "-- Renaming the column name\n",
    "\n",
    "alter table bronze.my_delta_table2\n",
    "rename column id to cust_id"
   ]
  },
  {
   "cell_type": "code",
   "execution_count": 0,
   "metadata": {
    "application/vnd.databricks.v1+cell": {
     "cellMetadata": {
      "byteLimit": 2048000,
      "rowLimit": 10000
     },
     "inputWidgets": {},
     "nuid": "4b6ec421-6f05-440d-9b0f-2be9396d1eaf",
     "showTitle": false,
     "tableResultSettingsMap": {},
     "title": ""
    }
   },
   "outputs": [
    {
     "output_type": "display_data",
     "data": {
      "text/html": [
       "<style scoped>\n",
       "  .table-result-container {\n",
       "    max-height: 300px;\n",
       "    overflow: auto;\n",
       "  }\n",
       "  table, th, td {\n",
       "    border: 1px solid black;\n",
       "    border-collapse: collapse;\n",
       "  }\n",
       "  th, td {\n",
       "    padding: 5px;\n",
       "  }\n",
       "  th {\n",
       "    text-align: left;\n",
       "  }\n",
       "</style><div class='table-result-container'><table class='table-result'><thead style='background-color: white'><tr><th>commitInfo</th><th>metaData</th></tr></thead><tbody><tr><td>List(0509-071452-exzuppom, Databricks-Runtime/12.2.x-scala2.12, true, WriteSerializable, List(2116935914246921), RENAME COLUMN, List(cust_id, ID), 14, 1746776861743, 34c74a68-2c42-4fad-8b27-24e41be11f78, 7635163290231677, contacttopaone@gmail.com)</td><td>null</td></tr><tr><td>null</td><td>List(List(4, name, false), 1746694528184, List(parquet), 09738dcf-e401-454b-b629-75a70adbe84b, List(), {\"type\":\"struct\",\"fields\":[{\"name\":\"Name\",\"type\":\"string\",\"nullable\":true,\"metadata\":{\"delta.columnMapping.id\":1,\"delta.columnMapping.physicalName\":\"Name\"}},{\"name\":\"cust_id\",\"type\":\"integer\",\"nullable\":true,\"metadata\":{\"delta.columnMapping.id\":2,\"delta.columnMapping.physicalName\":\"ID\"}},{\"name\":\"salary\",\"type\":\"double\",\"nullable\":true,\"metadata\":{\"delta.columnMapping.id\":3,\"delta.columnMapping.physicalName\":\"salary\"}}]})</td></tr></tbody></table></div>"
      ]
     },
     "metadata": {
      "application/vnd.databricks.v1+output": {
       "addedWidgets": {},
       "aggData": [],
       "aggError": "",
       "aggOverflow": false,
       "aggSchema": [],
       "aggSeriesLimitReached": false,
       "aggType": "",
       "arguments": {},
       "columnCustomDisplayInfos": {},
       "data": [
        [
         [
          "0509-071452-exzuppom",
          "Databricks-Runtime/12.2.x-scala2.12",
          true,
          "WriteSerializable",
          [
           "2116935914246921"
          ],
          "RENAME COLUMN",
          [
           "cust_id",
           "ID"
          ],
          14,
          1746776861743,
          "34c74a68-2c42-4fad-8b27-24e41be11f78",
          "7635163290231677",
          "contacttopaone@gmail.com"
         ],
         null
        ],
        [
         null,
         [
          [
           "4",
           "name",
           "false"
          ],
          1746694528184,
          [
           "parquet"
          ],
          "09738dcf-e401-454b-b629-75a70adbe84b",
          [],
          "{\"type\":\"struct\",\"fields\":[{\"name\":\"Name\",\"type\":\"string\",\"nullable\":true,\"metadata\":{\"delta.columnMapping.id\":1,\"delta.columnMapping.physicalName\":\"Name\"}},{\"name\":\"cust_id\",\"type\":\"integer\",\"nullable\":true,\"metadata\":{\"delta.columnMapping.id\":2,\"delta.columnMapping.physicalName\":\"ID\"}},{\"name\":\"salary\",\"type\":\"double\",\"nullable\":true,\"metadata\":{\"delta.columnMapping.id\":3,\"delta.columnMapping.physicalName\":\"salary\"}}]}"
         ]
        ]
       ],
       "datasetInfos": [],
       "dbfsResultPath": null,
       "isJsonSchema": true,
       "metadata": {},
       "overflow": false,
       "plotOptions": {
        "customPlotOptions": {},
        "displayType": "table",
        "pivotAggregation": null,
        "pivotColumns": null,
        "xColumns": null,
        "yColumns": null
       },
       "removedWidgets": [],
       "schema": [
        {
         "metadata": "{}",
         "name": "commitInfo",
         "type": "{\"type\":\"struct\",\"fields\":[{\"name\":\"clusterId\",\"type\":\"string\",\"nullable\":true,\"metadata\":{}},{\"name\":\"engineInfo\",\"type\":\"string\",\"nullable\":true,\"metadata\":{}},{\"name\":\"isBlindAppend\",\"type\":\"boolean\",\"nullable\":true,\"metadata\":{}},{\"name\":\"isolationLevel\",\"type\":\"string\",\"nullable\":true,\"metadata\":{}},{\"name\":\"notebook\",\"type\":{\"type\":\"struct\",\"fields\":[{\"name\":\"notebookId\",\"type\":\"string\",\"nullable\":true,\"metadata\":{}}]},\"nullable\":true,\"metadata\":{}},{\"name\":\"operation\",\"type\":\"string\",\"nullable\":true,\"metadata\":{}},{\"name\":\"operationParameters\",\"type\":{\"type\":\"struct\",\"fields\":[{\"name\":\"newColumnPath\",\"type\":\"string\",\"nullable\":true,\"metadata\":{}},{\"name\":\"oldColumnPath\",\"type\":\"string\",\"nullable\":true,\"metadata\":{}}]},\"nullable\":true,\"metadata\":{}},{\"name\":\"readVersion\",\"type\":\"long\",\"nullable\":true,\"metadata\":{}},{\"name\":\"timestamp\",\"type\":\"long\",\"nullable\":true,\"metadata\":{}},{\"name\":\"txnId\",\"type\":\"string\",\"nullable\":true,\"metadata\":{}},{\"name\":\"userId\",\"type\":\"string\",\"nullable\":true,\"metadata\":{}},{\"name\":\"userName\",\"type\":\"string\",\"nullable\":true,\"metadata\":{}}]}"
        },
        {
         "metadata": "{}",
         "name": "metaData",
         "type": "{\"type\":\"struct\",\"fields\":[{\"name\":\"configuration\",\"type\":{\"type\":\"struct\",\"fields\":[{\"name\":\"delta.columnMapping.maxColumnId\",\"type\":\"string\",\"nullable\":true,\"metadata\":{}},{\"name\":\"delta.columnMapping.mode\",\"type\":\"string\",\"nullable\":true,\"metadata\":{}},{\"name\":\"delta.enableDeletionVectors\",\"type\":\"string\",\"nullable\":true,\"metadata\":{}}]},\"nullable\":true,\"metadata\":{}},{\"name\":\"createdTime\",\"type\":\"long\",\"nullable\":true,\"metadata\":{}},{\"name\":\"format\",\"type\":{\"type\":\"struct\",\"fields\":[{\"name\":\"provider\",\"type\":\"string\",\"nullable\":true,\"metadata\":{}}]},\"nullable\":true,\"metadata\":{}},{\"name\":\"id\",\"type\":\"string\",\"nullable\":true,\"metadata\":{}},{\"name\":\"partitionColumns\",\"type\":{\"type\":\"array\",\"elementType\":\"string\",\"containsNull\":true},\"nullable\":true,\"metadata\":{}},{\"name\":\"schemaString\",\"type\":\"string\",\"nullable\":true,\"metadata\":{}}]}"
        }
       ],
       "type": "table"
      }
     },
     "output_type": "display_data"
    }
   ],
   "source": [
    "%python\n",
    "''' to read the content of json file'''\n",
    "\n",
    "df = spark.read.json(\"/FileStore/OpenTableFormat/sinkdata/my_delta_table2/_delta_log/00000000000000000015.json\")\n",
    "display(df)"
   ]
  },
  {
   "cell_type": "markdown",
   "metadata": {
    "application/vnd.databricks.v1+cell": {
     "cellMetadata": {},
     "inputWidgets": {},
     "nuid": "e27aa966-bdb0-45dd-8055-2d92831bc0eb",
     "showTitle": false,
     "tableResultSettingsMap": {},
     "title": ""
    }
   },
   "source": [
    "### Optimization Techniques in Delta "
   ]
  },
  {
   "cell_type": "code",
   "execution_count": 0,
   "metadata": {
    "application/vnd.databricks.v1+cell": {
     "cellMetadata": {
      "byteLimit": 2048000,
      "rowLimit": 10000
     },
     "inputWidgets": {},
     "nuid": "d7606c78-c547-4b05-97ed-ec5bb54bcbe3",
     "showTitle": false,
     "tableResultSettingsMap": {},
     "title": ""
    }
   },
   "outputs": [
    {
     "output_type": "display_data",
     "data": {
      "text/html": [
       "<style scoped>\n",
       "  .table-result-container {\n",
       "    max-height: 300px;\n",
       "    overflow: auto;\n",
       "  }\n",
       "  table, th, td {\n",
       "    border: 1px solid black;\n",
       "    border-collapse: collapse;\n",
       "  }\n",
       "  th, td {\n",
       "    padding: 5px;\n",
       "  }\n",
       "  th {\n",
       "    text-align: left;\n",
       "  }\n",
       "</style><div class='table-result-container'><table class='table-result'><thead style='background-color: white'><tr><th>path</th><th>metrics</th></tr></thead><tbody><tr><td>dbfs:/FileStore/OpenTableFormat/sinkdata/my_delta_table2</td><td>List(1, 5, List(1314, 1314, 1314.0, 1, 1314), List(1059, 1068, 1062.6, 5, 5313), 0, List(minCubeSize(107374182400), List(0, 0), List(5, 5313), 0, List(5, 5313), 1, null), 1, 5, 0, false, 0, 0, 1746777691729, 1746777703256, 8, 1, null, List(0, 0), 3, 3, 375)</td></tr></tbody></table></div>"
      ]
     },
     "metadata": {
      "application/vnd.databricks.v1+output": {
       "addedWidgets": {},
       "aggData": [],
       "aggError": "",
       "aggOverflow": false,
       "aggSchema": [],
       "aggSeriesLimitReached": false,
       "aggType": "",
       "arguments": {},
       "columnCustomDisplayInfos": {},
       "data": [
        [
         "dbfs:/FileStore/OpenTableFormat/sinkdata/my_delta_table2",
         [
          1,
          5,
          [
           1314,
           1314,
           1314.0,
           1,
           1314
          ],
          [
           1059,
           1068,
           1062.6,
           5,
           5313
          ],
          0,
          [
           "minCubeSize(107374182400)",
           [
            0,
            0
           ],
           [
            5,
            5313
           ],
           0,
           [
            5,
            5313
           ],
           1,
           null
          ],
          1,
          5,
          0,
          false,
          0,
          0,
          1746777691729,
          1746777703256,
          8,
          1,
          null,
          [
           0,
           0
          ],
          3,
          3,
          375
         ]
        ]
       ],
       "datasetInfos": [],
       "dbfsResultPath": null,
       "isJsonSchema": true,
       "metadata": {
        "isDbfsCommandResult": false
       },
       "overflow": false,
       "plotOptions": {
        "customPlotOptions": {},
        "displayType": "table",
        "pivotAggregation": null,
        "pivotColumns": null,
        "xColumns": null,
        "yColumns": null
       },
       "removedWidgets": [],
       "schema": [
        {
         "metadata": "{}",
         "name": "path",
         "type": "\"string\""
        },
        {
         "metadata": "{}",
         "name": "metrics",
         "type": "{\"type\":\"struct\",\"fields\":[{\"name\":\"numFilesAdded\",\"type\":\"long\",\"nullable\":false,\"metadata\":{}},{\"name\":\"numFilesRemoved\",\"type\":\"long\",\"nullable\":false,\"metadata\":{}},{\"name\":\"filesAdded\",\"type\":{\"type\":\"struct\",\"fields\":[{\"name\":\"min\",\"type\":\"long\",\"nullable\":true,\"metadata\":{}},{\"name\":\"max\",\"type\":\"long\",\"nullable\":true,\"metadata\":{}},{\"name\":\"avg\",\"type\":\"double\",\"nullable\":false,\"metadata\":{}},{\"name\":\"totalFiles\",\"type\":\"long\",\"nullable\":false,\"metadata\":{}},{\"name\":\"totalSize\",\"type\":\"long\",\"nullable\":false,\"metadata\":{}}]},\"nullable\":true,\"metadata\":{}},{\"name\":\"filesRemoved\",\"type\":{\"type\":\"struct\",\"fields\":[{\"name\":\"min\",\"type\":\"long\",\"nullable\":true,\"metadata\":{}},{\"name\":\"max\",\"type\":\"long\",\"nullable\":true,\"metadata\":{}},{\"name\":\"avg\",\"type\":\"double\",\"nullable\":false,\"metadata\":{}},{\"name\":\"totalFiles\",\"type\":\"long\",\"nullable\":false,\"metadata\":{}},{\"name\":\"totalSize\",\"type\":\"long\",\"nullable\":false,\"metadata\":{}}]},\"nullable\":true,\"metadata\":{}},{\"name\":\"partitionsOptimized\",\"type\":\"long\",\"nullable\":false,\"metadata\":{}},{\"name\":\"zOrderStats\",\"type\":{\"type\":\"struct\",\"fields\":[{\"name\":\"strategyName\",\"type\":\"string\",\"nullable\":true,\"metadata\":{}},{\"name\":\"inputCubeFiles\",\"type\":{\"type\":\"struct\",\"fields\":[{\"name\":\"num\",\"type\":\"long\",\"nullable\":false,\"metadata\":{}},{\"name\":\"size\",\"type\":\"long\",\"nullable\":false,\"metadata\":{}}]},\"nullable\":true,\"metadata\":{}},{\"name\":\"inputOtherFiles\",\"type\":{\"type\":\"struct\",\"fields\":[{\"name\":\"num\",\"type\":\"long\",\"nullable\":false,\"metadata\":{}},{\"name\":\"size\",\"type\":\"long\",\"nullable\":false,\"metadata\":{}}]},\"nullable\":true,\"metadata\":{}},{\"name\":\"inputNumCubes\",\"type\":\"long\",\"nullable\":false,\"metadata\":{}},{\"name\":\"mergedFiles\",\"type\":{\"type\":\"struct\",\"fields\":[{\"name\":\"num\",\"type\":\"long\",\"nullable\":false,\"metadata\":{}},{\"name\":\"size\",\"type\":\"long\",\"nullable\":false,\"metadata\":{}}]},\"nullable\":true,\"metadata\":{}},{\"name\":\"numOutputCubes\",\"type\":\"long\",\"nullable\":false,\"metadata\":{}},{\"name\":\"mergedNumCubes\",\"type\":\"long\",\"nullable\":true,\"metadata\":{}}]},\"nullable\":true,\"metadata\":{}},{\"name\":\"numBatches\",\"type\":\"long\",\"nullable\":false,\"metadata\":{}},{\"name\":\"totalConsideredFiles\",\"type\":\"long\",\"nullable\":false,\"metadata\":{}},{\"name\":\"totalFilesSkipped\",\"type\":\"long\",\"nullable\":false,\"metadata\":{}},{\"name\":\"preserveInsertionOrder\",\"type\":\"boolean\",\"nullable\":false,\"metadata\":{}},{\"name\":\"numFilesSkippedToReduceWriteAmplification\",\"type\":\"long\",\"nullable\":false,\"metadata\":{}},{\"name\":\"numBytesSkippedToReduceWriteAmplification\",\"type\":\"long\",\"nullable\":false,\"metadata\":{}},{\"name\":\"startTimeMs\",\"type\":\"long\",\"nullable\":false,\"metadata\":{}},{\"name\":\"endTimeMs\",\"type\":\"long\",\"nullable\":false,\"metadata\":{}},{\"name\":\"totalClusterParallelism\",\"type\":\"long\",\"nullable\":false,\"metadata\":{}},{\"name\":\"totalScheduledTasks\",\"type\":\"long\",\"nullable\":false,\"metadata\":{}},{\"name\":\"autoCompactParallelismStats\",\"type\":{\"type\":\"struct\",\"fields\":[{\"name\":\"maxClusterActiveParallelism\",\"type\":\"long\",\"nullable\":true,\"metadata\":{}},{\"name\":\"minClusterActiveParallelism\",\"type\":\"long\",\"nullable\":true,\"metadata\":{}},{\"name\":\"maxSessionActiveParallelism\",\"type\":\"long\",\"nullable\":true,\"metadata\":{}},{\"name\":\"minSessionActiveParallelism\",\"type\":\"long\",\"nullable\":true,\"metadata\":{}}]},\"nullable\":true,\"metadata\":{}},{\"name\":\"deletionVectorStats\",\"type\":{\"type\":\"struct\",\"fields\":[{\"name\":\"numDeletionVectorsRemoved\",\"type\":\"long\",\"nullable\":false,\"metadata\":{}},{\"name\":\"numDeletionVectorRowsRemoved\",\"type\":\"long\",\"nullable\":false,\"metadata\":{}}]},\"nullable\":true,\"metadata\":{}},{\"name\":\"numTableColumns\",\"type\":\"long\",\"nullable\":false,\"metadata\":{}},{\"name\":\"numTableColumnsWithStats\",\"type\":\"long\",\"nullable\":false,\"metadata\":{}},{\"name\":\"totalTaskExecutionTimeMs\",\"type\":\"long\",\"nullable\":false,\"metadata\":{}}]}"
        }
       ],
       "type": "table"
      }
     },
     "output_type": "display_data"
    }
   ],
   "source": [
    "%sql\n",
    "optimize bronze.my_delta_table2 zorder by (cust_id)"
   ]
  },
  {
   "cell_type": "code",
   "execution_count": 0,
   "metadata": {
    "application/vnd.databricks.v1+cell": {
     "cellMetadata": {
      "byteLimit": 2048000,
      "rowLimit": 10000
     },
     "inputWidgets": {},
     "nuid": "2e677679-32cb-4ef4-8ebe-047085c1f10c",
     "showTitle": false,
     "tableResultSettingsMap": {},
     "title": ""
    }
   },
   "outputs": [
    {
     "output_type": "display_data",
     "data": {
      "text/html": [
       "<style scoped>\n",
       "  .table-result-container {\n",
       "    max-height: 300px;\n",
       "    overflow: auto;\n",
       "  }\n",
       "  table, th, td {\n",
       "    border: 1px solid black;\n",
       "    border-collapse: collapse;\n",
       "  }\n",
       "  th, td {\n",
       "    padding: 5px;\n",
       "  }\n",
       "  th {\n",
       "    text-align: left;\n",
       "  }\n",
       "</style><div class='table-result-container'><table class='table-result'><thead style='background-color: white'><tr><th>add</th><th>commitInfo</th><th>remove</th></tr></thead><tbody><tr><td>null</td><td>List(0509-071452-exzuppom, Databricks-Runtime/12.2.x-scala2.12, false, SnapshotIsolation, List(2116935914246921), OPTIMIZE, List(1314, 1314, 1314, 1, 0, 5313, 5, 1314, 1314, 1314), List(false, 0, [], [\"cust_id\"]), 15, 1746777697560, 9b653dd6-d2e2-4496-9144-f963670eac1a, 7635163290231677, contacttopaone@gmail.com)</td><td>null</td></tr><tr><td>null</td><td>null</td><td>List(false, 1746777695292, true, part-00000-1964a13a-2463-4d15-9450-1066353c0405-c000.snappy.parquet, 1059, List(1746694835000000, 1746694835000000, 1746694835000000, 268435456))</td></tr><tr><td>null</td><td>null</td><td>List(false, 1746777695292, true, part-00000-8a491ec0-ce24-43f1-a7a1-6149082cc3c0-c000.snappy.parquet, 1068, List(1746702171000000, 1746702171000000, 1746702171000000, 268435456))</td></tr><tr><td>null</td><td>null</td><td>List(false, 1746777695292, true, part-00000-cb4d2108-66b9-4d2e-9b2e-9e69e0ff3fee-c000.snappy.parquet, 1068, List(1746695263000000, 1746695263000000, 1746695263000000, 268435456))</td></tr><tr><td>null</td><td>null</td><td>List(false, 1746777695292, true, part-00001-b89063b3-0ed9-4365-96e8-1b617d3bedde-c000.snappy.parquet, 1059, List(1746694851000000, 1746694851000000, 1746694851000000, 268435456))</td></tr><tr><td>null</td><td>null</td><td>List(false, 1746777695292, true, part-00002-593e260c-9942-499f-8e6e-0cc8769a3e64-c000.snappy.parquet, 1059, List(1746702155000000, 1746702155000000, 1746702155000000, 268435456))</td></tr><tr><td>List(false, 1746777698000, 1q/part-00000-45d2e0dd-a6dd-4364-a329-5766bde72afc-c000.snappy.parquet, 1314, {\"numRecords\":7,\"minValues\":{\"Name\":\"AAA\",\"ID\":1,\"salary\":1000.0},\"maxValues\":{\"Name\":\"ddd\",\"ID\":4,\"salary\":2000.0},\"nullCount\":{\"Name\":0,\"ID\":0,\"salary\":0}}, List(1746694835000000, 1746702171000000, 1746694835000000, 268435456, 451bae7b-7d53-4f15-9123-1300eb9fa2e3, [\"cust_id\"], hilbert))</td><td>null</td><td>null</td></tr></tbody></table></div>"
      ]
     },
     "metadata": {
      "application/vnd.databricks.v1+output": {
       "addedWidgets": {},
       "aggData": [],
       "aggError": "",
       "aggOverflow": false,
       "aggSchema": [],
       "aggSeriesLimitReached": false,
       "aggType": "",
       "arguments": {},
       "columnCustomDisplayInfos": {},
       "data": [
        [
         null,
         [
          "0509-071452-exzuppom",
          "Databricks-Runtime/12.2.x-scala2.12",
          false,
          "SnapshotIsolation",
          [
           "2116935914246921"
          ],
          "OPTIMIZE",
          [
           "1314",
           "1314",
           "1314",
           "1",
           "0",
           "5313",
           "5",
           "1314",
           "1314",
           "1314"
          ],
          [
           false,
           "0",
           "[]",
           "[\"cust_id\"]"
          ],
          15,
          1746777697560,
          "9b653dd6-d2e2-4496-9144-f963670eac1a",
          "7635163290231677",
          "contacttopaone@gmail.com"
         ],
         null
        ],
        [
         null,
         null,
         [
          false,
          1746777695292,
          true,
          "part-00000-1964a13a-2463-4d15-9450-1066353c0405-c000.snappy.parquet",
          1059,
          [
           "1746694835000000",
           "1746694835000000",
           "1746694835000000",
           "268435456"
          ]
         ]
        ],
        [
         null,
         null,
         [
          false,
          1746777695292,
          true,
          "part-00000-8a491ec0-ce24-43f1-a7a1-6149082cc3c0-c000.snappy.parquet",
          1068,
          [
           "1746702171000000",
           "1746702171000000",
           "1746702171000000",
           "268435456"
          ]
         ]
        ],
        [
         null,
         null,
         [
          false,
          1746777695292,
          true,
          "part-00000-cb4d2108-66b9-4d2e-9b2e-9e69e0ff3fee-c000.snappy.parquet",
          1068,
          [
           "1746695263000000",
           "1746695263000000",
           "1746695263000000",
           "268435456"
          ]
         ]
        ],
        [
         null,
         null,
         [
          false,
          1746777695292,
          true,
          "part-00001-b89063b3-0ed9-4365-96e8-1b617d3bedde-c000.snappy.parquet",
          1059,
          [
           "1746694851000000",
           "1746694851000000",
           "1746694851000000",
           "268435456"
          ]
         ]
        ],
        [
         null,
         null,
         [
          false,
          1746777695292,
          true,
          "part-00002-593e260c-9942-499f-8e6e-0cc8769a3e64-c000.snappy.parquet",
          1059,
          [
           "1746702155000000",
           "1746702155000000",
           "1746702155000000",
           "268435456"
          ]
         ]
        ],
        [
         [
          false,
          1746777698000,
          "1q/part-00000-45d2e0dd-a6dd-4364-a329-5766bde72afc-c000.snappy.parquet",
          1314,
          "{\"numRecords\":7,\"minValues\":{\"Name\":\"AAA\",\"ID\":1,\"salary\":1000.0},\"maxValues\":{\"Name\":\"ddd\",\"ID\":4,\"salary\":2000.0},\"nullCount\":{\"Name\":0,\"ID\":0,\"salary\":0}}",
          [
           "1746694835000000",
           "1746702171000000",
           "1746694835000000",
           "268435456",
           "451bae7b-7d53-4f15-9123-1300eb9fa2e3",
           "[\"cust_id\"]",
           "hilbert"
          ]
         ],
         null,
         null
        ]
       ],
       "datasetInfos": [],
       "dbfsResultPath": null,
       "isJsonSchema": true,
       "metadata": {},
       "overflow": false,
       "plotOptions": {
        "customPlotOptions": {},
        "displayType": "table",
        "pivotAggregation": null,
        "pivotColumns": null,
        "xColumns": null,
        "yColumns": null
       },
       "removedWidgets": [],
       "schema": [
        {
         "metadata": "{}",
         "name": "add",
         "type": "{\"type\":\"struct\",\"fields\":[{\"name\":\"dataChange\",\"type\":\"boolean\",\"nullable\":true,\"metadata\":{}},{\"name\":\"modificationTime\",\"type\":\"long\",\"nullable\":true,\"metadata\":{}},{\"name\":\"path\",\"type\":\"string\",\"nullable\":true,\"metadata\":{}},{\"name\":\"size\",\"type\":\"long\",\"nullable\":true,\"metadata\":{}},{\"name\":\"stats\",\"type\":\"string\",\"nullable\":true,\"metadata\":{}},{\"name\":\"tags\",\"type\":{\"type\":\"struct\",\"fields\":[{\"name\":\"INSERTION_TIME\",\"type\":\"string\",\"nullable\":true,\"metadata\":{}},{\"name\":\"MAX_INSERTION_TIME\",\"type\":\"string\",\"nullable\":true,\"metadata\":{}},{\"name\":\"MIN_INSERTION_TIME\",\"type\":\"string\",\"nullable\":true,\"metadata\":{}},{\"name\":\"OPTIMIZE_TARGET_SIZE\",\"type\":\"string\",\"nullable\":true,\"metadata\":{}},{\"name\":\"ZCUBE_ID\",\"type\":\"string\",\"nullable\":true,\"metadata\":{}},{\"name\":\"ZCUBE_ZORDER_BY\",\"type\":\"string\",\"nullable\":true,\"metadata\":{}},{\"name\":\"ZCUBE_ZORDER_CURVE\",\"type\":\"string\",\"nullable\":true,\"metadata\":{}}]},\"nullable\":true,\"metadata\":{}}]}"
        },
        {
         "metadata": "{}",
         "name": "commitInfo",
         "type": "{\"type\":\"struct\",\"fields\":[{\"name\":\"clusterId\",\"type\":\"string\",\"nullable\":true,\"metadata\":{}},{\"name\":\"engineInfo\",\"type\":\"string\",\"nullable\":true,\"metadata\":{}},{\"name\":\"isBlindAppend\",\"type\":\"boolean\",\"nullable\":true,\"metadata\":{}},{\"name\":\"isolationLevel\",\"type\":\"string\",\"nullable\":true,\"metadata\":{}},{\"name\":\"notebook\",\"type\":{\"type\":\"struct\",\"fields\":[{\"name\":\"notebookId\",\"type\":\"string\",\"nullable\":true,\"metadata\":{}}]},\"nullable\":true,\"metadata\":{}},{\"name\":\"operation\",\"type\":\"string\",\"nullable\":true,\"metadata\":{}},{\"name\":\"operationMetrics\",\"type\":{\"type\":\"struct\",\"fields\":[{\"name\":\"maxFileSize\",\"type\":\"string\",\"nullable\":true,\"metadata\":{}},{\"name\":\"minFileSize\",\"type\":\"string\",\"nullable\":true,\"metadata\":{}},{\"name\":\"numAddedBytes\",\"type\":\"string\",\"nullable\":true,\"metadata\":{}},{\"name\":\"numAddedFiles\",\"type\":\"string\",\"nullable\":true,\"metadata\":{}},{\"name\":\"numDeletionVectorsRemoved\",\"type\":\"string\",\"nullable\":true,\"metadata\":{}},{\"name\":\"numRemovedBytes\",\"type\":\"string\",\"nullable\":true,\"metadata\":{}},{\"name\":\"numRemovedFiles\",\"type\":\"string\",\"nullable\":true,\"metadata\":{}},{\"name\":\"p25FileSize\",\"type\":\"string\",\"nullable\":true,\"metadata\":{}},{\"name\":\"p50FileSize\",\"type\":\"string\",\"nullable\":true,\"metadata\":{}},{\"name\":\"p75FileSize\",\"type\":\"string\",\"nullable\":true,\"metadata\":{}}]},\"nullable\":true,\"metadata\":{}},{\"name\":\"operationParameters\",\"type\":{\"type\":\"struct\",\"fields\":[{\"name\":\"auto\",\"type\":\"boolean\",\"nullable\":true,\"metadata\":{}},{\"name\":\"batchId\",\"type\":\"string\",\"nullable\":true,\"metadata\":{}},{\"name\":\"predicate\",\"type\":\"string\",\"nullable\":true,\"metadata\":{}},{\"name\":\"zOrderBy\",\"type\":\"string\",\"nullable\":true,\"metadata\":{}}]},\"nullable\":true,\"metadata\":{}},{\"name\":\"readVersion\",\"type\":\"long\",\"nullable\":true,\"metadata\":{}},{\"name\":\"timestamp\",\"type\":\"long\",\"nullable\":true,\"metadata\":{}},{\"name\":\"txnId\",\"type\":\"string\",\"nullable\":true,\"metadata\":{}},{\"name\":\"userId\",\"type\":\"string\",\"nullable\":true,\"metadata\":{}},{\"name\":\"userName\",\"type\":\"string\",\"nullable\":true,\"metadata\":{}}]}"
        },
        {
         "metadata": "{}",
         "name": "remove",
         "type": "{\"type\":\"struct\",\"fields\":[{\"name\":\"dataChange\",\"type\":\"boolean\",\"nullable\":true,\"metadata\":{}},{\"name\":\"deletionTimestamp\",\"type\":\"long\",\"nullable\":true,\"metadata\":{}},{\"name\":\"extendedFileMetadata\",\"type\":\"boolean\",\"nullable\":true,\"metadata\":{}},{\"name\":\"path\",\"type\":\"string\",\"nullable\":true,\"metadata\":{}},{\"name\":\"size\",\"type\":\"long\",\"nullable\":true,\"metadata\":{}},{\"name\":\"tags\",\"type\":{\"type\":\"struct\",\"fields\":[{\"name\":\"INSERTION_TIME\",\"type\":\"string\",\"nullable\":true,\"metadata\":{}},{\"name\":\"MAX_INSERTION_TIME\",\"type\":\"string\",\"nullable\":true,\"metadata\":{}},{\"name\":\"MIN_INSERTION_TIME\",\"type\":\"string\",\"nullable\":true,\"metadata\":{}},{\"name\":\"OPTIMIZE_TARGET_SIZE\",\"type\":\"string\",\"nullable\":true,\"metadata\":{}}]},\"nullable\":true,\"metadata\":{}}]}"
        }
       ],
       "type": "table"
      }
     },
     "output_type": "display_data"
    }
   ],
   "source": [
    "\n",
    "%python\n",
    "''' to read the content of json file'''\n",
    "\n",
    "df = spark.read.json(\"/FileStore/OpenTableFormat/sinkdata/my_delta_table2/_delta_log/00000000000000000016.json\")\n",
    "display(df)"
   ]
  },
  {
   "cell_type": "markdown",
   "metadata": {
    "application/vnd.databricks.v1+cell": {
     "cellMetadata": {},
     "inputWidgets": {},
     "nuid": "f0e6a902-df00-4640-b630-32fb4226a73b",
     "showTitle": false,
     "tableResultSettingsMap": {},
     "title": ""
    }
   },
   "source": [
    "### DELETION VECTOR ENABLE\n"
   ]
  },
  {
   "cell_type": "code",
   "execution_count": 0,
   "metadata": {
    "application/vnd.databricks.v1+cell": {
     "cellMetadata": {
      "byteLimit": 2048000,
      "rowLimit": 10000
     },
     "inputWidgets": {},
     "nuid": "8590e4f9-0ab1-49c8-bc9c-806b8f286918",
     "showTitle": false,
     "tableResultSettingsMap": {},
     "title": ""
    }
   },
   "outputs": [
    {
     "output_type": "display_data",
     "data": {
      "text/html": [
       "<style scoped>\n",
       "  .table-result-container {\n",
       "    max-height: 300px;\n",
       "    overflow: auto;\n",
       "  }\n",
       "  table, th, td {\n",
       "    border: 1px solid black;\n",
       "    border-collapse: collapse;\n",
       "  }\n",
       "  th, td {\n",
       "    padding: 5px;\n",
       "  }\n",
       "  th {\n",
       "    text-align: left;\n",
       "  }\n",
       "</style><div class='table-result-container'><table class='table-result'><thead style='background-color: white'><tr></tr></thead><tbody></tbody></table></div>"
      ]
     },
     "metadata": {
      "application/vnd.databricks.v1+output": {
       "addedWidgets": {},
       "aggData": [],
       "aggError": "",
       "aggOverflow": false,
       "aggSchema": [],
       "aggSeriesLimitReached": false,
       "aggType": "",
       "arguments": {},
       "columnCustomDisplayInfos": {},
       "data": [],
       "datasetInfos": [],
       "dbfsResultPath": null,
       "isJsonSchema": true,
       "metadata": {
        "isDbfsCommandResult": false
       },
       "overflow": false,
       "plotOptions": {
        "customPlotOptions": {},
        "displayType": "table",
        "pivotAggregation": null,
        "pivotColumns": null,
        "xColumns": null,
        "yColumns": null
       },
       "removedWidgets": [],
       "schema": [],
       "type": "table"
      }
     },
     "output_type": "display_data"
    }
   ],
   "source": [
    "%sql\n",
    "create table bronze.new_delta\n",
    "(\n",
    "  id int,\n",
    "  name string\n",
    ")\n",
    "using delta\n",
    "location '/FileStore/OpenTableFormat/sinkdata/new_delta'"
   ]
  },
  {
   "cell_type": "code",
   "execution_count": 0,
   "metadata": {
    "application/vnd.databricks.v1+cell": {
     "cellMetadata": {
      "byteLimit": 2048000,
      "rowLimit": 10000
     },
     "inputWidgets": {},
     "nuid": "83bc386e-0214-4d05-b386-1fd7c6182763",
     "showTitle": false,
     "tableResultSettingsMap": {},
     "title": ""
    }
   },
   "outputs": [
    {
     "output_type": "display_data",
     "data": {
      "text/html": [
       "<style scoped>\n",
       "  .table-result-container {\n",
       "    max-height: 300px;\n",
       "    overflow: auto;\n",
       "  }\n",
       "  table, th, td {\n",
       "    border: 1px solid black;\n",
       "    border-collapse: collapse;\n",
       "  }\n",
       "  th, td {\n",
       "    padding: 5px;\n",
       "  }\n",
       "  th {\n",
       "    text-align: left;\n",
       "  }\n",
       "</style><div class='table-result-container'><table class='table-result'><thead style='background-color: white'><tr><th>num_affected_rows</th><th>num_inserted_rows</th></tr></thead><tbody><tr><td>3</td><td>3</td></tr></tbody></table></div>"
      ]
     },
     "metadata": {
      "application/vnd.databricks.v1+output": {
       "addedWidgets": {},
       "aggData": [],
       "aggError": "",
       "aggOverflow": false,
       "aggSchema": [],
       "aggSeriesLimitReached": false,
       "aggType": "",
       "arguments": {},
       "columnCustomDisplayInfos": {},
       "data": [
        [
         3,
         3
        ]
       ],
       "datasetInfos": [],
       "dbfsResultPath": null,
       "isJsonSchema": true,
       "metadata": {
        "isDbfsCommandResult": false
       },
       "overflow": false,
       "plotOptions": {
        "customPlotOptions": {},
        "displayType": "table",
        "pivotAggregation": null,
        "pivotColumns": null,
        "xColumns": null,
        "yColumns": null
       },
       "removedWidgets": [],
       "schema": [
        {
         "metadata": "{}",
         "name": "num_affected_rows",
         "type": "\"long\""
        },
        {
         "metadata": "{}",
         "name": "num_inserted_rows",
         "type": "\"long\""
        }
       ],
       "type": "table"
      }
     },
     "output_type": "display_data"
    }
   ],
   "source": [
    "%sql\n",
    "insert into bronze.new_delta\n",
    "values\n",
    "(4,'aa'),\n",
    "(5,'bb'),\n",
    "(6,'cc') \n"
   ]
  },
  {
   "cell_type": "code",
   "execution_count": 0,
   "metadata": {
    "application/vnd.databricks.v1+cell": {
     "cellMetadata": {
      "byteLimit": 2048000,
      "rowLimit": 10000
     },
     "inputWidgets": {},
     "nuid": "4921d523-6bab-42fa-a170-5314d1deb285",
     "showTitle": false,
     "tableResultSettingsMap": {},
     "title": ""
    }
   },
   "outputs": [
    {
     "output_type": "display_data",
     "data": {
      "text/html": [
       "<style scoped>\n",
       "  .table-result-container {\n",
       "    max-height: 300px;\n",
       "    overflow: auto;\n",
       "  }\n",
       "  table, th, td {\n",
       "    border: 1px solid black;\n",
       "    border-collapse: collapse;\n",
       "  }\n",
       "  th, td {\n",
       "    padding: 5px;\n",
       "  }\n",
       "  th {\n",
       "    text-align: left;\n",
       "  }\n",
       "</style><div class='table-result-container'><table class='table-result'><thead style='background-color: white'><tr><th>num_affected_rows</th></tr></thead><tbody><tr><td>1</td></tr></tbody></table></div>"
      ]
     },
     "metadata": {
      "application/vnd.databricks.v1+output": {
       "addedWidgets": {},
       "aggData": [],
       "aggError": "",
       "aggOverflow": false,
       "aggSchema": [],
       "aggSeriesLimitReached": false,
       "aggType": "",
       "arguments": {},
       "columnCustomDisplayInfos": {},
       "data": [
        [
         1
        ]
       ],
       "datasetInfos": [],
       "dbfsResultPath": null,
       "isJsonSchema": true,
       "metadata": {
        "isDbfsCommandResult": false
       },
       "overflow": false,
       "plotOptions": {
        "customPlotOptions": {},
        "displayType": "table",
        "pivotAggregation": null,
        "pivotColumns": null,
        "xColumns": null,
        "yColumns": null
       },
       "removedWidgets": [],
       "schema": [
        {
         "metadata": "{}",
         "name": "num_affected_rows",
         "type": "\"long\""
        }
       ],
       "type": "table"
      }
     },
     "output_type": "display_data"
    }
   ],
   "source": [
    "%sql\n",
    "update bronze.new_delta \n",
    "set name = 'ZZ' where id =6"
   ]
  },
  {
   "cell_type": "code",
   "execution_count": 0,
   "metadata": {
    "application/vnd.databricks.v1+cell": {
     "cellMetadata": {
      "byteLimit": 2048000,
      "rowLimit": 10000
     },
     "inputWidgets": {},
     "nuid": "c956a9fa-f329-48a4-9afb-91ef20d1824e",
     "showTitle": false,
     "tableResultSettingsMap": {},
     "title": ""
    }
   },
   "outputs": [
    {
     "output_type": "display_data",
     "data": {
      "text/html": [
       "<style scoped>\n",
       "  .table-result-container {\n",
       "    max-height: 300px;\n",
       "    overflow: auto;\n",
       "  }\n",
       "  table, th, td {\n",
       "    border: 1px solid black;\n",
       "    border-collapse: collapse;\n",
       "  }\n",
       "  th, td {\n",
       "    padding: 5px;\n",
       "  }\n",
       "  th {\n",
       "    text-align: left;\n",
       "  }\n",
       "</style><div class='table-result-container'><table class='table-result'><thead style='background-color: white'><tr><th>add</th><th>commitInfo</th><th>remove</th></tr></thead><tbody><tr><td>null</td><td>List(0509-071452-exzuppom, Databricks-Runtime/12.2.x-scala2.12, false, WriteSerializable, List(2116935914246921), UPDATE, List(2718, 806, 0, 1, 2, 0, 0, 806, 1, 1, 916, 1781), List([\"(id#9802 = 6)\"]), 2, 1746779973511, 48403121-3143-4b3a-8b7e-03b5f66150f7, 7635163290231677, contacttopaone@gmail.com)</td><td>null</td></tr><tr><td>null</td><td>null</td><td>List(true, 1746779973497, true, part-00000-8f479628-f93a-40b4-80a0-c2049ce5403a-c000.snappy.parquet, 806, List(1746779866000000, 1746779866000000, 1746779866000000, 268435456))</td></tr><tr><td>List(true, 1746779974000, part-00000-3212ebc3-b1ed-42a1-8b3e-44ecc51f897e-c000.snappy.parquet, 806, {\"numRecords\":3,\"minValues\":{\"id\":4,\"name\":\"ZZ\"},\"maxValues\":{\"id\":6,\"name\":\"bb\"},\"nullCount\":{\"id\":0,\"name\":0}}, List(1746779866000000, 1746779866000000, 1746779866000000, 268435456))</td><td>null</td><td>null</td></tr></tbody></table></div>"
      ]
     },
     "metadata": {
      "application/vnd.databricks.v1+output": {
       "addedWidgets": {},
       "aggData": [],
       "aggError": "",
       "aggOverflow": false,
       "aggSchema": [],
       "aggSeriesLimitReached": false,
       "aggType": "",
       "arguments": {},
       "columnCustomDisplayInfos": {},
       "data": [
        [
         null,
         [
          "0509-071452-exzuppom",
          "Databricks-Runtime/12.2.x-scala2.12",
          false,
          "WriteSerializable",
          [
           "2116935914246921"
          ],
          "UPDATE",
          [
           "2718",
           "806",
           "0",
           "1",
           "2",
           "0",
           "0",
           "806",
           "1",
           "1",
           "916",
           "1781"
          ],
          [
           "[\"(id#9802 = 6)\"]"
          ],
          2,
          1746779973511,
          "48403121-3143-4b3a-8b7e-03b5f66150f7",
          "7635163290231677",
          "contacttopaone@gmail.com"
         ],
         null
        ],
        [
         null,
         null,
         [
          true,
          1746779973497,
          true,
          "part-00000-8f479628-f93a-40b4-80a0-c2049ce5403a-c000.snappy.parquet",
          806,
          [
           "1746779866000000",
           "1746779866000000",
           "1746779866000000",
           "268435456"
          ]
         ]
        ],
        [
         [
          true,
          1746779974000,
          "part-00000-3212ebc3-b1ed-42a1-8b3e-44ecc51f897e-c000.snappy.parquet",
          806,
          "{\"numRecords\":3,\"minValues\":{\"id\":4,\"name\":\"ZZ\"},\"maxValues\":{\"id\":6,\"name\":\"bb\"},\"nullCount\":{\"id\":0,\"name\":0}}",
          [
           "1746779866000000",
           "1746779866000000",
           "1746779866000000",
           "268435456"
          ]
         ],
         null,
         null
        ]
       ],
       "datasetInfos": [],
       "dbfsResultPath": null,
       "isJsonSchema": true,
       "metadata": {},
       "overflow": false,
       "plotOptions": {
        "customPlotOptions": {},
        "displayType": "table",
        "pivotAggregation": null,
        "pivotColumns": null,
        "xColumns": null,
        "yColumns": null
       },
       "removedWidgets": [],
       "schema": [
        {
         "metadata": "{}",
         "name": "add",
         "type": "{\"type\":\"struct\",\"fields\":[{\"name\":\"dataChange\",\"type\":\"boolean\",\"nullable\":true,\"metadata\":{}},{\"name\":\"modificationTime\",\"type\":\"long\",\"nullable\":true,\"metadata\":{}},{\"name\":\"path\",\"type\":\"string\",\"nullable\":true,\"metadata\":{}},{\"name\":\"size\",\"type\":\"long\",\"nullable\":true,\"metadata\":{}},{\"name\":\"stats\",\"type\":\"string\",\"nullable\":true,\"metadata\":{}},{\"name\":\"tags\",\"type\":{\"type\":\"struct\",\"fields\":[{\"name\":\"INSERTION_TIME\",\"type\":\"string\",\"nullable\":true,\"metadata\":{}},{\"name\":\"MAX_INSERTION_TIME\",\"type\":\"string\",\"nullable\":true,\"metadata\":{}},{\"name\":\"MIN_INSERTION_TIME\",\"type\":\"string\",\"nullable\":true,\"metadata\":{}},{\"name\":\"OPTIMIZE_TARGET_SIZE\",\"type\":\"string\",\"nullable\":true,\"metadata\":{}}]},\"nullable\":true,\"metadata\":{}}]}"
        },
        {
         "metadata": "{}",
         "name": "commitInfo",
         "type": "{\"type\":\"struct\",\"fields\":[{\"name\":\"clusterId\",\"type\":\"string\",\"nullable\":true,\"metadata\":{}},{\"name\":\"engineInfo\",\"type\":\"string\",\"nullable\":true,\"metadata\":{}},{\"name\":\"isBlindAppend\",\"type\":\"boolean\",\"nullable\":true,\"metadata\":{}},{\"name\":\"isolationLevel\",\"type\":\"string\",\"nullable\":true,\"metadata\":{}},{\"name\":\"notebook\",\"type\":{\"type\":\"struct\",\"fields\":[{\"name\":\"notebookId\",\"type\":\"string\",\"nullable\":true,\"metadata\":{}}]},\"nullable\":true,\"metadata\":{}},{\"name\":\"operation\",\"type\":\"string\",\"nullable\":true,\"metadata\":{}},{\"name\":\"operationMetrics\",\"type\":{\"type\":\"struct\",\"fields\":[{\"name\":\"executionTimeMs\",\"type\":\"string\",\"nullable\":true,\"metadata\":{}},{\"name\":\"numAddedBytes\",\"type\":\"string\",\"nullable\":true,\"metadata\":{}},{\"name\":\"numAddedChangeFiles\",\"type\":\"string\",\"nullable\":true,\"metadata\":{}},{\"name\":\"numAddedFiles\",\"type\":\"string\",\"nullable\":true,\"metadata\":{}},{\"name\":\"numCopiedRows\",\"type\":\"string\",\"nullable\":true,\"metadata\":{}},{\"name\":\"numDeletionVectorsAdded\",\"type\":\"string\",\"nullable\":true,\"metadata\":{}},{\"name\":\"numDeletionVectorsRemoved\",\"type\":\"string\",\"nullable\":true,\"metadata\":{}},{\"name\":\"numRemovedBytes\",\"type\":\"string\",\"nullable\":true,\"metadata\":{}},{\"name\":\"numRemovedFiles\",\"type\":\"string\",\"nullable\":true,\"metadata\":{}},{\"name\":\"numUpdatedRows\",\"type\":\"string\",\"nullable\":true,\"metadata\":{}},{\"name\":\"rewriteTimeMs\",\"type\":\"string\",\"nullable\":true,\"metadata\":{}},{\"name\":\"scanTimeMs\",\"type\":\"string\",\"nullable\":true,\"metadata\":{}}]},\"nullable\":true,\"metadata\":{}},{\"name\":\"operationParameters\",\"type\":{\"type\":\"struct\",\"fields\":[{\"name\":\"predicate\",\"type\":\"string\",\"nullable\":true,\"metadata\":{}}]},\"nullable\":true,\"metadata\":{}},{\"name\":\"readVersion\",\"type\":\"long\",\"nullable\":true,\"metadata\":{}},{\"name\":\"timestamp\",\"type\":\"long\",\"nullable\":true,\"metadata\":{}},{\"name\":\"txnId\",\"type\":\"string\",\"nullable\":true,\"metadata\":{}},{\"name\":\"userId\",\"type\":\"string\",\"nullable\":true,\"metadata\":{}},{\"name\":\"userName\",\"type\":\"string\",\"nullable\":true,\"metadata\":{}}]}"
        },
        {
         "metadata": "{}",
         "name": "remove",
         "type": "{\"type\":\"struct\",\"fields\":[{\"name\":\"dataChange\",\"type\":\"boolean\",\"nullable\":true,\"metadata\":{}},{\"name\":\"deletionTimestamp\",\"type\":\"long\",\"nullable\":true,\"metadata\":{}},{\"name\":\"extendedFileMetadata\",\"type\":\"boolean\",\"nullable\":true,\"metadata\":{}},{\"name\":\"path\",\"type\":\"string\",\"nullable\":true,\"metadata\":{}},{\"name\":\"size\",\"type\":\"long\",\"nullable\":true,\"metadata\":{}},{\"name\":\"tags\",\"type\":{\"type\":\"struct\",\"fields\":[{\"name\":\"INSERTION_TIME\",\"type\":\"string\",\"nullable\":true,\"metadata\":{}},{\"name\":\"MAX_INSERTION_TIME\",\"type\":\"string\",\"nullable\":true,\"metadata\":{}},{\"name\":\"MIN_INSERTION_TIME\",\"type\":\"string\",\"nullable\":true,\"metadata\":{}},{\"name\":\"OPTIMIZE_TARGET_SIZE\",\"type\":\"string\",\"nullable\":true,\"metadata\":{}}]},\"nullable\":true,\"metadata\":{}}]}"
        }
       ],
       "type": "table"
      }
     },
     "output_type": "display_data"
    }
   ],
   "source": [
    "%python\n",
    "\n",
    "'''By default the deletion vector has not been enabled , so we can manually enable it. This happened only in the community edition while in enterprise it will be automaticallly enabled'''\n",
    "\n",
    "df = spark.read.json('/FileStore/OpenTableFormat/sinkdata/new_delta/_delta_log/00000000000000000003.json')\n",
    "display(df)"
   ]
  },
  {
   "cell_type": "code",
   "execution_count": 0,
   "metadata": {
    "application/vnd.databricks.v1+cell": {
     "cellMetadata": {
      "byteLimit": 2048000,
      "rowLimit": 10000
     },
     "inputWidgets": {},
     "nuid": "3c8eb2e9-489e-4c19-bd99-5723557340ab",
     "showTitle": false,
     "tableResultSettingsMap": {},
     "title": ""
    }
   },
   "outputs": [
    {
     "output_type": "display_data",
     "data": {
      "text/html": [
       "<style scoped>\n",
       "  .table-result-container {\n",
       "    max-height: 300px;\n",
       "    overflow: auto;\n",
       "  }\n",
       "  table, th, td {\n",
       "    border: 1px solid black;\n",
       "    border-collapse: collapse;\n",
       "  }\n",
       "  th, td {\n",
       "    padding: 5px;\n",
       "  }\n",
       "  th {\n",
       "    text-align: left;\n",
       "  }\n",
       "</style><div class='table-result-container'><table class='table-result'><thead style='background-color: white'><tr></tr></thead><tbody></tbody></table></div>"
      ]
     },
     "metadata": {
      "application/vnd.databricks.v1+output": {
       "addedWidgets": {},
       "aggData": [],
       "aggError": "",
       "aggOverflow": false,
       "aggSchema": [],
       "aggSeriesLimitReached": false,
       "aggType": "",
       "arguments": {},
       "columnCustomDisplayInfos": {},
       "data": [],
       "datasetInfos": [],
       "dbfsResultPath": null,
       "isJsonSchema": true,
       "metadata": {
        "isDbfsCommandResult": false
       },
       "overflow": false,
       "plotOptions": {
        "customPlotOptions": {},
        "displayType": "table",
        "pivotAggregation": null,
        "pivotColumns": null,
        "xColumns": null,
        "yColumns": null
       },
       "removedWidgets": [],
       "schema": [],
       "type": "table"
      }
     },
     "output_type": "display_data"
    }
   ],
   "source": [
    "%sql\n",
    "create table bronze.new_delta2\n",
    "(\n",
    "  id int,\n",
    "  name string\n",
    ")\n",
    "using delta\n",
    "location '/FileStore/OpenTableFormat/sinkdata/new_delta2'"
   ]
  },
  {
   "cell_type": "code",
   "execution_count": 0,
   "metadata": {
    "application/vnd.databricks.v1+cell": {
     "cellMetadata": {
      "byteLimit": 2048000,
      "rowLimit": 10000
     },
     "inputWidgets": {},
     "nuid": "6407d158-a7e2-442f-8780-6625abd63712",
     "showTitle": false,
     "tableResultSettingsMap": {},
     "title": ""
    }
   },
   "outputs": [
    {
     "output_type": "display_data",
     "data": {
      "text/html": [
       "<style scoped>\n",
       "  .table-result-container {\n",
       "    max-height: 300px;\n",
       "    overflow: auto;\n",
       "  }\n",
       "  table, th, td {\n",
       "    border: 1px solid black;\n",
       "    border-collapse: collapse;\n",
       "  }\n",
       "  th, td {\n",
       "    padding: 5px;\n",
       "  }\n",
       "  th {\n",
       "    text-align: left;\n",
       "  }\n",
       "</style><div class='table-result-container'><table class='table-result'><thead style='background-color: white'><tr></tr></thead><tbody></tbody></table></div>"
      ]
     },
     "metadata": {
      "application/vnd.databricks.v1+output": {
       "addedWidgets": {},
       "aggData": [],
       "aggError": "",
       "aggOverflow": false,
       "aggSchema": [],
       "aggSeriesLimitReached": false,
       "aggType": "",
       "arguments": {},
       "columnCustomDisplayInfos": {},
       "data": [],
       "datasetInfos": [],
       "dbfsResultPath": null,
       "isJsonSchema": true,
       "metadata": {
        "isDbfsCommandResult": false
       },
       "overflow": false,
       "plotOptions": {
        "customPlotOptions": {},
        "displayType": "table",
        "pivotAggregation": null,
        "pivotColumns": null,
        "xColumns": null,
        "yColumns": null
       },
       "removedWidgets": [],
       "schema": [],
       "type": "table"
      }
     },
     "output_type": "display_data"
    }
   ],
   "source": [
    "%sql\n",
    "-- We will trun on the deletion vector\n",
    "\n",
    "ALTER TABLE bronze.new_delta2\n",
    "SET TBLPROPERTIES ('delta.enableDeletionVectors' = true);"
   ]
  },
  {
   "cell_type": "code",
   "execution_count": 0,
   "metadata": {
    "application/vnd.databricks.v1+cell": {
     "cellMetadata": {
      "byteLimit": 2048000,
      "rowLimit": 10000
     },
     "inputWidgets": {},
     "nuid": "3b77dcea-c55c-4788-9118-557e51f8ff19",
     "showTitle": false,
     "tableResultSettingsMap": {},
     "title": ""
    }
   },
   "outputs": [
    {
     "output_type": "display_data",
     "data": {
      "text/html": [
       "<style scoped>\n",
       "  .table-result-container {\n",
       "    max-height: 300px;\n",
       "    overflow: auto;\n",
       "  }\n",
       "  table, th, td {\n",
       "    border: 1px solid black;\n",
       "    border-collapse: collapse;\n",
       "  }\n",
       "  th, td {\n",
       "    padding: 5px;\n",
       "  }\n",
       "  th {\n",
       "    text-align: left;\n",
       "  }\n",
       "</style><div class='table-result-container'><table class='table-result'><thead style='background-color: white'><tr><th>num_affected_rows</th><th>num_inserted_rows</th></tr></thead><tbody><tr><td>3</td><td>3</td></tr></tbody></table></div>"
      ]
     },
     "metadata": {
      "application/vnd.databricks.v1+output": {
       "addedWidgets": {},
       "aggData": [],
       "aggError": "",
       "aggOverflow": false,
       "aggSchema": [],
       "aggSeriesLimitReached": false,
       "aggType": "",
       "arguments": {},
       "columnCustomDisplayInfos": {},
       "data": [
        [
         3,
         3
        ]
       ],
       "datasetInfos": [],
       "dbfsResultPath": null,
       "isJsonSchema": true,
       "metadata": {
        "isDbfsCommandResult": false
       },
       "overflow": false,
       "plotOptions": {
        "customPlotOptions": {},
        "displayType": "table",
        "pivotAggregation": null,
        "pivotColumns": null,
        "xColumns": null,
        "yColumns": null
       },
       "removedWidgets": [],
       "schema": [
        {
         "metadata": "{}",
         "name": "num_affected_rows",
         "type": "\"long\""
        },
        {
         "metadata": "{}",
         "name": "num_inserted_rows",
         "type": "\"long\""
        }
       ],
       "type": "table"
      }
     },
     "output_type": "display_data"
    }
   ],
   "source": [
    "%sql\n",
    "insert into bronze.new_delta2\n",
    "values\n",
    "(7,'aa'),\n",
    "(8,'bb'),\n",
    "(9,'cc') "
   ]
  },
  {
   "cell_type": "code",
   "execution_count": 0,
   "metadata": {
    "application/vnd.databricks.v1+cell": {
     "cellMetadata": {
      "byteLimit": 2048000,
      "rowLimit": 10000
     },
     "inputWidgets": {},
     "nuid": "62d008ee-f960-4a92-91f3-01dca84c11c6",
     "showTitle": false,
     "tableResultSettingsMap": {},
     "title": ""
    }
   },
   "outputs": [
    {
     "output_type": "display_data",
     "data": {
      "text/html": [
       "<style scoped>\n",
       "  .table-result-container {\n",
       "    max-height: 300px;\n",
       "    overflow: auto;\n",
       "  }\n",
       "  table, th, td {\n",
       "    border: 1px solid black;\n",
       "    border-collapse: collapse;\n",
       "  }\n",
       "  th, td {\n",
       "    padding: 5px;\n",
       "  }\n",
       "  th {\n",
       "    text-align: left;\n",
       "  }\n",
       "</style><div class='table-result-container'><table class='table-result'><thead style='background-color: white'><tr><th>num_affected_rows</th></tr></thead><tbody><tr><td>1</td></tr></tbody></table></div>"
      ]
     },
     "metadata": {
      "application/vnd.databricks.v1+output": {
       "addedWidgets": {},
       "aggData": [],
       "aggError": "",
       "aggOverflow": false,
       "aggSchema": [],
       "aggSeriesLimitReached": false,
       "aggType": "",
       "arguments": {},
       "columnCustomDisplayInfos": {},
       "data": [
        [
         1
        ]
       ],
       "datasetInfos": [],
       "dbfsResultPath": null,
       "isJsonSchema": true,
       "metadata": {
        "isDbfsCommandResult": false
       },
       "overflow": false,
       "plotOptions": {
        "customPlotOptions": {},
        "displayType": "table",
        "pivotAggregation": null,
        "pivotColumns": null,
        "xColumns": null,
        "yColumns": null
       },
       "removedWidgets": [],
       "schema": [
        {
         "metadata": "{}",
         "name": "num_affected_rows",
         "type": "\"long\""
        }
       ],
       "type": "table"
      }
     },
     "output_type": "display_data"
    }
   ],
   "source": [
    "%sql\n",
    "update bronze.new_delta2\n",
    "set name = 'ZZ' where id =6"
   ]
  },
  {
   "cell_type": "markdown",
   "metadata": {
    "application/vnd.databricks.v1+cell": {
     "cellMetadata": {},
     "inputWidgets": {},
     "nuid": "cee94cc5-fce8-40ee-980b-4bcbcc1b9d7a",
     "showTitle": false,
     "tableResultSettingsMap": {},
     "title": ""
    }
   },
   "source": [
    "### Streaming Technique in open format"
   ]
  },
  {
   "cell_type": "code",
   "execution_count": 0,
   "metadata": {
    "application/vnd.databricks.v1+cell": {
     "cellMetadata": {
      "byteLimit": 2048000,
      "rowLimit": 10000
     },
     "inputWidgets": {},
     "nuid": "13620e07-d9ee-4119-81e6-74270929f81f",
     "showTitle": false,
     "tableResultSettingsMap": {},
     "title": ""
    }
   },
   "outputs": [],
   "source": [
    "%python\n",
    "df = spark.readStream.table('bronze.new_delta2')"
   ]
  },
  {
   "cell_type": "code",
   "execution_count": 0,
   "metadata": {
    "application/vnd.databricks.v1+cell": {
     "cellMetadata": {
      "byteLimit": 2048000,
      "rowLimit": 10000
     },
     "inputWidgets": {},
     "nuid": "43865eac-e7ef-471e-9cb7-07e02efe5b6e",
     "showTitle": false,
     "tableResultSettingsMap": {},
     "title": ""
    }
   },
   "outputs": [
    {
     "output_type": "stream",
     "name": "stdout",
     "output_type": "stream",
     "text": [
      "Out[10]: <pyspark.sql.streaming.query.StreamingQuery at 0x7f5fe53b0550>"
     ]
    }
   ],
   "source": [
    "%python\n",
    "\n",
    "df.writeStream.format(\"delta\")\\\n",
    "    .option(\"checkpointLocation\",\"/FileStore/OpenTableFormat/sinkdata/stream_table/checkpoint\")\\\n",
    "    .trigger(processingTime='10 seconds')\\\n",
    "    .option(\"path\",\"/FileStore/OpenTableFormat/sinkdata/stream_table/\")\\\n",
    "    .toTable(\"bronze.streamTable\")"
   ]
  },
  {
   "cell_type": "code",
   "execution_count": 0,
   "metadata": {
    "application/vnd.databricks.v1+cell": {
     "cellMetadata": {
      "byteLimit": 2048000,
      "rowLimit": 10000
     },
     "inputWidgets": {},
     "nuid": "30cdd791-26a0-43b7-8860-693c76ff56a2",
     "showTitle": false,
     "tableResultSettingsMap": {},
     "title": ""
    }
   },
   "outputs": [
    {
     "output_type": "display_data",
     "data": {
      "text/html": [
       "<style scoped>\n",
       "  .table-result-container {\n",
       "    max-height: 300px;\n",
       "    overflow: auto;\n",
       "  }\n",
       "  table, th, td {\n",
       "    border: 1px solid black;\n",
       "    border-collapse: collapse;\n",
       "  }\n",
       "  th, td {\n",
       "    padding: 5px;\n",
       "  }\n",
       "  th {\n",
       "    text-align: left;\n",
       "  }\n",
       "</style><div class='table-result-container'><table class='table-result'><thead style='background-color: white'><tr><th>id</th><th>name</th></tr></thead><tbody><tr><td>1</td><td>aa</td></tr><tr><td>2</td><td>bb</td></tr><tr><td>3</td><td>cc</td></tr><tr><td>4</td><td>aa</td></tr><tr><td>5</td><td>bb</td></tr><tr><td>6</td><td>ZZ</td></tr><tr><td>7</td><td>aa</td></tr><tr><td>8</td><td>bb</td></tr><tr><td>9</td><td>cc</td></tr></tbody></table></div>"
      ]
     },
     "metadata": {
      "application/vnd.databricks.v1+output": {
       "addedWidgets": {},
       "aggData": [],
       "aggError": "",
       "aggOverflow": false,
       "aggSchema": [],
       "aggSeriesLimitReached": false,
       "aggType": "",
       "arguments": {},
       "columnCustomDisplayInfos": {},
       "data": [
        [
         1,
         "aa"
        ],
        [
         2,
         "bb"
        ],
        [
         3,
         "cc"
        ],
        [
         4,
         "aa"
        ],
        [
         5,
         "bb"
        ],
        [
         6,
         "ZZ"
        ],
        [
         7,
         "aa"
        ],
        [
         8,
         "bb"
        ],
        [
         9,
         "cc"
        ]
       ],
       "datasetInfos": [],
       "dbfsResultPath": null,
       "isJsonSchema": true,
       "metadata": {
        "isDbfsCommandResult": false
       },
       "overflow": false,
       "plotOptions": {
        "customPlotOptions": {},
        "displayType": "table",
        "pivotAggregation": null,
        "pivotColumns": null,
        "xColumns": null,
        "yColumns": null
       },
       "removedWidgets": [],
       "schema": [
        {
         "metadata": "{}",
         "name": "id",
         "type": "\"integer\""
        },
        {
         "metadata": "{}",
         "name": "name",
         "type": "\"string\""
        }
       ],
       "type": "table"
      }
     },
     "output_type": "display_data"
    }
   ],
   "source": [
    "%sql\n",
    "select * from bronze.streamTable"
   ]
  },
  {
   "cell_type": "code",
   "execution_count": 0,
   "metadata": {
    "application/vnd.databricks.v1+cell": {
     "cellMetadata": {},
     "inputWidgets": {},
     "nuid": "e4a7c86b-0d8c-4f7e-bff1-206154506c90",
     "showTitle": false,
     "tableResultSettingsMap": {},
     "title": ""
    }
   },
   "outputs": [],
   "source": []
  }
 ],
 "metadata": {
  "application/vnd.databricks.v1+notebook": {
   "computePreferences": null,
   "dashboards": [],
   "environmentMetadata": {
    "base_environment": "",
    "environment_version": "1"
   },
   "inputWidgetPreferences": null,
   "language": "python",
   "notebookMetadata": {
    "mostRecentlyExecutedCommandWithImplicitDF": {
     "commandId": -1,
     "dataframes": [
      "_sqldf"
     ]
    },
    "pythonIndentUnit": 4
   },
   "notebookName": "Notebook1",
   "widgets": {}
  }
 },
 "nbformat": 4,
 "nbformat_minor": 0
}